{
  "nbformat": 4,
  "nbformat_minor": 0,
  "metadata": {
    "colab": {
      "name": "HTTP_GET_Req.ipynb",
      "provenance": [],
      "collapsed_sections": []
    },
    "kernelspec": {
      "display_name": "Python 3",
      "language": "python",
      "name": "python3"
    },
    "language_info": {
      "codemirror_mode": {
        "name": "ipython",
        "version": 3
      },
      "file_extension": ".py",
      "mimetype": "text/x-python",
      "name": "python",
      "nbconvert_exporter": "python",
      "pygments_lexer": "ipython3",
      "version": "3.8.5"
    }
  },
  "cells": [
    {
      "cell_type": "markdown",
      "metadata": {
        "id": "BfK3hfdYZpbH"
      },
      "source": [
        "# Libraries"
      ]
    },
    {
      "cell_type": "code",
      "metadata": {
        "id": "y_HMLHZtAjCz"
      },
      "source": [
        "import requests \n",
        "import pandas as pd\n",
        "import numpy as np\n",
        "import datetime\n",
        "import time\n",
        "#from geopy import *\n",
        "from math import *\n",
        "from xml.etree.ElementTree import parse\n",
        "from xml.etree.ElementTree import fromstring\n",
        "from datetime import timedelta"
      ],
      "execution_count": null,
      "outputs": []
    },
    {
      "cell_type": "code",
      "metadata": {
        "id": "fOHBwp8VAt1a"
      },
      "source": [
        "def first(doc):\n",
        "  \n",
        "  #rows and column for MonitoredStopVisit object\n",
        "  colsMonitoredStopVisit = ['RecordedAtTime', 'ItemIdentifier', 'MonitoringRef']\n",
        "  rowsMonitoredStopVisit = []\n",
        "\n",
        "  #rows and column for MonitoredVehicleJourney object\n",
        "  colsMonitoredVehicleJourney = ['LineRef', 'DirectionRef', 'PublishedLineName','OperatorRef','DestinationRef','OriginAimedDepartureTime',\n",
        "                                'Bearing','Velocity','VehicleRef']\n",
        "  rowsMonitoredVehicleJourney = []\n",
        "\n",
        "  #rows and column for VehicleLocation object\n",
        "  colsVehicleLocation = ['Longitude', 'Latitude']\n",
        "  rowsVehicleLocation = []\n",
        "\n",
        "  #rows and column for MonitoredCall object\n",
        "  colsMonitoredCall = ['StopPointRef', 'Order','ExpectedArrivalTime','DistanceFromStop']\n",
        "  rowsMonitoredCall = []\n",
        "\n",
        "  for document in doc.iterfind('ServiceDelivery'):\n",
        "    for item in document.iterfind('StopMonitoringDelivery'):\n",
        "      print(item.findtext('ResponseTimestamp'))\n",
        "      print(item.findtext('Status'))\n",
        "      for item2 in item.iterfind('MonitoredStopVisit'):\n",
        "        rowsMonitoredStopVisit.append({\n",
        "                    'RecordedAtTime': item2.findtext('RecordedAtTime'), \n",
        "                    'ItemIdentifier': item2.findtext('ItemIdentifier'),\n",
        "                    'MonitoringRef':item2.findtext('MonitoringRef')})\n",
        "        dfMonitoredStopVisit = pd.DataFrame(rowsMonitoredStopVisit, columns = colsMonitoredStopVisit) \n",
        "        for item3 in item2.iterfind('MonitoredVehicleJourney'):\n",
        "          rowsMonitoredVehicleJourney.append({\n",
        "                    'LineRef': item3.findtext('LineRef'), \n",
        "                    'DirectionRef': item3.findtext('DirectionRef'),\n",
        "                    'PublishedLineName':item3.findtext('PublishedLineName'),\n",
        "                    'OperatorRef':item3.findtext('OperatorRef'),\n",
        "                    'DestinationRef':item3.findtext('DestinationRef'),\n",
        "                    'OriginAimedDepartureTime':item3.findtext('OriginAimedDepartureTime'),\n",
        "                    'Bearing':item3.findtext('Bearing'),\n",
        "                    'Velocity':item3.findtext('Velocity'),\n",
        "                    'VehicleRef':item3.findtext('VehicleRef')})      \n",
        "          dfMonitoredVehicleJourney = pd.DataFrame(rowsMonitoredVehicleJourney, columns = colsMonitoredVehicleJourney) \n",
        "          for item4 in item3.iterfind('VehicleLocation'):\n",
        "            rowsVehicleLocation.append({\n",
        "                    'Longitude': item4.findtext('Longitude'), \n",
        "                    'Latitude': item4.findtext('Latitude')})      \n",
        "            dfrowsVehicleLocation = pd.DataFrame(rowsVehicleLocation, columns = colsVehicleLocation)\n",
        "          for item5 in item3.iterfind('MonitoredCall'):\n",
        "            rowsMonitoredCall.append({\n",
        "                    'StopPointRef': item5.findtext('StopPointRef'), \n",
        "                    'Order': item5.findtext('Order'),\n",
        "                    'ExpectedArrivalTime':item5.findtext('ExpectedArrivalTime'),\n",
        "                    'DistanceFromStop':item5.findtext('DistanceFromStop')})      \n",
        "            dfMonitoredCall = pd.DataFrame(rowsMonitoredCall, columns = colsMonitoredCall) "
      ],
      "execution_count": null,
      "outputs": []
    },
    {
      "cell_type": "code",
      "metadata": {
        "id": "10OLffHfA1J_"
      },
      "source": [
        "def secondFunc(doc):\n",
        "    \n",
        "  i=1\n",
        "  #all cols and rows\n",
        "  colsAll = ['RecordedAtTime', 'ItemIdentifier', 'MonitoringRef','LineRef', 'DirectionRef', 'PublishedLineName','OperatorRef','DestinationRef','OriginAimedDepartureTime',\n",
        "                                'Bearing','Velocity','VehicleRef','Latitude','Longitude','StopPointRef', 'Order','ExpectedArrivalTime','DistanceFromStop']\n",
        "  rowsAll = []\n",
        "  for document in doc.iterfind('ServiceDelivery'):\n",
        "    for item in document.iterfind('StopMonitoringDelivery'):\n",
        "      #print(item.findtext('ResponseTimestamp'))\n",
        "      #print(item.findtext('Status'))\n",
        "      for item2 in item.iterfind('MonitoredStopVisit'):\n",
        "        for item3 in item2.iterfind('MonitoredVehicleJourney'):   \n",
        "          for item4 in item3.iterfind('VehicleLocation'):\n",
        "            i = i+1\n",
        "            for item5 in item3.iterfind('MonitoredCall'):\n",
        "              if item3.findtext('PublishedLineName') == '921':\n",
        "                rowsAll.append({\n",
        "                      'RecordedAtTime': item2.findtext('RecordedAtTime'), \n",
        "                      'ItemIdentifier': item2.findtext('ItemIdentifier'),\n",
        "                      'MonitoringRef':item2.findtext('MonitoringRef'),\n",
        "                      'LineRef': item3.findtext('LineRef'), \n",
        "                      'DirectionRef': item3.findtext('DirectionRef'),\n",
        "                      'PublishedLineName':item3.findtext('PublishedLineName'),\n",
        "                      'OperatorRef':item3.findtext('OperatorRef'),\n",
        "                      'DestinationRef':item3.findtext('DestinationRef'),\n",
        "                      'OriginAimedDepartureTime':item3.findtext('OriginAimedDepartureTime'),\n",
        "                      'Bearing':item3.findtext('Bearing'),\n",
        "                      'Velocity':item3.findtext('Velocity'),\n",
        "                      'VehicleRef':item3.findtext('VehicleRef'),\n",
        "                      'Longitude': item4.findtext('Longitude'), \n",
        "                      'Latitude': item4.findtext('Latitude'),\n",
        "                      'StopPointRef': item5.findtext('StopPointRef'), \n",
        "                      'Order': item5.findtext('Order'),\n",
        "                      'ExpectedArrivalTime':item5.findtext('ExpectedArrivalTime'),\n",
        "                      'DistanceFromStop':item5.findtext('DistanceFromStop')})      \n",
        "                #dfMonitoredCall = pd.DataFrame(rowsMonitoredCall, columns = colsMonitoredCall) \n",
        "            dfAll = pd.DataFrame(rowsAll, columns = colsAll)\n",
        "    return dfAll"
      ],
      "execution_count": null,
      "outputs": []
    },
    {
      "cell_type": "markdown",
      "metadata": {
        "id": "mmPk3BOEx1Y9"
      },
      "source": [
        "getting the xml and exporting it an Excel file :  \n",
        "\n",
        "this for loop is set to run 2000 times a day, and collect the  XML file every 15 seconds - with 1 seconds dely using sleep function.\n",
        "\n",
        " using http request we are getting out xml script from ministry of transportation under unique id and password,\n",
        "\n",
        "using the http request from the request library, we pull the data in real time, activating the second function, not before we take out of the given xml defult line, which makes the function less practical. \n",
        "then, the pulled data is saved into temp dataframe, then its added to the final data frame and so on, in each iteration."
      ]
    },
    {
      "cell_type": "code",
      "metadata": {
        "id": "gpCi-0yRx1Y-"
      },
      "source": [
        "for i in range(2000):\n",
        "    #document = parse('transport2.xml')\n",
        "    # url of rss feed \n",
        "    xml='http://moran.mot.gov.il:110/Channels/HTTPChannel/SmQuery/2.8/xml?Key=YP1451616&MonitoringRef=42658,42362,40964,40958,40897,40852,42286,40851,41457,41621,41643,40850,42963&PublishedLineName=921'   \n",
        "    #xml='http://moran.mot.gov.il:110/Channels/HTTPChannel/SmQuery/2.8/xml?Key=YP1451616&MonitoringRef=42658,42362,40964,40958,40897,40852,42286,40851,41457,41621,41643,40850,42963,40847,40845,40839,41454,40836,40834,40832,40833,40841,46176,46177,47041,46179,46180,40253,40240,40243,41705,40757,40161,40097,40059,40060,41711,40082,42133,40772,40110,47962,40079,48138,30352,30358,32784,30404,32781,30379,30401,30386,30361,30341,39374,39337,30302,36476,34238,34237,33810,34236,37865,37861,37206,32734,37209,37254,39684,38303,32409,39628,34063,32259,37655,27059,20176,21654,23034,21705,21472,28660,23013&PublishedLineName=921'\n",
        "    resp = requests.get(xml)\n",
        "    #print(i)\n",
        "    resp2=resp.text\n",
        "    resp2=resp2.replace('xmlns=\"http://www.siri.org.uk/siri\"' ,\"\")\n",
        "    doc=fromstring(resp2)\n",
        "    df_f = secondFunc(doc)\n",
        "    time.sleep(16)\n",
        "    df = df.append(df_f, ignore_index=True)\n",
        "    "
      ],
      "execution_count": null,
      "outputs": []
    },
    {
      "cell_type": "code",
      "metadata": {
        "id": "-IrR7DP0x1ZC"
      },
      "source": [
        "df.to_excel('Some_Name.xls')\n",
        "df = df[0:0]"
      ],
      "execution_count": null,
      "outputs": []
    }
  ]
}