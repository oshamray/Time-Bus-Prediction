{
  "nbformat": 4,
  "nbformat_minor": 0,
  "metadata": {
    "kernelspec": {
      "display_name": "Python 3.7.4 64-bit ('base': conda)",
      "language": "python",
      "name": "python37464bitbaseconda7f78a5efa36a4e7da332686c7905dec4"
    },
    "language_info": {
      "codemirror_mode": {
        "name": "ipython",
        "version": 3
      },
      "file_extension": ".py",
      "mimetype": "text/x-python",
      "name": "python",
      "nbconvert_exporter": "python",
      "pygments_lexer": "ipython3",
      "version": "3.8.5"
    },
    "colab": {
      "name": "Linear Regression .ipynb",
      "provenance": [],
      "collapsed_sections": []
    }
  },
  "cells": [
    {
      "cell_type": "markdown",
      "metadata": {
        "id": "hwS1_NfASBBR"
      },
      "source": [
        "# Yali models testing\n",
        "* [linear regression](#lr)\n",
        "\n",
        "        "
      ]
    },
    {
      "cell_type": "code",
      "metadata": {
        "id": "5VzTbtoYSBBS"
      },
      "source": [
        "import pandas as pd\n",
        "import numpy as np"
      ],
      "execution_count": null,
      "outputs": []
    },
    {
      "cell_type": "markdown",
      "metadata": {
        "id": "vk0ZTuDRSBBV"
      },
      "source": [
        "# Data preprocessing and cleaning\n"
      ]
    },
    {
      "cell_type": "code",
      "metadata": {
        "colab": {
          "base_uri": "https://localhost:8080/",
          "height": 418
        },
        "id": "-Vrv27sZSBBV",
        "outputId": "04257968-90ea-4f8b-dca7-1ed4e80b965e"
      },
      "source": [
        "df=pd.read_excel('final_reg.xls')\n",
        "df"
      ],
      "execution_count": null,
      "outputs": [
        {
          "output_type": "execute_result",
          "data": {
            "text/html": [
              "<div>\n",
              "<style scoped>\n",
              "    .dataframe tbody tr th:only-of-type {\n",
              "        vertical-align: middle;\n",
              "    }\n",
              "\n",
              "    .dataframe tbody tr th {\n",
              "        vertical-align: top;\n",
              "    }\n",
              "\n",
              "    .dataframe thead th {\n",
              "        text-align: right;\n",
              "    }\n",
              "</style>\n",
              "<table border=\"1\" class=\"dataframe\">\n",
              "  <thead>\n",
              "    <tr style=\"text-align: right;\">\n",
              "      <th></th>\n",
              "      <th>Unnamed: 0</th>\n",
              "      <th>WeekDay</th>\n",
              "      <th>Hours</th>\n",
              "      <th>SecMin</th>\n",
              "      <th>Line</th>\n",
              "      <th>o2</th>\n",
              "      <th>o3</th>\n",
              "      <th>o4</th>\n",
              "      <th>o5</th>\n",
              "      <th>o6</th>\n",
              "      <th>o7</th>\n",
              "      <th>o8</th>\n",
              "      <th>o9</th>\n",
              "      <th>o10</th>\n",
              "      <th>o11</th>\n",
              "      <th>o12</th>\n",
              "      <th>o13</th>\n",
              "    </tr>\n",
              "  </thead>\n",
              "  <tbody>\n",
              "    <tr>\n",
              "      <th>0</th>\n",
              "      <td>0</td>\n",
              "      <td>Sun</td>\n",
              "      <td>9</td>\n",
              "      <td>0</td>\n",
              "      <td>921</td>\n",
              "      <td>199</td>\n",
              "      <td>285</td>\n",
              "      <td>325</td>\n",
              "      <td>478</td>\n",
              "      <td>557</td>\n",
              "      <td>620</td>\n",
              "      <td>683</td>\n",
              "      <td>783</td>\n",
              "      <td>858</td>\n",
              "      <td>923</td>\n",
              "      <td>969</td>\n",
              "      <td>1028</td>\n",
              "    </tr>\n",
              "    <tr>\n",
              "      <th>1</th>\n",
              "      <td>1</td>\n",
              "      <td>Sun</td>\n",
              "      <td>9</td>\n",
              "      <td>0</td>\n",
              "      <td>921</td>\n",
              "      <td>208</td>\n",
              "      <td>295</td>\n",
              "      <td>335</td>\n",
              "      <td>486</td>\n",
              "      <td>565</td>\n",
              "      <td>625</td>\n",
              "      <td>689</td>\n",
              "      <td>788</td>\n",
              "      <td>863</td>\n",
              "      <td>929</td>\n",
              "      <td>975</td>\n",
              "      <td>1031</td>\n",
              "    </tr>\n",
              "    <tr>\n",
              "      <th>2</th>\n",
              "      <td>2</td>\n",
              "      <td>Sun</td>\n",
              "      <td>9</td>\n",
              "      <td>0</td>\n",
              "      <td>921</td>\n",
              "      <td>198</td>\n",
              "      <td>300</td>\n",
              "      <td>340</td>\n",
              "      <td>492</td>\n",
              "      <td>571</td>\n",
              "      <td>634</td>\n",
              "      <td>698</td>\n",
              "      <td>800</td>\n",
              "      <td>873</td>\n",
              "      <td>935</td>\n",
              "      <td>979</td>\n",
              "      <td>1025</td>\n",
              "    </tr>\n",
              "    <tr>\n",
              "      <th>3</th>\n",
              "      <td>3</td>\n",
              "      <td>Sun</td>\n",
              "      <td>9</td>\n",
              "      <td>0</td>\n",
              "      <td>921</td>\n",
              "      <td>210</td>\n",
              "      <td>306</td>\n",
              "      <td>346</td>\n",
              "      <td>497</td>\n",
              "      <td>571</td>\n",
              "      <td>631</td>\n",
              "      <td>695</td>\n",
              "      <td>797</td>\n",
              "      <td>874</td>\n",
              "      <td>938</td>\n",
              "      <td>984</td>\n",
              "      <td>1037</td>\n",
              "    </tr>\n",
              "    <tr>\n",
              "      <th>4</th>\n",
              "      <td>4</td>\n",
              "      <td>Sun</td>\n",
              "      <td>9</td>\n",
              "      <td>0</td>\n",
              "      <td>921</td>\n",
              "      <td>209</td>\n",
              "      <td>316</td>\n",
              "      <td>356</td>\n",
              "      <td>520</td>\n",
              "      <td>595</td>\n",
              "      <td>653</td>\n",
              "      <td>719</td>\n",
              "      <td>821</td>\n",
              "      <td>897</td>\n",
              "      <td>961</td>\n",
              "      <td>1006</td>\n",
              "      <td>1066</td>\n",
              "    </tr>\n",
              "    <tr>\n",
              "      <th>...</th>\n",
              "      <td>...</td>\n",
              "      <td>...</td>\n",
              "      <td>...</td>\n",
              "      <td>...</td>\n",
              "      <td>...</td>\n",
              "      <td>...</td>\n",
              "      <td>...</td>\n",
              "      <td>...</td>\n",
              "      <td>...</td>\n",
              "      <td>...</td>\n",
              "      <td>...</td>\n",
              "      <td>...</td>\n",
              "      <td>...</td>\n",
              "      <td>...</td>\n",
              "      <td>...</td>\n",
              "      <td>...</td>\n",
              "      <td>...</td>\n",
              "    </tr>\n",
              "    <tr>\n",
              "      <th>1575</th>\n",
              "      <td>1575</td>\n",
              "      <td>Tue</td>\n",
              "      <td>18</td>\n",
              "      <td>600</td>\n",
              "      <td>921</td>\n",
              "      <td>214</td>\n",
              "      <td>376</td>\n",
              "      <td>399</td>\n",
              "      <td>485</td>\n",
              "      <td>533</td>\n",
              "      <td>561</td>\n",
              "      <td>624</td>\n",
              "      <td>720</td>\n",
              "      <td>766</td>\n",
              "      <td>804</td>\n",
              "      <td>831</td>\n",
              "      <td>852</td>\n",
              "    </tr>\n",
              "    <tr>\n",
              "      <th>1576</th>\n",
              "      <td>1576</td>\n",
              "      <td>Tue</td>\n",
              "      <td>18</td>\n",
              "      <td>2400</td>\n",
              "      <td>921</td>\n",
              "      <td>185</td>\n",
              "      <td>310</td>\n",
              "      <td>348</td>\n",
              "      <td>412</td>\n",
              "      <td>448</td>\n",
              "      <td>480</td>\n",
              "      <td>535</td>\n",
              "      <td>641</td>\n",
              "      <td>688</td>\n",
              "      <td>757</td>\n",
              "      <td>769</td>\n",
              "      <td>789</td>\n",
              "    </tr>\n",
              "    <tr>\n",
              "      <th>1577</th>\n",
              "      <td>1577</td>\n",
              "      <td>Tue</td>\n",
              "      <td>19</td>\n",
              "      <td>600</td>\n",
              "      <td>921</td>\n",
              "      <td>203</td>\n",
              "      <td>323</td>\n",
              "      <td>363</td>\n",
              "      <td>415</td>\n",
              "      <td>487</td>\n",
              "      <td>508</td>\n",
              "      <td>630</td>\n",
              "      <td>711</td>\n",
              "      <td>763</td>\n",
              "      <td>827</td>\n",
              "      <td>849</td>\n",
              "      <td>863</td>\n",
              "    </tr>\n",
              "    <tr>\n",
              "      <th>1578</th>\n",
              "      <td>1578</td>\n",
              "      <td>Tue</td>\n",
              "      <td>20</td>\n",
              "      <td>1200</td>\n",
              "      <td>921</td>\n",
              "      <td>218</td>\n",
              "      <td>338</td>\n",
              "      <td>366</td>\n",
              "      <td>421</td>\n",
              "      <td>470</td>\n",
              "      <td>500</td>\n",
              "      <td>537</td>\n",
              "      <td>634</td>\n",
              "      <td>689</td>\n",
              "      <td>734</td>\n",
              "      <td>763</td>\n",
              "      <td>782</td>\n",
              "    </tr>\n",
              "    <tr>\n",
              "      <th>1579</th>\n",
              "      <td>1579</td>\n",
              "      <td>Tue</td>\n",
              "      <td>22</td>\n",
              "      <td>2100</td>\n",
              "      <td>921</td>\n",
              "      <td>166</td>\n",
              "      <td>244</td>\n",
              "      <td>279</td>\n",
              "      <td>318</td>\n",
              "      <td>377</td>\n",
              "      <td>401</td>\n",
              "      <td>463</td>\n",
              "      <td>528</td>\n",
              "      <td>576</td>\n",
              "      <td>610</td>\n",
              "      <td>651</td>\n",
              "      <td>666</td>\n",
              "    </tr>\n",
              "  </tbody>\n",
              "</table>\n",
              "<p>1580 rows × 17 columns</p>\n",
              "</div>"
            ],
            "text/plain": [
              "      Unnamed: 0 WeekDay  Hours  SecMin  Line  ...   o9  o10  o11   o12   o13\n",
              "0              0     Sun      9       0   921  ...  783  858  923   969  1028\n",
              "1              1     Sun      9       0   921  ...  788  863  929   975  1031\n",
              "2              2     Sun      9       0   921  ...  800  873  935   979  1025\n",
              "3              3     Sun      9       0   921  ...  797  874  938   984  1037\n",
              "4              4     Sun      9       0   921  ...  821  897  961  1006  1066\n",
              "...          ...     ...    ...     ...   ...  ...  ...  ...  ...   ...   ...\n",
              "1575        1575     Tue     18     600   921  ...  720  766  804   831   852\n",
              "1576        1576     Tue     18    2400   921  ...  641  688  757   769   789\n",
              "1577        1577     Tue     19     600   921  ...  711  763  827   849   863\n",
              "1578        1578     Tue     20    1200   921  ...  634  689  734   763   782\n",
              "1579        1579     Tue     22    2100   921  ...  528  576  610   651   666\n",
              "\n",
              "[1580 rows x 17 columns]"
            ]
          },
          "metadata": {
            "tags": []
          },
          "execution_count": 171
        }
      ]
    },
    {
      "cell_type": "code",
      "metadata": {
        "colab": {
          "base_uri": "https://localhost:8080/",
          "height": 418
        },
        "id": "XIDQkb2sSBBX",
        "outputId": "e821bac1-8406-4272-efc4-cf2c323e9e9b"
      },
      "source": [
        "df.drop(['Unnamed: 0'], axis=1, inplace=True)\n",
        "df"
      ],
      "execution_count": null,
      "outputs": [
        {
          "output_type": "execute_result",
          "data": {
            "text/html": [
              "<div>\n",
              "<style scoped>\n",
              "    .dataframe tbody tr th:only-of-type {\n",
              "        vertical-align: middle;\n",
              "    }\n",
              "\n",
              "    .dataframe tbody tr th {\n",
              "        vertical-align: top;\n",
              "    }\n",
              "\n",
              "    .dataframe thead th {\n",
              "        text-align: right;\n",
              "    }\n",
              "</style>\n",
              "<table border=\"1\" class=\"dataframe\">\n",
              "  <thead>\n",
              "    <tr style=\"text-align: right;\">\n",
              "      <th></th>\n",
              "      <th>WeekDay</th>\n",
              "      <th>Hours</th>\n",
              "      <th>SecMin</th>\n",
              "      <th>Line</th>\n",
              "      <th>o2</th>\n",
              "      <th>o3</th>\n",
              "      <th>o4</th>\n",
              "      <th>o5</th>\n",
              "      <th>o6</th>\n",
              "      <th>o7</th>\n",
              "      <th>o8</th>\n",
              "      <th>o9</th>\n",
              "      <th>o10</th>\n",
              "      <th>o11</th>\n",
              "      <th>o12</th>\n",
              "      <th>o13</th>\n",
              "    </tr>\n",
              "  </thead>\n",
              "  <tbody>\n",
              "    <tr>\n",
              "      <th>0</th>\n",
              "      <td>Sun</td>\n",
              "      <td>9</td>\n",
              "      <td>0</td>\n",
              "      <td>921</td>\n",
              "      <td>199</td>\n",
              "      <td>285</td>\n",
              "      <td>325</td>\n",
              "      <td>478</td>\n",
              "      <td>557</td>\n",
              "      <td>620</td>\n",
              "      <td>683</td>\n",
              "      <td>783</td>\n",
              "      <td>858</td>\n",
              "      <td>923</td>\n",
              "      <td>969</td>\n",
              "      <td>1028</td>\n",
              "    </tr>\n",
              "    <tr>\n",
              "      <th>1</th>\n",
              "      <td>Sun</td>\n",
              "      <td>9</td>\n",
              "      <td>0</td>\n",
              "      <td>921</td>\n",
              "      <td>208</td>\n",
              "      <td>295</td>\n",
              "      <td>335</td>\n",
              "      <td>486</td>\n",
              "      <td>565</td>\n",
              "      <td>625</td>\n",
              "      <td>689</td>\n",
              "      <td>788</td>\n",
              "      <td>863</td>\n",
              "      <td>929</td>\n",
              "      <td>975</td>\n",
              "      <td>1031</td>\n",
              "    </tr>\n",
              "    <tr>\n",
              "      <th>2</th>\n",
              "      <td>Sun</td>\n",
              "      <td>9</td>\n",
              "      <td>0</td>\n",
              "      <td>921</td>\n",
              "      <td>198</td>\n",
              "      <td>300</td>\n",
              "      <td>340</td>\n",
              "      <td>492</td>\n",
              "      <td>571</td>\n",
              "      <td>634</td>\n",
              "      <td>698</td>\n",
              "      <td>800</td>\n",
              "      <td>873</td>\n",
              "      <td>935</td>\n",
              "      <td>979</td>\n",
              "      <td>1025</td>\n",
              "    </tr>\n",
              "    <tr>\n",
              "      <th>3</th>\n",
              "      <td>Sun</td>\n",
              "      <td>9</td>\n",
              "      <td>0</td>\n",
              "      <td>921</td>\n",
              "      <td>210</td>\n",
              "      <td>306</td>\n",
              "      <td>346</td>\n",
              "      <td>497</td>\n",
              "      <td>571</td>\n",
              "      <td>631</td>\n",
              "      <td>695</td>\n",
              "      <td>797</td>\n",
              "      <td>874</td>\n",
              "      <td>938</td>\n",
              "      <td>984</td>\n",
              "      <td>1037</td>\n",
              "    </tr>\n",
              "    <tr>\n",
              "      <th>4</th>\n",
              "      <td>Sun</td>\n",
              "      <td>9</td>\n",
              "      <td>0</td>\n",
              "      <td>921</td>\n",
              "      <td>209</td>\n",
              "      <td>316</td>\n",
              "      <td>356</td>\n",
              "      <td>520</td>\n",
              "      <td>595</td>\n",
              "      <td>653</td>\n",
              "      <td>719</td>\n",
              "      <td>821</td>\n",
              "      <td>897</td>\n",
              "      <td>961</td>\n",
              "      <td>1006</td>\n",
              "      <td>1066</td>\n",
              "    </tr>\n",
              "    <tr>\n",
              "      <th>...</th>\n",
              "      <td>...</td>\n",
              "      <td>...</td>\n",
              "      <td>...</td>\n",
              "      <td>...</td>\n",
              "      <td>...</td>\n",
              "      <td>...</td>\n",
              "      <td>...</td>\n",
              "      <td>...</td>\n",
              "      <td>...</td>\n",
              "      <td>...</td>\n",
              "      <td>...</td>\n",
              "      <td>...</td>\n",
              "      <td>...</td>\n",
              "      <td>...</td>\n",
              "      <td>...</td>\n",
              "      <td>...</td>\n",
              "    </tr>\n",
              "    <tr>\n",
              "      <th>1575</th>\n",
              "      <td>Tue</td>\n",
              "      <td>18</td>\n",
              "      <td>600</td>\n",
              "      <td>921</td>\n",
              "      <td>214</td>\n",
              "      <td>376</td>\n",
              "      <td>399</td>\n",
              "      <td>485</td>\n",
              "      <td>533</td>\n",
              "      <td>561</td>\n",
              "      <td>624</td>\n",
              "      <td>720</td>\n",
              "      <td>766</td>\n",
              "      <td>804</td>\n",
              "      <td>831</td>\n",
              "      <td>852</td>\n",
              "    </tr>\n",
              "    <tr>\n",
              "      <th>1576</th>\n",
              "      <td>Tue</td>\n",
              "      <td>18</td>\n",
              "      <td>2400</td>\n",
              "      <td>921</td>\n",
              "      <td>185</td>\n",
              "      <td>310</td>\n",
              "      <td>348</td>\n",
              "      <td>412</td>\n",
              "      <td>448</td>\n",
              "      <td>480</td>\n",
              "      <td>535</td>\n",
              "      <td>641</td>\n",
              "      <td>688</td>\n",
              "      <td>757</td>\n",
              "      <td>769</td>\n",
              "      <td>789</td>\n",
              "    </tr>\n",
              "    <tr>\n",
              "      <th>1577</th>\n",
              "      <td>Tue</td>\n",
              "      <td>19</td>\n",
              "      <td>600</td>\n",
              "      <td>921</td>\n",
              "      <td>203</td>\n",
              "      <td>323</td>\n",
              "      <td>363</td>\n",
              "      <td>415</td>\n",
              "      <td>487</td>\n",
              "      <td>508</td>\n",
              "      <td>630</td>\n",
              "      <td>711</td>\n",
              "      <td>763</td>\n",
              "      <td>827</td>\n",
              "      <td>849</td>\n",
              "      <td>863</td>\n",
              "    </tr>\n",
              "    <tr>\n",
              "      <th>1578</th>\n",
              "      <td>Tue</td>\n",
              "      <td>20</td>\n",
              "      <td>1200</td>\n",
              "      <td>921</td>\n",
              "      <td>218</td>\n",
              "      <td>338</td>\n",
              "      <td>366</td>\n",
              "      <td>421</td>\n",
              "      <td>470</td>\n",
              "      <td>500</td>\n",
              "      <td>537</td>\n",
              "      <td>634</td>\n",
              "      <td>689</td>\n",
              "      <td>734</td>\n",
              "      <td>763</td>\n",
              "      <td>782</td>\n",
              "    </tr>\n",
              "    <tr>\n",
              "      <th>1579</th>\n",
              "      <td>Tue</td>\n",
              "      <td>22</td>\n",
              "      <td>2100</td>\n",
              "      <td>921</td>\n",
              "      <td>166</td>\n",
              "      <td>244</td>\n",
              "      <td>279</td>\n",
              "      <td>318</td>\n",
              "      <td>377</td>\n",
              "      <td>401</td>\n",
              "      <td>463</td>\n",
              "      <td>528</td>\n",
              "      <td>576</td>\n",
              "      <td>610</td>\n",
              "      <td>651</td>\n",
              "      <td>666</td>\n",
              "    </tr>\n",
              "  </tbody>\n",
              "</table>\n",
              "<p>1580 rows × 16 columns</p>\n",
              "</div>"
            ],
            "text/plain": [
              "     WeekDay  Hours  SecMin  Line   o2   o3  ...   o8   o9  o10  o11   o12   o13\n",
              "0        Sun      9       0   921  199  285  ...  683  783  858  923   969  1028\n",
              "1        Sun      9       0   921  208  295  ...  689  788  863  929   975  1031\n",
              "2        Sun      9       0   921  198  300  ...  698  800  873  935   979  1025\n",
              "3        Sun      9       0   921  210  306  ...  695  797  874  938   984  1037\n",
              "4        Sun      9       0   921  209  316  ...  719  821  897  961  1006  1066\n",
              "...      ...    ...     ...   ...  ...  ...  ...  ...  ...  ...  ...   ...   ...\n",
              "1575     Tue     18     600   921  214  376  ...  624  720  766  804   831   852\n",
              "1576     Tue     18    2400   921  185  310  ...  535  641  688  757   769   789\n",
              "1577     Tue     19     600   921  203  323  ...  630  711  763  827   849   863\n",
              "1578     Tue     20    1200   921  218  338  ...  537  634  689  734   763   782\n",
              "1579     Tue     22    2100   921  166  244  ...  463  528  576  610   651   666\n",
              "\n",
              "[1580 rows x 16 columns]"
            ]
          },
          "metadata": {
            "tags": []
          },
          "execution_count": 172
        }
      ]
    },
    {
      "cell_type": "code",
      "metadata": {
        "id": "FXiLsuUOSBBb"
      },
      "source": [
        "dummy_days=pd.get_dummies(df.WeekDay, prefix=None)\n"
      ],
      "execution_count": null,
      "outputs": []
    },
    {
      "cell_type": "code",
      "metadata": {
        "colab": {
          "base_uri": "https://localhost:8080/",
          "height": 418
        },
        "id": "KvfZ9DVNSBBc",
        "outputId": "d700390f-b691-4b7c-9683-cff2ee7153a5"
      },
      "source": [
        "df=pd.concat([df, dummy_days], axis=1)\n",
        "df"
      ],
      "execution_count": null,
      "outputs": [
        {
          "output_type": "execute_result",
          "data": {
            "text/html": [
              "<div>\n",
              "<style scoped>\n",
              "    .dataframe tbody tr th:only-of-type {\n",
              "        vertical-align: middle;\n",
              "    }\n",
              "\n",
              "    .dataframe tbody tr th {\n",
              "        vertical-align: top;\n",
              "    }\n",
              "\n",
              "    .dataframe thead th {\n",
              "        text-align: right;\n",
              "    }\n",
              "</style>\n",
              "<table border=\"1\" class=\"dataframe\">\n",
              "  <thead>\n",
              "    <tr style=\"text-align: right;\">\n",
              "      <th></th>\n",
              "      <th>WeekDay</th>\n",
              "      <th>Hours</th>\n",
              "      <th>SecMin</th>\n",
              "      <th>Line</th>\n",
              "      <th>o2</th>\n",
              "      <th>o3</th>\n",
              "      <th>o4</th>\n",
              "      <th>o5</th>\n",
              "      <th>o6</th>\n",
              "      <th>o7</th>\n",
              "      <th>o8</th>\n",
              "      <th>o9</th>\n",
              "      <th>o10</th>\n",
              "      <th>o11</th>\n",
              "      <th>o12</th>\n",
              "      <th>o13</th>\n",
              "      <th>Mon</th>\n",
              "      <th>Sun</th>\n",
              "      <th>Thu</th>\n",
              "      <th>Tue</th>\n",
              "      <th>Wed</th>\n",
              "    </tr>\n",
              "  </thead>\n",
              "  <tbody>\n",
              "    <tr>\n",
              "      <th>0</th>\n",
              "      <td>Sun</td>\n",
              "      <td>9</td>\n",
              "      <td>0</td>\n",
              "      <td>921</td>\n",
              "      <td>199</td>\n",
              "      <td>285</td>\n",
              "      <td>325</td>\n",
              "      <td>478</td>\n",
              "      <td>557</td>\n",
              "      <td>620</td>\n",
              "      <td>683</td>\n",
              "      <td>783</td>\n",
              "      <td>858</td>\n",
              "      <td>923</td>\n",
              "      <td>969</td>\n",
              "      <td>1028</td>\n",
              "      <td>0</td>\n",
              "      <td>1</td>\n",
              "      <td>0</td>\n",
              "      <td>0</td>\n",
              "      <td>0</td>\n",
              "    </tr>\n",
              "    <tr>\n",
              "      <th>1</th>\n",
              "      <td>Sun</td>\n",
              "      <td>9</td>\n",
              "      <td>0</td>\n",
              "      <td>921</td>\n",
              "      <td>208</td>\n",
              "      <td>295</td>\n",
              "      <td>335</td>\n",
              "      <td>486</td>\n",
              "      <td>565</td>\n",
              "      <td>625</td>\n",
              "      <td>689</td>\n",
              "      <td>788</td>\n",
              "      <td>863</td>\n",
              "      <td>929</td>\n",
              "      <td>975</td>\n",
              "      <td>1031</td>\n",
              "      <td>0</td>\n",
              "      <td>1</td>\n",
              "      <td>0</td>\n",
              "      <td>0</td>\n",
              "      <td>0</td>\n",
              "    </tr>\n",
              "    <tr>\n",
              "      <th>2</th>\n",
              "      <td>Sun</td>\n",
              "      <td>9</td>\n",
              "      <td>0</td>\n",
              "      <td>921</td>\n",
              "      <td>198</td>\n",
              "      <td>300</td>\n",
              "      <td>340</td>\n",
              "      <td>492</td>\n",
              "      <td>571</td>\n",
              "      <td>634</td>\n",
              "      <td>698</td>\n",
              "      <td>800</td>\n",
              "      <td>873</td>\n",
              "      <td>935</td>\n",
              "      <td>979</td>\n",
              "      <td>1025</td>\n",
              "      <td>0</td>\n",
              "      <td>1</td>\n",
              "      <td>0</td>\n",
              "      <td>0</td>\n",
              "      <td>0</td>\n",
              "    </tr>\n",
              "    <tr>\n",
              "      <th>3</th>\n",
              "      <td>Sun</td>\n",
              "      <td>9</td>\n",
              "      <td>0</td>\n",
              "      <td>921</td>\n",
              "      <td>210</td>\n",
              "      <td>306</td>\n",
              "      <td>346</td>\n",
              "      <td>497</td>\n",
              "      <td>571</td>\n",
              "      <td>631</td>\n",
              "      <td>695</td>\n",
              "      <td>797</td>\n",
              "      <td>874</td>\n",
              "      <td>938</td>\n",
              "      <td>984</td>\n",
              "      <td>1037</td>\n",
              "      <td>0</td>\n",
              "      <td>1</td>\n",
              "      <td>0</td>\n",
              "      <td>0</td>\n",
              "      <td>0</td>\n",
              "    </tr>\n",
              "    <tr>\n",
              "      <th>4</th>\n",
              "      <td>Sun</td>\n",
              "      <td>9</td>\n",
              "      <td>0</td>\n",
              "      <td>921</td>\n",
              "      <td>209</td>\n",
              "      <td>316</td>\n",
              "      <td>356</td>\n",
              "      <td>520</td>\n",
              "      <td>595</td>\n",
              "      <td>653</td>\n",
              "      <td>719</td>\n",
              "      <td>821</td>\n",
              "      <td>897</td>\n",
              "      <td>961</td>\n",
              "      <td>1006</td>\n",
              "      <td>1066</td>\n",
              "      <td>0</td>\n",
              "      <td>1</td>\n",
              "      <td>0</td>\n",
              "      <td>0</td>\n",
              "      <td>0</td>\n",
              "    </tr>\n",
              "    <tr>\n",
              "      <th>...</th>\n",
              "      <td>...</td>\n",
              "      <td>...</td>\n",
              "      <td>...</td>\n",
              "      <td>...</td>\n",
              "      <td>...</td>\n",
              "      <td>...</td>\n",
              "      <td>...</td>\n",
              "      <td>...</td>\n",
              "      <td>...</td>\n",
              "      <td>...</td>\n",
              "      <td>...</td>\n",
              "      <td>...</td>\n",
              "      <td>...</td>\n",
              "      <td>...</td>\n",
              "      <td>...</td>\n",
              "      <td>...</td>\n",
              "      <td>...</td>\n",
              "      <td>...</td>\n",
              "      <td>...</td>\n",
              "      <td>...</td>\n",
              "      <td>...</td>\n",
              "    </tr>\n",
              "    <tr>\n",
              "      <th>1575</th>\n",
              "      <td>Tue</td>\n",
              "      <td>18</td>\n",
              "      <td>600</td>\n",
              "      <td>921</td>\n",
              "      <td>214</td>\n",
              "      <td>376</td>\n",
              "      <td>399</td>\n",
              "      <td>485</td>\n",
              "      <td>533</td>\n",
              "      <td>561</td>\n",
              "      <td>624</td>\n",
              "      <td>720</td>\n",
              "      <td>766</td>\n",
              "      <td>804</td>\n",
              "      <td>831</td>\n",
              "      <td>852</td>\n",
              "      <td>0</td>\n",
              "      <td>0</td>\n",
              "      <td>0</td>\n",
              "      <td>1</td>\n",
              "      <td>0</td>\n",
              "    </tr>\n",
              "    <tr>\n",
              "      <th>1576</th>\n",
              "      <td>Tue</td>\n",
              "      <td>18</td>\n",
              "      <td>2400</td>\n",
              "      <td>921</td>\n",
              "      <td>185</td>\n",
              "      <td>310</td>\n",
              "      <td>348</td>\n",
              "      <td>412</td>\n",
              "      <td>448</td>\n",
              "      <td>480</td>\n",
              "      <td>535</td>\n",
              "      <td>641</td>\n",
              "      <td>688</td>\n",
              "      <td>757</td>\n",
              "      <td>769</td>\n",
              "      <td>789</td>\n",
              "      <td>0</td>\n",
              "      <td>0</td>\n",
              "      <td>0</td>\n",
              "      <td>1</td>\n",
              "      <td>0</td>\n",
              "    </tr>\n",
              "    <tr>\n",
              "      <th>1577</th>\n",
              "      <td>Tue</td>\n",
              "      <td>19</td>\n",
              "      <td>600</td>\n",
              "      <td>921</td>\n",
              "      <td>203</td>\n",
              "      <td>323</td>\n",
              "      <td>363</td>\n",
              "      <td>415</td>\n",
              "      <td>487</td>\n",
              "      <td>508</td>\n",
              "      <td>630</td>\n",
              "      <td>711</td>\n",
              "      <td>763</td>\n",
              "      <td>827</td>\n",
              "      <td>849</td>\n",
              "      <td>863</td>\n",
              "      <td>0</td>\n",
              "      <td>0</td>\n",
              "      <td>0</td>\n",
              "      <td>1</td>\n",
              "      <td>0</td>\n",
              "    </tr>\n",
              "    <tr>\n",
              "      <th>1578</th>\n",
              "      <td>Tue</td>\n",
              "      <td>20</td>\n",
              "      <td>1200</td>\n",
              "      <td>921</td>\n",
              "      <td>218</td>\n",
              "      <td>338</td>\n",
              "      <td>366</td>\n",
              "      <td>421</td>\n",
              "      <td>470</td>\n",
              "      <td>500</td>\n",
              "      <td>537</td>\n",
              "      <td>634</td>\n",
              "      <td>689</td>\n",
              "      <td>734</td>\n",
              "      <td>763</td>\n",
              "      <td>782</td>\n",
              "      <td>0</td>\n",
              "      <td>0</td>\n",
              "      <td>0</td>\n",
              "      <td>1</td>\n",
              "      <td>0</td>\n",
              "    </tr>\n",
              "    <tr>\n",
              "      <th>1579</th>\n",
              "      <td>Tue</td>\n",
              "      <td>22</td>\n",
              "      <td>2100</td>\n",
              "      <td>921</td>\n",
              "      <td>166</td>\n",
              "      <td>244</td>\n",
              "      <td>279</td>\n",
              "      <td>318</td>\n",
              "      <td>377</td>\n",
              "      <td>401</td>\n",
              "      <td>463</td>\n",
              "      <td>528</td>\n",
              "      <td>576</td>\n",
              "      <td>610</td>\n",
              "      <td>651</td>\n",
              "      <td>666</td>\n",
              "      <td>0</td>\n",
              "      <td>0</td>\n",
              "      <td>0</td>\n",
              "      <td>1</td>\n",
              "      <td>0</td>\n",
              "    </tr>\n",
              "  </tbody>\n",
              "</table>\n",
              "<p>1580 rows × 21 columns</p>\n",
              "</div>"
            ],
            "text/plain": [
              "     WeekDay  Hours  SecMin  Line   o2   o3  ...   o13  Mon  Sun  Thu  Tue  Wed\n",
              "0        Sun      9       0   921  199  285  ...  1028    0    1    0    0    0\n",
              "1        Sun      9       0   921  208  295  ...  1031    0    1    0    0    0\n",
              "2        Sun      9       0   921  198  300  ...  1025    0    1    0    0    0\n",
              "3        Sun      9       0   921  210  306  ...  1037    0    1    0    0    0\n",
              "4        Sun      9       0   921  209  316  ...  1066    0    1    0    0    0\n",
              "...      ...    ...     ...   ...  ...  ...  ...   ...  ...  ...  ...  ...  ...\n",
              "1575     Tue     18     600   921  214  376  ...   852    0    0    0    1    0\n",
              "1576     Tue     18    2400   921  185  310  ...   789    0    0    0    1    0\n",
              "1577     Tue     19     600   921  203  323  ...   863    0    0    0    1    0\n",
              "1578     Tue     20    1200   921  218  338  ...   782    0    0    0    1    0\n",
              "1579     Tue     22    2100   921  166  244  ...   666    0    0    0    1    0\n",
              "\n",
              "[1580 rows x 21 columns]"
            ]
          },
          "metadata": {
            "tags": []
          },
          "execution_count": 174
        }
      ]
    },
    {
      "cell_type": "markdown",
      "metadata": {
        "id": "OpRnJbHDg-Js"
      },
      "source": [
        "#Configurate Data"
      ]
    },
    {
      "cell_type": "code",
      "metadata": {
        "id": "E1M1DKkIhBW6"
      },
      "source": [
        "hour = 16\n",
        "minSec = 45*60\n",
        "line = 921\n",
        "day = [0,0,1,0,0]"
      ],
      "execution_count": null,
      "outputs": []
    },
    {
      "cell_type": "markdown",
      "metadata": {
        "id": "2przBzKqSBBn"
      },
      "source": [
        "# Model prediction for all stations, each station will be model, all data predicted with linear regression."
      ]
    },
    {
      "cell_type": "code",
      "metadata": {
        "scrolled": true,
        "id": "rcfiKhwUSBBo"
      },
      "source": [
        "from sklearn.model_selection import train_test_split\n",
        "from sklearn.linear_model import LinearRegression\n",
        "from sklearn.metrics import mean_squared_error\n",
        "from sklearn.metrics import r2_score\n",
        "import matplotlib.pyplot as plt\n",
        "from sklearn.metrics import mean_absolute_error\n",
        "from sklearn.metrics import max_error"
      ],
      "execution_count": null,
      "outputs": []
    },
    {
      "cell_type": "code",
      "metadata": {
        "colab": {
          "base_uri": "https://localhost:8080/"
        },
        "id": "y6wQXHo5cpvm",
        "outputId": "b1d1775c-dc53-44de-c4c6-b84e880b903c"
      },
      "source": [
        "#X for model station o2\n",
        "X = df[['Hours', 'SecMin', 'Mon', 'Sun', 'Thu', 'Tue', 'Wed']]\n",
        "y = df['o2']\n",
        "X_train, X_test, y_train, y_test = train_test_split(X, y, test_size=0.2, random_state=0)\n",
        "ml = LinearRegression()\n",
        "ml.fit(X_train, y_train)\n",
        "y_pred = ml.predict(X_test)\n",
        "o2 = ml.predict([[hour,minSec,day[0],day[1],day[2],day[3],day[4]]])\n",
        "o2[0]"
      ],
      "execution_count": null,
      "outputs": [
        {
          "output_type": "execute_result",
          "data": {
            "text/plain": [
              "237.89288439798983"
            ]
          },
          "metadata": {
            "tags": []
          },
          "execution_count": 177
        }
      ]
    },
    {
      "cell_type": "code",
      "metadata": {
        "colab": {
          "base_uri": "https://localhost:8080/"
        },
        "id": "VLQUKSrzcp5T",
        "outputId": "93b5cf7f-2e6b-4680-a1d5-39aed2db344b"
      },
      "source": [
        "rmse = np.sqrt(mean_squared_error(y_test, y_pred))\n",
        "print(\"Max Error: %f\" % (max_error(y_test,y_pred)))\n",
        "print(\"Mean Absolute Error: %f\" % (mean_absolute_error(y_test,y_pred)))\n",
        "print(\"R^2: %f\" % (r2_score(y_test,y_pred)))\n",
        "print(\"RMSE: %f\" % (rmse))"
      ],
      "execution_count": null,
      "outputs": [
        {
          "output_type": "stream",
          "text": [
            "Max Error: 294.535337\n",
            "Mean Absolute Error: 27.934105\n",
            "R^2: 0.065256\n",
            "RMSE: 47.393582\n"
          ],
          "name": "stdout"
        }
      ]
    },
    {
      "cell_type": "code",
      "metadata": {
        "colab": {
          "base_uri": "https://localhost:8080/",
          "height": 576
        },
        "id": "Z0j15U5FcqgU",
        "outputId": "d1ad9c64-7ce4-42de-9e0d-c35551f9bc58"
      },
      "source": [
        "plt.style.use('fivethirtyeight')\n",
        "\n",
        "plt.figure(figsize=(16,8))\n",
        "plt.scatter(y_test,y_pred)\n",
        "plt.xlabel('Actual')\n",
        "plt.ylabel('Predicted')\n",
        "plt.title('Actual vs Predicted')"
      ],
      "execution_count": null,
      "outputs": [
        {
          "output_type": "execute_result",
          "data": {
            "text/plain": [
              "Text(0.5, 1.0, 'Actual vs Predicted')"
            ]
          },
          "metadata": {
            "tags": []
          },
          "execution_count": 179
        },
        {
          "output_type": "display_data",
          "data": {
            "image/png": "[encoded data removed]",
            "text/plain": [
              "<Figure size 1152x576 with 1 Axes>"
            ]
          },
          "metadata": {
            "tags": []
          }
        }
      ]
    },
    {
      "cell_type": "code",
      "metadata": {
        "colab": {
          "base_uri": "https://localhost:8080/"
        },
        "id": "reDnTI_nc8sm",
        "outputId": "df5fd125-3a29-4ce0-ac0f-31d442fd7dc0"
      },
      "source": [
        "#X for model station o3\n",
        "X = df[['Hours', 'SecMin', 'o2', 'Mon', 'Sun', 'Thu', 'Tue', 'Wed']]\n",
        "y = df['o3']\n",
        "\n",
        "X_train, X_test, y_train, y_test = train_test_split(X, y, test_size=0.2, random_state=0)\n",
        "ml = LinearRegression()\n",
        "ml.fit(X_train, y_train)\n",
        "y_pred = ml.predict(X_test)\n",
        "o3 = ml.predict([[hour,minSec,o2[0],day[0],day[1],day[2],day[3],day[4]]])\n",
        "o3[0]"
      ],
      "execution_count": null,
      "outputs": [
        {
          "output_type": "execute_result",
          "data": {
            "text/plain": [
              "340.3856432816864"
            ]
          },
          "metadata": {
            "tags": []
          },
          "execution_count": 180
        }
      ]
    },
    {
      "cell_type": "code",
      "metadata": {
        "colab": {
          "base_uri": "https://localhost:8080/"
        },
        "id": "aoVAo9eCc8vx",
        "outputId": "c30a6e5d-910f-4978-eced-fe4262d3d59b"
      },
      "source": [
        "rmse = np.sqrt(mean_squared_error(y_test, y_pred))\n",
        "print(\"Max Error: %f\" % (max_error(y_test,y_pred)))\n",
        "print(\"Mean Absolute Error: %f\" % (mean_absolute_error(y_test,y_pred)))\n",
        "print(\"R^2: %f\" % (r2_score(y_test,y_pred)))\n",
        "print(\"RMSE: %f\" % (rmse))"
      ],
      "execution_count": null,
      "outputs": [
        {
          "output_type": "stream",
          "text": [
            "Max Error: 159.789989\n",
            "Mean Absolute Error: 26.542634\n",
            "R^2: 0.692879\n",
            "RMSE: 35.894949\n"
          ],
          "name": "stdout"
        }
      ]
    },
    {
      "cell_type": "code",
      "metadata": {
        "colab": {
          "base_uri": "https://localhost:8080/",
          "height": 576
        },
        "id": "1AW4fOIec855",
        "outputId": "854797e4-abf4-403e-ec01-2c6ff2dea4d6"
      },
      "source": [
        "plt.style.use('fivethirtyeight')\n",
        "\n",
        "plt.figure(figsize=(16,8))\n",
        "plt.scatter(y_test,y_pred)\n",
        "plt.xlabel('Actual')\n",
        "plt.ylabel('Predicted')\n",
        "plt.title('Actual vs Predicted')"
      ],
      "execution_count": null,
      "outputs": [
        {
          "output_type": "execute_result",
          "data": {
            "text/plain": [
              "Text(0.5, 1.0, 'Actual vs Predicted')"
            ]
          },
          "metadata": {
            "tags": []
          },
          "execution_count": 182
        },
        {
          "output_type": "display_data",
          "data": {
            "image/png": "[encoded data removed]",
            "text/plain": [
              "<Figure size 1152x576 with 1 Axes>"
            ]
          },
          "metadata": {
            "tags": []
          }
        }
      ]
    },
    {
      "cell_type": "code",
      "metadata": {
        "colab": {
          "base_uri": "https://localhost:8080/"
        },
        "id": "XW7PfcmwdK3V",
        "outputId": "bd238394-d358-4259-f721-ff9e71e0fe27"
      },
      "source": [
        "#X for model station o4\n",
        "X = df[['Hours', 'SecMin', 'o2', 'o3', 'Mon', 'Sun', 'Thu', 'Tue', 'Wed']]\n",
        "y = df['o4']\n",
        "\n",
        "X_train, X_test, y_train, y_test = train_test_split(X, y, test_size=0.2, random_state=0)\n",
        "ml = LinearRegression()\n",
        "ml.fit(X_train, y_train)\n",
        "y_pred = ml.predict(X_test)\n",
        "o4 = ml.predict([[hour,minSec,o2[0],o3[0],day[0],day[1],day[2],day[3],day[4]]])\n",
        "o4[0]"
      ],
      "execution_count": null,
      "outputs": [
        {
          "output_type": "execute_result",
          "data": {
            "text/plain": [
              "386.5481718335297"
            ]
          },
          "metadata": {
            "tags": []
          },
          "execution_count": 183
        }
      ]
    },
    {
      "cell_type": "code",
      "metadata": {
        "colab": {
          "base_uri": "https://localhost:8080/"
        },
        "id": "ZTc9jS42dMpm",
        "outputId": "e9d3cc52-b453-4776-cf16-42f4f1c3dfaa"
      },
      "source": [
        "rmse = np.sqrt(mean_squared_error(y_test, y_pred))\n",
        "print(\"Max Error: %f\" % (max_error(y_test,y_pred)))\n",
        "print(\"Mean Absolute Error: %f\" % (mean_absolute_error(y_test,y_pred)))\n",
        "print(\"R^2: %f\" % (r2_score(y_test,y_pred)))\n",
        "print(\"RMSE: %f\" % (rmse))"
      ],
      "execution_count": null,
      "outputs": [
        {
          "output_type": "stream",
          "text": [
            "Max Error: 199.837373\n",
            "Mean Absolute Error: 12.176235\n",
            "R^2: 0.889185\n",
            "RMSE: 23.837171\n"
          ],
          "name": "stdout"
        }
      ]
    },
    {
      "cell_type": "code",
      "metadata": {
        "colab": {
          "base_uri": "https://localhost:8080/",
          "height": 576
        },
        "id": "_kF9GojZdMvq",
        "outputId": "eb5ce109-b8d6-4014-fa62-9ab9587359a8"
      },
      "source": [
        "plt.style.use('fivethirtyeight')\n",
        "\n",
        "plt.figure(figsize=(16,8))\n",
        "plt.scatter(y_test,y_pred)\n",
        "plt.xlabel('Actual')\n",
        "plt.ylabel('Predicted')\n",
        "plt.title('Actual vs Predicted')"
      ],
      "execution_count": null,
      "outputs": [
        {
          "output_type": "execute_result",
          "data": {
            "text/plain": [
              "Text(0.5, 1.0, 'Actual vs Predicted')"
            ]
          },
          "metadata": {
            "tags": []
          },
          "execution_count": 185
        },
        {
          "output_type": "display_data",
          "data": {
            "image/png": "[encoded data removed]",
            "text/plain": [
              "<Figure size 1152x576 with 1 Axes>"
            ]
          },
          "metadata": {
            "tags": []
          }
        }
      ]
    },
    {
      "cell_type": "code",
      "metadata": {
        "scrolled": true,
        "colab": {
          "base_uri": "https://localhost:8080/"
        },
        "id": "4K_d3-iOSBBp",
        "outputId": "ffa91eff-cb51-4840-f909-766b109eee22"
      },
      "source": [
        "#X for model station o5\n",
        "X = df[['Hours', 'SecMin', 'o2', 'o3', 'o4', 'Mon', 'Sun', 'Thu', 'Tue', 'Wed']]\n",
        "y = df['o5']\n",
        "\n",
        "X_train, X_test, y_train, y_test = train_test_split(X, y, test_size=0.2, random_state=0)\n",
        "ml = LinearRegression()\n",
        "ml.fit(X_train, y_train)\n",
        "y_pred = ml.predict(X_test)\n",
        "o5 = ml.predict([[hour,minSec,o2[0],o3[0],o4[0],day[0],day[1],day[2],day[3],day[4]]])\n",
        "o5[0]"
      ],
      "execution_count": null,
      "outputs": [
        {
          "output_type": "execute_result",
          "data": {
            "text/plain": [
              "521.2199588203474"
            ]
          },
          "metadata": {
            "tags": []
          },
          "execution_count": 186
        }
      ]
    },
    {
      "cell_type": "code",
      "metadata": {
        "colab": {
          "base_uri": "https://localhost:8080/"
        },
        "id": "19m6285ASBBr",
        "outputId": "348dbf3f-e5dc-425b-8ac9-3cc6d840e94c"
      },
      "source": [
        "rmse = np.sqrt(mean_squared_error(y_test, y_pred))\n",
        "print(\"Max Error: %f\" % (max_error(y_test,y_pred)))\n",
        "print(\"Mean Absolute Error: %f\" % (mean_absolute_error(y_test,y_pred)))\n",
        "print(\"R^2: %f\" % (r2_score(y_test,y_pred)))\n",
        "print(\"RMSE: %f\" % (rmse))"
      ],
      "execution_count": null,
      "outputs": [
        {
          "output_type": "stream",
          "text": [
            "Max Error: 122.255586\n",
            "Mean Absolute Error: 28.171133\n",
            "R^2: 0.757603\n",
            "RMSE: 38.186834\n"
          ],
          "name": "stdout"
        }
      ]
    },
    {
      "cell_type": "code",
      "metadata": {
        "colab": {
          "base_uri": "https://localhost:8080/",
          "height": 576
        },
        "id": "CsazOKDhSBBw",
        "outputId": "609c3936-b9a1-4a36-a325-b5a9669c1b96"
      },
      "source": [
        "plt.style.use('fivethirtyeight')\n",
        "\n",
        "plt.figure(figsize=(16,8))\n",
        "plt.scatter(y_test,y_pred)\n",
        "plt.xlabel('Actual')\n",
        "plt.ylabel('Predicted')\n",
        "plt.title('Actual vs Predicted')"
      ],
      "execution_count": null,
      "outputs": [
        {
          "output_type": "execute_result",
          "data": {
            "text/plain": [
              "Text(0.5, 1.0, 'Actual vs Predicted')"
            ]
          },
          "metadata": {
            "tags": []
          },
          "execution_count": 188
        },
        {
          "output_type": "display_data",
          "data": {
            "image/png": "[encoded data removed]",
            "text/plain": [
              "<Figure size 1152x576 with 1 Axes>"
            ]
          },
          "metadata": {
            "tags": []
          }
        }
      ]
    },
    {
      "cell_type": "code",
      "metadata": {
        "colab": {
          "base_uri": "https://localhost:8080/"
        },
        "id": "4hMBaOcida4i",
        "outputId": "755a1fc6-6bdc-442d-e1f6-0f247099ee04"
      },
      "source": [
        "#X for model station o6\n",
        "X = df[['Hours', 'SecMin', 'o2', 'o3', 'o4','o5', 'Mon', 'Sun', 'Thu', 'Tue', 'Wed']]\n",
        "y = df['o6']\n",
        "\n",
        "X_train, X_test, y_train, y_test = train_test_split(X, y, test_size=0.2, random_state=0)\n",
        "ml = LinearRegression()\n",
        "ml.fit(X_train, y_train)\n",
        "y_pred = ml.predict(X_test)\n",
        "o6 = ml.predict([[hour,minSec,o2[0],o3[0],o4[0],o5[0],day[0],day[1],day[2],day[3],day[4]]])\n",
        "o6[0]"
      ],
      "execution_count": null,
      "outputs": [
        {
          "output_type": "execute_result",
          "data": {
            "text/plain": [
              "627.6995446342698"
            ]
          },
          "metadata": {
            "tags": []
          },
          "execution_count": 189
        }
      ]
    },
    {
      "cell_type": "code",
      "metadata": {
        "colab": {
          "base_uri": "https://localhost:8080/"
        },
        "id": "w8IxpKWhdbB-",
        "outputId": "fcd5c3a9-f868-4d98-fcb8-d6588546be83"
      },
      "source": [
        "rmse = np.sqrt(mean_squared_error(y_test, y_pred))\n",
        "print(\"Max Error: %f\" % (max_error(y_test,y_pred)))\n",
        "print(\"Mean Absolute Error: %f\" % (mean_absolute_error(y_test,y_pred)))\n",
        "print(\"R^2: %f\" % (r2_score(y_test,y_pred)))\n",
        "print(\"RMSE: %f\" % (rmse))"
      ],
      "execution_count": null,
      "outputs": [
        {
          "output_type": "stream",
          "text": [
            "Max Error: 258.954485\n",
            "Mean Absolute Error: 22.713144\n",
            "R^2: 0.843205\n",
            "RMSE: 38.852743\n"
          ],
          "name": "stdout"
        }
      ]
    },
    {
      "cell_type": "code",
      "metadata": {
        "colab": {
          "base_uri": "https://localhost:8080/",
          "height": 576
        },
        "id": "zfohxBcgdbI9",
        "outputId": "a76cadc3-d9b4-488a-df5c-c63ca2c9de8f"
      },
      "source": [
        "plt.style.use('fivethirtyeight')\n",
        "\n",
        "plt.figure(figsize=(16,8))\n",
        "plt.scatter(y_test,y_pred)\n",
        "plt.xlabel('Actual')\n",
        "plt.ylabel('Predicted')\n",
        "plt.title('Actual vs Predicted')"
      ],
      "execution_count": null,
      "outputs": [
        {
          "output_type": "execute_result",
          "data": {
            "text/plain": [
              "Text(0.5, 1.0, 'Actual vs Predicted')"
            ]
          },
          "metadata": {
            "tags": []
          },
          "execution_count": 191
        },
        {
          "output_type": "display_data",
          "data": {
            "image/png": "[encoded data removed]",
            "text/plain": [
              "<Figure size 1152x576 with 1 Axes>"
            ]
          },
          "metadata": {
            "tags": []
          }
        }
      ]
    },
    {
      "cell_type": "code",
      "metadata": {
        "colab": {
          "base_uri": "https://localhost:8080/"
        },
        "id": "13mth3ghduTW",
        "outputId": "b96bce61-c08f-4030-a1da-7560e8fadb59"
      },
      "source": [
        "#X for model station o7\n",
        "X = df[['Hours', 'SecMin', 'o2', 'o3', 'o4','o5','o6', 'Mon', 'Sun', 'Thu', 'Tue', 'Wed']]\n",
        "y = df['o7']\n",
        "\n",
        "X_train, X_test, y_train, y_test = train_test_split(X, y, test_size=0.2, random_state=0)\n",
        "ml = LinearRegression()\n",
        "ml.fit(X_train, y_train)\n",
        "y_pred = ml.predict(X_test)\n",
        "o7 = ml.predict([[hour,minSec,o2[0],o3[0],o4[0],o5[0],o6[0],day[0],day[1],day[2],day[3],day[4]]])\n",
        "o7[0]"
      ],
      "execution_count": null,
      "outputs": [
        {
          "output_type": "execute_result",
          "data": {
            "text/plain": [
              "690.9075813998514"
            ]
          },
          "metadata": {
            "tags": []
          },
          "execution_count": 192
        }
      ]
    },
    {
      "cell_type": "code",
      "metadata": {
        "colab": {
          "base_uri": "https://localhost:8080/"
        },
        "id": "m05fjuwzduWb",
        "outputId": "2d8dbf49-f07b-4e8d-8435-2fefa4ed71df"
      },
      "source": [
        "rmse = np.sqrt(mean_squared_error(y_test, y_pred))\n",
        "print(\"Max Error: %f\" % (max_error(y_test,y_pred)))\n",
        "print(\"Mean Absolute Error: %f\" % (mean_absolute_error(y_test,y_pred)))\n",
        "print(\"R^2: %f\" % (r2_score(y_test,y_pred)))\n",
        "print(\"RMSE: %f\" % (rmse))"
      ],
      "execution_count": null,
      "outputs": [
        {
          "output_type": "stream",
          "text": [
            "Max Error: 128.764294\n",
            "Mean Absolute Error: 10.768501\n",
            "R^2: 0.973527\n",
            "RMSE: 17.497508\n"
          ],
          "name": "stdout"
        }
      ]
    },
    {
      "cell_type": "code",
      "metadata": {
        "colab": {
          "base_uri": "https://localhost:8080/",
          "height": 576
        },
        "id": "ynYTIcu6ducX",
        "outputId": "e9b3c7d8-d091-4753-b5a8-d2db24f5f6a2"
      },
      "source": [
        "plt.style.use('fivethirtyeight')\n",
        "\n",
        "plt.figure(figsize=(16,8))\n",
        "plt.scatter(y_test,y_pred)\n",
        "plt.xlabel('Actual')\n",
        "plt.ylabel('Predicted')\n",
        "plt.title('Actual vs Predicted')"
      ],
      "execution_count": null,
      "outputs": [
        {
          "output_type": "execute_result",
          "data": {
            "text/plain": [
              "Text(0.5, 1.0, 'Actual vs Predicted')"
            ]
          },
          "metadata": {
            "tags": []
          },
          "execution_count": 194
        },
        {
          "output_type": "display_data",
          "data": {
            "image/png": "[encoded data removed]",
            "text/plain": [
              "<Figure size 1152x576 with 1 Axes>"
            ]
          },
          "metadata": {
            "tags": []
          }
        }
      ]
    },
    {
      "cell_type": "code",
      "metadata": {
        "colab": {
          "base_uri": "https://localhost:8080/"
        },
        "id": "HlrWLxiwd4xm",
        "outputId": "2ee11589-14ee-467c-e703-6389f00d43b1"
      },
      "source": [
        "#X for model station o8\n",
        "X = df[['Hours', 'SecMin', 'o2', 'o3', 'o4','o5','o6','o7', 'Mon', 'Sun', 'Thu', 'Tue', 'Wed']]\n",
        "y = df['o8']\n",
        "\n",
        "X_train, X_test, y_train, y_test = train_test_split(X, y, test_size=0.2, random_state=0)\n",
        "ml = LinearRegression()\n",
        "ml.fit(X_train, y_train)\n",
        "y_pred = ml.predict(X_test)\n",
        "o8 = ml.predict([[hour,minSec,o2[0],o3[0],o4[0],o5[0],o6[0],o7[0],day[0],day[1],day[2],day[3],day[4]]])\n",
        "o8[0]"
      ],
      "execution_count": null,
      "outputs": [
        {
          "output_type": "execute_result",
          "data": {
            "text/plain": [
              "758.7592993275758"
            ]
          },
          "metadata": {
            "tags": []
          },
          "execution_count": 195
        }
      ]
    },
    {
      "cell_type": "code",
      "metadata": {
        "colab": {
          "base_uri": "https://localhost:8080/"
        },
        "id": "j34mkN5rd41H",
        "outputId": "27f43417-c708-4790-edd3-cf732c48171e"
      },
      "source": [
        "rmse = np.sqrt(mean_squared_error(y_test, y_pred))\n",
        "print(\"Max Error: %f\" % (max_error(y_test,y_pred)))\n",
        "print(\"Mean Absolute Error: %f\" % (mean_absolute_error(y_test,y_pred)))\n",
        "print(\"R^2: %f\" % (r2_score(y_test,y_pred)))\n",
        "print(\"RMSE: %f\" % (rmse))"
      ],
      "execution_count": null,
      "outputs": [
        {
          "output_type": "stream",
          "text": [
            "Max Error: 130.166348\n",
            "Mean Absolute Error: 6.513243\n",
            "R^2: 0.985887\n",
            "RMSE: 13.130303\n"
          ],
          "name": "stdout"
        }
      ]
    },
    {
      "cell_type": "code",
      "metadata": {
        "colab": {
          "base_uri": "https://localhost:8080/",
          "height": 576
        },
        "id": "Aukz9tFRd44Z",
        "outputId": "7d44f7ac-fe04-4db1-e04c-acbf66b1fd9c"
      },
      "source": [
        "plt.style.use('fivethirtyeight')\n",
        "\n",
        "plt.figure(figsize=(16,8))\n",
        "plt.scatter(y_test,y_pred)\n",
        "plt.xlabel('Actual')\n",
        "plt.ylabel('Predicted')\n",
        "plt.title('Actual vs Predicted')"
      ],
      "execution_count": null,
      "outputs": [
        {
          "output_type": "execute_result",
          "data": {
            "text/plain": [
              "Text(0.5, 1.0, 'Actual vs Predicted')"
            ]
          },
          "metadata": {
            "tags": []
          },
          "execution_count": 197
        },
        {
          "output_type": "display_data",
          "data": {
            "image/png": "[encoded data removed]",
            "text/plain": [
              "<Figure size 1152x576 with 1 Axes>"
            ]
          },
          "metadata": {
            "tags": []
          }
        }
      ]
    },
    {
      "cell_type": "code",
      "metadata": {
        "colab": {
          "base_uri": "https://localhost:8080/"
        },
        "id": "AjzTxq9leCYK",
        "outputId": "f33df0b9-cf8f-4b60-9543-cc6a5c03f9bf"
      },
      "source": [
        "#X for model station o9\n",
        "X = df[['Hours', 'SecMin', 'o2', 'o3', 'o4','o5','o6','o7','o8', 'Mon', 'Sun', 'Thu', 'Tue', 'Wed']]\n",
        "y = df['o9']\n",
        "\n",
        "X_train, X_test, y_train, y_test = train_test_split(X, y, test_size=0.2, random_state=0)\n",
        "ml = LinearRegression()\n",
        "ml.fit(X_train, y_train)\n",
        "y_pred = ml.predict(X_test)\n",
        "o9 = ml.predict([[hour,minSec,o2[0],o3[0],o4[0],o5[0],o6[0],o7[0],o8[0],day[0],day[1],day[2],day[3],day[4]]])\n",
        "o9[0]"
      ],
      "execution_count": null,
      "outputs": [
        {
          "output_type": "execute_result",
          "data": {
            "text/plain": [
              "859.4329726502635"
            ]
          },
          "metadata": {
            "tags": []
          },
          "execution_count": 198
        }
      ]
    },
    {
      "cell_type": "code",
      "metadata": {
        "colab": {
          "base_uri": "https://localhost:8080/"
        },
        "id": "9ndk5p2XeCex",
        "outputId": "3ddbfb03-d4bd-4785-e7cc-e1877da90c7a"
      },
      "source": [
        "rmse = np.sqrt(mean_squared_error(y_test, y_pred))\n",
        "print(\"Max Error: %f\" % (max_error(y_test,y_pred)))\n",
        "print(\"Mean Absolute Error: %f\" % (mean_absolute_error(y_test,y_pred)))\n",
        "print(\"R^2: %f\" % (r2_score(y_test,y_pred)))\n",
        "print(\"RMSE: %f\" % (rmse))"
      ],
      "execution_count": null,
      "outputs": [
        {
          "output_type": "stream",
          "text": [
            "Max Error: 60.265158\n",
            "Mean Absolute Error: 6.811227\n",
            "R^2: 0.988927\n",
            "RMSE: 11.975092\n"
          ],
          "name": "stdout"
        }
      ]
    },
    {
      "cell_type": "code",
      "metadata": {
        "colab": {
          "base_uri": "https://localhost:8080/",
          "height": 576
        },
        "id": "2LHrWd2_eCla",
        "outputId": "220c343a-2db4-43ee-9ecd-6ab99e5c8d25"
      },
      "source": [
        "plt.style.use('fivethirtyeight')\n",
        "\n",
        "plt.figure(figsize=(16,8))\n",
        "plt.scatter(y_test,y_pred)\n",
        "plt.xlabel('Actual')\n",
        "plt.ylabel('Predicted')\n",
        "plt.title('Actual vs Predicted')"
      ],
      "execution_count": null,
      "outputs": [
        {
          "output_type": "execute_result",
          "data": {
            "text/plain": [
              "Text(0.5, 1.0, 'Actual vs Predicted')"
            ]
          },
          "metadata": {
            "tags": []
          },
          "execution_count": 200
        },
        {
          "output_type": "display_data",
          "data": {
            "image/png": "[encoded data removed]",
            "text/plain": [
              "<Figure size 1152x576 with 1 Axes>"
            ]
          },
          "metadata": {
            "tags": []
          }
        }
      ]
    },
    {
      "cell_type": "code",
      "metadata": {
        "colab": {
          "base_uri": "https://localhost:8080/"
        },
        "id": "9bjGCFUDeKka",
        "outputId": "48fbf34f-58af-4df0-8f58-30b369e1b78a"
      },
      "source": [
        "#X for model station o10\n",
        "X = df[['Hours', 'SecMin', 'o2', 'o3', 'o4','o5','o6','o7','o8','o9', 'Mon', 'Sun', 'Thu', 'Tue', 'Wed']]\n",
        "y = df['o10']\n",
        "\n",
        "X_train, X_test, y_train, y_test = train_test_split(X, y, test_size=0.2, random_state=0)\n",
        "ml = LinearRegression()\n",
        "ml.fit(X_train, y_train)\n",
        "y_pred = ml.predict(X_test)\n",
        "o10 = ml.predict([[hour,minSec,o2[0],o3[0],o4[0],o5[0],o6[0],o7[0],o8[0],o9[0],day[0],day[1],day[2],day[3],day[4]]])\n",
        "o10[0]"
      ],
      "execution_count": null,
      "outputs": [
        {
          "output_type": "execute_result",
          "data": {
            "text/plain": [
              "931.015701571287"
            ]
          },
          "metadata": {
            "tags": []
          },
          "execution_count": 201
        }
      ]
    },
    {
      "cell_type": "code",
      "metadata": {
        "colab": {
          "base_uri": "https://localhost:8080/"
        },
        "id": "rmyU1RGpeKsW",
        "outputId": "540b4dec-973a-443b-f9cc-0a71ee5941f9"
      },
      "source": [
        "rmse = np.sqrt(mean_squared_error(y_test, y_pred))\n",
        "print(\"Max Error: %f\" % (max_error(y_test,y_pred)))\n",
        "print(\"Mean Absolute Error: %f\" % (mean_absolute_error(y_test,y_pred)))\n",
        "print(\"R^2: %f\" % (r2_score(y_test,y_pred)))\n",
        "print(\"RMSE: %f\" % (rmse))"
      ],
      "execution_count": null,
      "outputs": [
        {
          "output_type": "stream",
          "text": [
            "Max Error: 48.298652\n",
            "Mean Absolute Error: 5.891090\n",
            "R^2: 0.992635\n",
            "RMSE: 9.915018\n"
          ],
          "name": "stdout"
        }
      ]
    },
    {
      "cell_type": "code",
      "metadata": {
        "colab": {
          "base_uri": "https://localhost:8080/",
          "height": 576
        },
        "id": "_3W6XZnmeKyz",
        "outputId": "d883e18a-d248-44eb-b2d7-0eb0f525af39"
      },
      "source": [
        "plt.style.use('fivethirtyeight')\n",
        "\n",
        "plt.figure(figsize=(16,8))\n",
        "plt.scatter(y_test,y_pred)\n",
        "plt.xlabel('Actual')\n",
        "plt.ylabel('Predicted')\n",
        "plt.title('Actual vs Predicted')"
      ],
      "execution_count": null,
      "outputs": [
        {
          "output_type": "execute_result",
          "data": {
            "text/plain": [
              "Text(0.5, 1.0, 'Actual vs Predicted')"
            ]
          },
          "metadata": {
            "tags": []
          },
          "execution_count": 203
        },
        {
          "output_type": "display_data",
          "data": {
            "image/png": "[encoded data removed]",
            "text/plain": [
              "<Figure size 1152x576 with 1 Axes>"
            ]
          },
          "metadata": {
            "tags": []
          }
        }
      ]
    },
    {
      "cell_type": "code",
      "metadata": {
        "colab": {
          "base_uri": "https://localhost:8080/"
        },
        "id": "1NX5u7KGeUei",
        "outputId": "d150d2d1-aa26-4475-b1cf-3f94063a4c6f"
      },
      "source": [
        "#X for model station o11\n",
        "X = df[['Hours', 'SecMin', 'o2', 'o3', 'o4','o5','o6','o7','o8','o9','o10', 'Mon', 'Sun', 'Thu', 'Tue', 'Wed']]\n",
        "y = df['o11']\n",
        "\n",
        "X_train, X_test, y_train, y_test = train_test_split(X, y, test_size=0.2, random_state=0)\n",
        "ml = LinearRegression()\n",
        "ml.fit(X_train, y_train)\n",
        "y_pred = ml.predict(X_test)\n",
        "o11 = ml.predict([[hour,minSec,o2[0],o3[0],o4[0],o5[0],o6[0],o7[0],o8[0],o9[0],o10[0],day[0],day[1],day[2],day[3],day[4]]])\n",
        "o11[0]"
      ],
      "execution_count": null,
      "outputs": [
        {
          "output_type": "execute_result",
          "data": {
            "text/plain": [
              "991.1977362456256"
            ]
          },
          "metadata": {
            "tags": []
          },
          "execution_count": 204
        }
      ]
    },
    {
      "cell_type": "code",
      "metadata": {
        "colab": {
          "base_uri": "https://localhost:8080/"
        },
        "id": "qTeisIxEeUid",
        "outputId": "4ff08450-2d34-4d83-81a2-9a14c94a9fb3"
      },
      "source": [
        "rmse = np.sqrt(mean_squared_error(y_test, y_pred))\n",
        "print(\"Max Error: %f\" % (max_error(y_test,y_pred)))\n",
        "print(\"Mean Absolute Error: %f\" % (mean_absolute_error(y_test,y_pred)))\n",
        "print(\"R^2: %f\" % (r2_score(y_test,y_pred)))\n",
        "print(\"RMSE: %f\" % (rmse))"
      ],
      "execution_count": null,
      "outputs": [
        {
          "output_type": "stream",
          "text": [
            "Max Error: 57.747326\n",
            "Mean Absolute Error: 5.432553\n",
            "R^2: 0.993405\n",
            "RMSE: 9.612984\n"
          ],
          "name": "stdout"
        }
      ]
    },
    {
      "cell_type": "code",
      "metadata": {
        "colab": {
          "base_uri": "https://localhost:8080/",
          "height": 576
        },
        "id": "IPRYgjtreUm5",
        "outputId": "95dfaf25-89ac-439e-eb88-2997e5c2145e"
      },
      "source": [
        "plt.style.use('fivethirtyeight')\n",
        "\n",
        "plt.figure(figsize=(16,8))\n",
        "plt.scatter(y_test,y_pred)\n",
        "plt.xlabel('Actual')\n",
        "plt.ylabel('Predicted')\n",
        "plt.title('Actual vs Predicted')"
      ],
      "execution_count": null,
      "outputs": [
        {
          "output_type": "execute_result",
          "data": {
            "text/plain": [
              "Text(0.5, 1.0, 'Actual vs Predicted')"
            ]
          },
          "metadata": {
            "tags": []
          },
          "execution_count": 206
        },
        {
          "output_type": "display_data",
          "data": {
            "image/png": "[encoded data removed]",
            "text/plain": [
              "<Figure size 1152x576 with 1 Axes>"
            ]
          },
          "metadata": {
            "tags": []
          }
        }
      ]
    },
    {
      "cell_type": "code",
      "metadata": {
        "colab": {
          "base_uri": "https://localhost:8080/"
        },
        "id": "RVb-jLHWedtx",
        "outputId": "4248446b-632d-4ed4-f128-f376cd57dc5e"
      },
      "source": [
        "#X for model station o12\n",
        "X = df[['Hours', 'SecMin', 'o2', 'o3', 'o4','o5','o6','o7','o8','o9','o10','o11', 'Mon', 'Sun', 'Thu', 'Tue', 'Wed']]\n",
        "y = df['o12']\n",
        "\n",
        "X_train, X_test, y_train, y_test = train_test_split(X, y, test_size=0.2, random_state=0)\n",
        "ml = LinearRegression()\n",
        "ml.fit(X_train, y_train)\n",
        "y_pred = ml.predict(X_test)\n",
        "o12 = ml.predict([[hour,minSec,o2[0],o3[0],o4[0],o5[0],o6[0],o7[0],o8[0],o9[0],o10[0],o11[0],day[0],day[1],day[2],day[3],day[4]]])\n",
        "o12[0]"
      ],
      "execution_count": null,
      "outputs": [
        {
          "output_type": "execute_result",
          "data": {
            "text/plain": [
              "1033.588839573234"
            ]
          },
          "metadata": {
            "tags": []
          },
          "execution_count": 207
        }
      ]
    },
    {
      "cell_type": "code",
      "metadata": {
        "colab": {
          "base_uri": "https://localhost:8080/"
        },
        "id": "uR4vNXnFedxl",
        "outputId": "f2cf7c59-8ad7-4841-ac4c-e9627f9f8893"
      },
      "source": [
        "rmse = np.sqrt(mean_squared_error(y_test, y_pred))\n",
        "print(\"Max Error: %f\" % (max_error(y_test,y_pred)))\n",
        "print(\"Mean Absolute Error: %f\" % (mean_absolute_error(y_test,y_pred)))\n",
        "print(\"R^2: %f\" % (r2_score(y_test,y_pred)))\n",
        "print(\"RMSE: %f\" % (rmse))"
      ],
      "execution_count": null,
      "outputs": [
        {
          "output_type": "stream",
          "text": [
            "Max Error: 47.312399\n",
            "Mean Absolute Error: 4.182011\n",
            "R^2: 0.995639\n",
            "RMSE: 8.069463\n"
          ],
          "name": "stdout"
        }
      ]
    },
    {
      "cell_type": "code",
      "metadata": {
        "colab": {
          "base_uri": "https://localhost:8080/",
          "height": 576
        },
        "id": "aEewK1Oyed1z",
        "outputId": "3004690b-0da8-4428-f0e0-105637928852"
      },
      "source": [
        "plt.style.use('fivethirtyeight')\n",
        "\n",
        "plt.figure(figsize=(16,8))\n",
        "plt.scatter(y_test,y_pred)\n",
        "plt.xlabel('Actual')\n",
        "plt.ylabel('Predicted')\n",
        "plt.title('Actual vs Predicted')"
      ],
      "execution_count": null,
      "outputs": [
        {
          "output_type": "execute_result",
          "data": {
            "text/plain": [
              "Text(0.5, 1.0, 'Actual vs Predicted')"
            ]
          },
          "metadata": {
            "tags": []
          },
          "execution_count": 209
        },
        {
          "output_type": "display_data",
          "data": {
            "image/png": "[encoded data removed]",
            "text/plain": [
              "<Figure size 1152x576 with 1 Axes>"
            ]
          },
          "metadata": {
            "tags": []
          }
        }
      ]
    },
    {
      "cell_type": "code",
      "metadata": {
        "colab": {
          "base_uri": "https://localhost:8080/"
        },
        "id": "JYSe0S4Cek39",
        "outputId": "8354ed8a-bd7b-43f1-d2a5-1368932ef33f"
      },
      "source": [
        "#X for model station o13\n",
        "X = df[['Hours', 'SecMin', 'o2', 'o3', 'o4','o5','o6','o7','o8','o9','o10','o11','o12', 'Mon', 'Sun', 'Thu', 'Tue', 'Wed']]\n",
        "y = df['o13']\n",
        "\n",
        "X_train, X_test, y_train, y_test = train_test_split(X, y, test_size=0.2, random_state=0)\n",
        "ml = LinearRegression()\n",
        "ml.fit(X_train, y_train)\n",
        "y_pred = ml.predict(X_test)\n",
        "o13 = ml.predict([[hour,minSec,o2[0],o3[0],o4[0],o5[0],o6[0],o7[0],o8[0],o9[0],o10[0],o11[0],o12[0],day[0],day[1],day[2],day[3],day[4]]])\n",
        "o13[0]"
      ],
      "execution_count": null,
      "outputs": [
        {
          "output_type": "execute_result",
          "data": {
            "text/plain": [
              "1076.647109773297"
            ]
          },
          "metadata": {
            "tags": []
          },
          "execution_count": 210
        }
      ]
    },
    {
      "cell_type": "code",
      "metadata": {
        "colab": {
          "base_uri": "https://localhost:8080/"
        },
        "id": "Q8AJjZGyek66",
        "outputId": "aaa29d8b-d9f7-4d3f-e22c-00229461af77"
      },
      "source": [
        "rmse = np.sqrt(mean_squared_error(y_test, y_pred))\n",
        "print(\"Max Error: %f\" % (max_error(y_test,y_pred)))\n",
        "print(\"Mean Absolute Error: %f\" % (mean_absolute_error(y_test,y_pred)))\n",
        "print(\"R^2: %f\" % (r2_score(y_test,y_pred)))\n",
        "print(\"RMSE: %f\" % (rmse))"
      ],
      "execution_count": null,
      "outputs": [
        {
          "output_type": "stream",
          "text": [
            "Max Error: 62.516610\n",
            "Mean Absolute Error: 8.142954\n",
            "R^2: 0.990334\n",
            "RMSE: 12.530765\n"
          ],
          "name": "stdout"
        }
      ]
    },
    {
      "cell_type": "code",
      "metadata": {
        "colab": {
          "base_uri": "https://localhost:8080/",
          "height": 576
        },
        "id": "iyrlf2F7ek-e",
        "outputId": "84e27d5f-5651-4fa0-f1e0-e66475394304"
      },
      "source": [
        "plt.style.use('fivethirtyeight')\n",
        "\n",
        "plt.figure(figsize=(16,8))\n",
        "plt.scatter(y_test,y_pred)\n",
        "plt.xlabel('Actual')\n",
        "plt.ylabel('Predicted')\n",
        "plt.title('Actual vs Predicted')"
      ],
      "execution_count": null,
      "outputs": [
        {
          "output_type": "execute_result",
          "data": {
            "text/plain": [
              "Text(0.5, 1.0, 'Actual vs Predicted')"
            ]
          },
          "metadata": {
            "tags": []
          },
          "execution_count": 212
        },
        {
          "output_type": "display_data",
          "data": {
            "image/png": "[encoded data removed]",
            "text/plain": [
              "<Figure size 1152x576 with 1 Axes>"
            ]
          },
          "metadata": {
            "tags": []
          }
        }
      ]
    },
    {
      "cell_type": "markdown",
      "metadata": {
        "id": "4qXj1DfJf5oy"
      },
      "source": [
        "#Predicted VS Real"
      ]
    },
    {
      "cell_type": "code",
      "metadata": {
        "colab": {
          "base_uri": "https://localhost:8080/"
        },
        "id": "UOOaFuHyku43",
        "outputId": "76f0043d-fc31-4fe2-a8f5-4910fa13ece5"
      },
      "source": [
        "#Let see predicted data\n",
        "\n",
        "print(\"The predicted of the station o2 is:\",o2[0])\n",
        "print(\"The predicted of the station o3 is:\",o3[0])\n",
        "print(\"The predicted of the station o4 is:\",o4[0])\n",
        "print(\"The predicted of the station o5 is:\",o5[0])\n",
        "print(\"The predicted of the station o6 is:\",o6[0])\n",
        "print(\"The predicted of the station o7 is:\",o7[0])\n",
        "print(\"The predicted of the station o8 is:\",o8[0])\n",
        "print(\"The predicted of the station o9 is:\",o9[0])\n",
        "print(\"The predicted of the station o10 is:\",o10[0])\n",
        "print(\"The predicted of the station o11 is:\",o11[0])\n",
        "print(\"The predicted of the station o12 is:\",o12[0])\n",
        "print(\"The predicted of the station o13 is:\",o13[0])"
      ],
      "execution_count": null,
      "outputs": [
        {
          "output_type": "stream",
          "text": [
            "The predicted of the station o2 is: 237.89288439798983\n",
            "The predicted of the station o3 is: 340.3856432816864\n",
            "The predicted of the station o4 is: 386.5481718335297\n",
            "The predicted of the station o5 is: 521.2199588203474\n",
            "The predicted of the station o6 is: 627.6995446342698\n",
            "The predicted of the station o7 is: 690.9075813998514\n",
            "The predicted of the station o8 is: 758.7592993275758\n",
            "The predicted of the station o9 is: 859.4329726502635\n",
            "The predicted of the station o10 is: 931.015701571287\n",
            "The predicted of the station o11 is: 991.1977362456256\n",
            "The predicted of the station o12 is: 1033.588839573234\n",
            "The predicted of the station o13 is: 1076.647109773297\n"
          ],
          "name": "stdout"
        }
      ]
    },
    {
      "cell_type": "code",
      "metadata": {
        "colab": {
          "base_uri": "https://localhost:8080/",
          "height": 698
        },
        "id": "mu8skltPmK3H",
        "outputId": "65d1016e-a968-4997-c327-6d6679c385fb"
      },
      "source": [
        "#Lets see data from df\n",
        "\n",
        "df_act = df.loc[(df['Hours'] == 16) & (df['SecMin'] == 45*60) & (df['Tue']==1)]\n",
        "df_act"
      ],
      "execution_count": null,
      "outputs": [
        {
          "output_type": "execute_result",
          "data": {
            "text/html": [
              "<div>\n",
              "<style scoped>\n",
              "    .dataframe tbody tr th:only-of-type {\n",
              "        vertical-align: middle;\n",
              "    }\n",
              "\n",
              "    .dataframe tbody tr th {\n",
              "        vertical-align: top;\n",
              "    }\n",
              "\n",
              "    .dataframe thead th {\n",
              "        text-align: right;\n",
              "    }\n",
              "</style>\n",
              "<table border=\"1\" class=\"dataframe\">\n",
              "  <thead>\n",
              "    <tr style=\"text-align: right;\">\n",
              "      <th></th>\n",
              "      <th>WeekDay</th>\n",
              "      <th>Hours</th>\n",
              "      <th>SecMin</th>\n",
              "      <th>Line</th>\n",
              "      <th>o2</th>\n",
              "      <th>o3</th>\n",
              "      <th>o4</th>\n",
              "      <th>o5</th>\n",
              "      <th>o6</th>\n",
              "      <th>o7</th>\n",
              "      <th>o8</th>\n",
              "      <th>o9</th>\n",
              "      <th>o10</th>\n",
              "      <th>o11</th>\n",
              "      <th>o12</th>\n",
              "      <th>o13</th>\n",
              "      <th>Mon</th>\n",
              "      <th>Sun</th>\n",
              "      <th>Thu</th>\n",
              "      <th>Tue</th>\n",
              "      <th>Wed</th>\n",
              "    </tr>\n",
              "  </thead>\n",
              "  <tbody>\n",
              "    <tr>\n",
              "      <th>533</th>\n",
              "      <td>Tue</td>\n",
              "      <td>16</td>\n",
              "      <td>2700</td>\n",
              "      <td>921</td>\n",
              "      <td>249</td>\n",
              "      <td>371</td>\n",
              "      <td>412</td>\n",
              "      <td>569</td>\n",
              "      <td>719</td>\n",
              "      <td>794</td>\n",
              "      <td>859</td>\n",
              "      <td>959</td>\n",
              "      <td>1030</td>\n",
              "      <td>1095</td>\n",
              "      <td>1141</td>\n",
              "      <td>1187</td>\n",
              "      <td>0</td>\n",
              "      <td>0</td>\n",
              "      <td>0</td>\n",
              "      <td>1</td>\n",
              "      <td>0</td>\n",
              "    </tr>\n",
              "    <tr>\n",
              "      <th>534</th>\n",
              "      <td>Tue</td>\n",
              "      <td>16</td>\n",
              "      <td>2700</td>\n",
              "      <td>921</td>\n",
              "      <td>243</td>\n",
              "      <td>387</td>\n",
              "      <td>428</td>\n",
              "      <td>613</td>\n",
              "      <td>757</td>\n",
              "      <td>834</td>\n",
              "      <td>899</td>\n",
              "      <td>999</td>\n",
              "      <td>1072</td>\n",
              "      <td>1137</td>\n",
              "      <td>1184</td>\n",
              "      <td>1232</td>\n",
              "      <td>0</td>\n",
              "      <td>0</td>\n",
              "      <td>0</td>\n",
              "      <td>1</td>\n",
              "      <td>0</td>\n",
              "    </tr>\n",
              "    <tr>\n",
              "      <th>535</th>\n",
              "      <td>Tue</td>\n",
              "      <td>16</td>\n",
              "      <td>2700</td>\n",
              "      <td>921</td>\n",
              "      <td>221</td>\n",
              "      <td>346</td>\n",
              "      <td>388</td>\n",
              "      <td>586</td>\n",
              "      <td>702</td>\n",
              "      <td>785</td>\n",
              "      <td>849</td>\n",
              "      <td>951</td>\n",
              "      <td>1025</td>\n",
              "      <td>1090</td>\n",
              "      <td>1136</td>\n",
              "      <td>1191</td>\n",
              "      <td>0</td>\n",
              "      <td>0</td>\n",
              "      <td>0</td>\n",
              "      <td>1</td>\n",
              "      <td>0</td>\n",
              "    </tr>\n",
              "    <tr>\n",
              "      <th>536</th>\n",
              "      <td>Tue</td>\n",
              "      <td>16</td>\n",
              "      <td>2700</td>\n",
              "      <td>921</td>\n",
              "      <td>203</td>\n",
              "      <td>345</td>\n",
              "      <td>387</td>\n",
              "      <td>627</td>\n",
              "      <td>729</td>\n",
              "      <td>841</td>\n",
              "      <td>904</td>\n",
              "      <td>1005</td>\n",
              "      <td>1079</td>\n",
              "      <td>1144</td>\n",
              "      <td>1190</td>\n",
              "      <td>1242</td>\n",
              "      <td>0</td>\n",
              "      <td>0</td>\n",
              "      <td>0</td>\n",
              "      <td>1</td>\n",
              "      <td>0</td>\n",
              "    </tr>\n",
              "    <tr>\n",
              "      <th>537</th>\n",
              "      <td>Tue</td>\n",
              "      <td>16</td>\n",
              "      <td>2700</td>\n",
              "      <td>921</td>\n",
              "      <td>212</td>\n",
              "      <td>357</td>\n",
              "      <td>399</td>\n",
              "      <td>641</td>\n",
              "      <td>731</td>\n",
              "      <td>827</td>\n",
              "      <td>889</td>\n",
              "      <td>992</td>\n",
              "      <td>1069</td>\n",
              "      <td>1134</td>\n",
              "      <td>1179</td>\n",
              "      <td>1227</td>\n",
              "      <td>0</td>\n",
              "      <td>0</td>\n",
              "      <td>0</td>\n",
              "      <td>1</td>\n",
              "      <td>0</td>\n",
              "    </tr>\n",
              "    <tr>\n",
              "      <th>538</th>\n",
              "      <td>Tue</td>\n",
              "      <td>16</td>\n",
              "      <td>2700</td>\n",
              "      <td>921</td>\n",
              "      <td>230</td>\n",
              "      <td>383</td>\n",
              "      <td>425</td>\n",
              "      <td>671</td>\n",
              "      <td>757</td>\n",
              "      <td>842</td>\n",
              "      <td>905</td>\n",
              "      <td>1004</td>\n",
              "      <td>1079</td>\n",
              "      <td>1143</td>\n",
              "      <td>1188</td>\n",
              "      <td>1234</td>\n",
              "      <td>0</td>\n",
              "      <td>0</td>\n",
              "      <td>0</td>\n",
              "      <td>1</td>\n",
              "      <td>0</td>\n",
              "    </tr>\n",
              "    <tr>\n",
              "      <th>539</th>\n",
              "      <td>Tue</td>\n",
              "      <td>16</td>\n",
              "      <td>2700</td>\n",
              "      <td>921</td>\n",
              "      <td>248</td>\n",
              "      <td>367</td>\n",
              "      <td>408</td>\n",
              "      <td>647</td>\n",
              "      <td>738</td>\n",
              "      <td>815</td>\n",
              "      <td>880</td>\n",
              "      <td>982</td>\n",
              "      <td>1056</td>\n",
              "      <td>1121</td>\n",
              "      <td>1167</td>\n",
              "      <td>1221</td>\n",
              "      <td>0</td>\n",
              "      <td>0</td>\n",
              "      <td>0</td>\n",
              "      <td>1</td>\n",
              "      <td>0</td>\n",
              "    </tr>\n",
              "    <tr>\n",
              "      <th>640</th>\n",
              "      <td>Tue</td>\n",
              "      <td>16</td>\n",
              "      <td>2700</td>\n",
              "      <td>921</td>\n",
              "      <td>271</td>\n",
              "      <td>387</td>\n",
              "      <td>429</td>\n",
              "      <td>599</td>\n",
              "      <td>692</td>\n",
              "      <td>799</td>\n",
              "      <td>864</td>\n",
              "      <td>963</td>\n",
              "      <td>1035</td>\n",
              "      <td>1097</td>\n",
              "      <td>1142</td>\n",
              "      <td>1195</td>\n",
              "      <td>0</td>\n",
              "      <td>0</td>\n",
              "      <td>0</td>\n",
              "      <td>1</td>\n",
              "      <td>0</td>\n",
              "    </tr>\n",
              "    <tr>\n",
              "      <th>641</th>\n",
              "      <td>Tue</td>\n",
              "      <td>16</td>\n",
              "      <td>2700</td>\n",
              "      <td>921</td>\n",
              "      <td>292</td>\n",
              "      <td>423</td>\n",
              "      <td>466</td>\n",
              "      <td>633</td>\n",
              "      <td>740</td>\n",
              "      <td>863</td>\n",
              "      <td>931</td>\n",
              "      <td>1033</td>\n",
              "      <td>1105</td>\n",
              "      <td>1168</td>\n",
              "      <td>1213</td>\n",
              "      <td>1269</td>\n",
              "      <td>0</td>\n",
              "      <td>0</td>\n",
              "      <td>0</td>\n",
              "      <td>1</td>\n",
              "      <td>0</td>\n",
              "    </tr>\n",
              "    <tr>\n",
              "      <th>642</th>\n",
              "      <td>Tue</td>\n",
              "      <td>16</td>\n",
              "      <td>2700</td>\n",
              "      <td>921</td>\n",
              "      <td>343</td>\n",
              "      <td>480</td>\n",
              "      <td>522</td>\n",
              "      <td>683</td>\n",
              "      <td>788</td>\n",
              "      <td>905</td>\n",
              "      <td>973</td>\n",
              "      <td>1078</td>\n",
              "      <td>1154</td>\n",
              "      <td>1219</td>\n",
              "      <td>1264</td>\n",
              "      <td>1316</td>\n",
              "      <td>0</td>\n",
              "      <td>0</td>\n",
              "      <td>0</td>\n",
              "      <td>1</td>\n",
              "      <td>0</td>\n",
              "    </tr>\n",
              "    <tr>\n",
              "      <th>643</th>\n",
              "      <td>Tue</td>\n",
              "      <td>16</td>\n",
              "      <td>2700</td>\n",
              "      <td>921</td>\n",
              "      <td>235</td>\n",
              "      <td>372</td>\n",
              "      <td>414</td>\n",
              "      <td>589</td>\n",
              "      <td>717</td>\n",
              "      <td>899</td>\n",
              "      <td>965</td>\n",
              "      <td>1069</td>\n",
              "      <td>1143</td>\n",
              "      <td>1208</td>\n",
              "      <td>1254</td>\n",
              "      <td>1304</td>\n",
              "      <td>0</td>\n",
              "      <td>0</td>\n",
              "      <td>0</td>\n",
              "      <td>1</td>\n",
              "      <td>0</td>\n",
              "    </tr>\n",
              "    <tr>\n",
              "      <th>644</th>\n",
              "      <td>Tue</td>\n",
              "      <td>16</td>\n",
              "      <td>2700</td>\n",
              "      <td>921</td>\n",
              "      <td>237</td>\n",
              "      <td>368</td>\n",
              "      <td>409</td>\n",
              "      <td>595</td>\n",
              "      <td>758</td>\n",
              "      <td>959</td>\n",
              "      <td>1027</td>\n",
              "      <td>1131</td>\n",
              "      <td>1205</td>\n",
              "      <td>1268</td>\n",
              "      <td>1314</td>\n",
              "      <td>1367</td>\n",
              "      <td>0</td>\n",
              "      <td>0</td>\n",
              "      <td>0</td>\n",
              "      <td>1</td>\n",
              "      <td>0</td>\n",
              "    </tr>\n",
              "    <tr>\n",
              "      <th>645</th>\n",
              "      <td>Tue</td>\n",
              "      <td>16</td>\n",
              "      <td>2700</td>\n",
              "      <td>921</td>\n",
              "      <td>251</td>\n",
              "      <td>451</td>\n",
              "      <td>492</td>\n",
              "      <td>663</td>\n",
              "      <td>858</td>\n",
              "      <td>1021</td>\n",
              "      <td>1088</td>\n",
              "      <td>1189</td>\n",
              "      <td>1261</td>\n",
              "      <td>1325</td>\n",
              "      <td>1371</td>\n",
              "      <td>1424</td>\n",
              "      <td>0</td>\n",
              "      <td>0</td>\n",
              "      <td>0</td>\n",
              "      <td>1</td>\n",
              "      <td>0</td>\n",
              "    </tr>\n",
              "    <tr>\n",
              "      <th>646</th>\n",
              "      <td>Tue</td>\n",
              "      <td>16</td>\n",
              "      <td>2700</td>\n",
              "      <td>921</td>\n",
              "      <td>234</td>\n",
              "      <td>440</td>\n",
              "      <td>480</td>\n",
              "      <td>635</td>\n",
              "      <td>885</td>\n",
              "      <td>1068</td>\n",
              "      <td>1136</td>\n",
              "      <td>1240</td>\n",
              "      <td>1314</td>\n",
              "      <td>1378</td>\n",
              "      <td>1424</td>\n",
              "      <td>1484</td>\n",
              "      <td>0</td>\n",
              "      <td>0</td>\n",
              "      <td>0</td>\n",
              "      <td>1</td>\n",
              "      <td>0</td>\n",
              "    </tr>\n",
              "    <tr>\n",
              "      <th>678</th>\n",
              "      <td>Tue</td>\n",
              "      <td>16</td>\n",
              "      <td>2700</td>\n",
              "      <td>921</td>\n",
              "      <td>291</td>\n",
              "      <td>425</td>\n",
              "      <td>467</td>\n",
              "      <td>657</td>\n",
              "      <td>845</td>\n",
              "      <td>927</td>\n",
              "      <td>992</td>\n",
              "      <td>1094</td>\n",
              "      <td>1166</td>\n",
              "      <td>1231</td>\n",
              "      <td>1278</td>\n",
              "      <td>1330</td>\n",
              "      <td>0</td>\n",
              "      <td>0</td>\n",
              "      <td>0</td>\n",
              "      <td>1</td>\n",
              "      <td>0</td>\n",
              "    </tr>\n",
              "    <tr>\n",
              "      <th>679</th>\n",
              "      <td>Tue</td>\n",
              "      <td>16</td>\n",
              "      <td>2700</td>\n",
              "      <td>921</td>\n",
              "      <td>301</td>\n",
              "      <td>438</td>\n",
              "      <td>480</td>\n",
              "      <td>668</td>\n",
              "      <td>904</td>\n",
              "      <td>981</td>\n",
              "      <td>1046</td>\n",
              "      <td>1149</td>\n",
              "      <td>1222</td>\n",
              "      <td>1287</td>\n",
              "      <td>1334</td>\n",
              "      <td>1390</td>\n",
              "      <td>0</td>\n",
              "      <td>0</td>\n",
              "      <td>0</td>\n",
              "      <td>1</td>\n",
              "      <td>0</td>\n",
              "    </tr>\n",
              "    <tr>\n",
              "      <th>680</th>\n",
              "      <td>Tue</td>\n",
              "      <td>16</td>\n",
              "      <td>2700</td>\n",
              "      <td>921</td>\n",
              "      <td>248</td>\n",
              "      <td>389</td>\n",
              "      <td>431</td>\n",
              "      <td>611</td>\n",
              "      <td>836</td>\n",
              "      <td>912</td>\n",
              "      <td>976</td>\n",
              "      <td>1079</td>\n",
              "      <td>1151</td>\n",
              "      <td>1216</td>\n",
              "      <td>1262</td>\n",
              "      <td>1316</td>\n",
              "      <td>0</td>\n",
              "      <td>0</td>\n",
              "      <td>0</td>\n",
              "      <td>1</td>\n",
              "      <td>0</td>\n",
              "    </tr>\n",
              "    <tr>\n",
              "      <th>681</th>\n",
              "      <td>Tue</td>\n",
              "      <td>16</td>\n",
              "      <td>2700</td>\n",
              "      <td>921</td>\n",
              "      <td>236</td>\n",
              "      <td>391</td>\n",
              "      <td>433</td>\n",
              "      <td>610</td>\n",
              "      <td>832</td>\n",
              "      <td>907</td>\n",
              "      <td>973</td>\n",
              "      <td>1071</td>\n",
              "      <td>1145</td>\n",
              "      <td>1211</td>\n",
              "      <td>1258</td>\n",
              "      <td>1310</td>\n",
              "      <td>0</td>\n",
              "      <td>0</td>\n",
              "      <td>0</td>\n",
              "      <td>1</td>\n",
              "      <td>0</td>\n",
              "    </tr>\n",
              "    <tr>\n",
              "      <th>682</th>\n",
              "      <td>Tue</td>\n",
              "      <td>16</td>\n",
              "      <td>2700</td>\n",
              "      <td>921</td>\n",
              "      <td>240</td>\n",
              "      <td>397</td>\n",
              "      <td>438</td>\n",
              "      <td>624</td>\n",
              "      <td>823</td>\n",
              "      <td>901</td>\n",
              "      <td>963</td>\n",
              "      <td>1063</td>\n",
              "      <td>1137</td>\n",
              "      <td>1203</td>\n",
              "      <td>1250</td>\n",
              "      <td>1306</td>\n",
              "      <td>0</td>\n",
              "      <td>0</td>\n",
              "      <td>0</td>\n",
              "      <td>1</td>\n",
              "      <td>0</td>\n",
              "    </tr>\n",
              "    <tr>\n",
              "      <th>1514</th>\n",
              "      <td>Tue</td>\n",
              "      <td>16</td>\n",
              "      <td>2700</td>\n",
              "      <td>921</td>\n",
              "      <td>152</td>\n",
              "      <td>451</td>\n",
              "      <td>600</td>\n",
              "      <td>654</td>\n",
              "      <td>867</td>\n",
              "      <td>966</td>\n",
              "      <td>1024</td>\n",
              "      <td>1143</td>\n",
              "      <td>1228</td>\n",
              "      <td>1293</td>\n",
              "      <td>1328</td>\n",
              "      <td>1352</td>\n",
              "      <td>0</td>\n",
              "      <td>0</td>\n",
              "      <td>0</td>\n",
              "      <td>1</td>\n",
              "      <td>0</td>\n",
              "    </tr>\n",
              "    <tr>\n",
              "      <th>1572</th>\n",
              "      <td>Tue</td>\n",
              "      <td>16</td>\n",
              "      <td>2700</td>\n",
              "      <td>921</td>\n",
              "      <td>247</td>\n",
              "      <td>333</td>\n",
              "      <td>366</td>\n",
              "      <td>587</td>\n",
              "      <td>650</td>\n",
              "      <td>746</td>\n",
              "      <td>854</td>\n",
              "      <td>941</td>\n",
              "      <td>996</td>\n",
              "      <td>1037</td>\n",
              "      <td>1092</td>\n",
              "      <td>1113</td>\n",
              "      <td>0</td>\n",
              "      <td>0</td>\n",
              "      <td>0</td>\n",
              "      <td>1</td>\n",
              "      <td>0</td>\n",
              "    </tr>\n",
              "  </tbody>\n",
              "</table>\n",
              "</div>"
            ],
            "text/plain": [
              "     WeekDay  Hours  SecMin  Line   o2   o3  ...   o13  Mon  Sun  Thu  Tue  Wed\n",
              "533      Tue     16    2700   921  249  371  ...  1187    0    0    0    1    0\n",
              "534      Tue     16    2700   921  243  387  ...  1232    0    0    0    1    0\n",
              "535      Tue     16    2700   921  221  346  ...  1191    0    0    0    1    0\n",
              "536      Tue     16    2700   921  203  345  ...  1242    0    0    0    1    0\n",
              "537      Tue     16    2700   921  212  357  ...  1227    0    0    0    1    0\n",
              "538      Tue     16    2700   921  230  383  ...  1234    0    0    0    1    0\n",
              "539      Tue     16    2700   921  248  367  ...  1221    0    0    0    1    0\n",
              "640      Tue     16    2700   921  271  387  ...  1195    0    0    0    1    0\n",
              "641      Tue     16    2700   921  292  423  ...  1269    0    0    0    1    0\n",
              "642      Tue     16    2700   921  343  480  ...  1316    0    0    0    1    0\n",
              "643      Tue     16    2700   921  235  372  ...  1304    0    0    0    1    0\n",
              "644      Tue     16    2700   921  237  368  ...  1367    0    0    0    1    0\n",
              "645      Tue     16    2700   921  251  451  ...  1424    0    0    0    1    0\n",
              "646      Tue     16    2700   921  234  440  ...  1484    0    0    0    1    0\n",
              "678      Tue     16    2700   921  291  425  ...  1330    0    0    0    1    0\n",
              "679      Tue     16    2700   921  301  438  ...  1390    0    0    0    1    0\n",
              "680      Tue     16    2700   921  248  389  ...  1316    0    0    0    1    0\n",
              "681      Tue     16    2700   921  236  391  ...  1310    0    0    0    1    0\n",
              "682      Tue     16    2700   921  240  397  ...  1306    0    0    0    1    0\n",
              "1514     Tue     16    2700   921  152  451  ...  1352    0    0    0    1    0\n",
              "1572     Tue     16    2700   921  247  333  ...  1113    0    0    0    1    0\n",
              "\n",
              "[21 rows x 21 columns]"
            ]
          },
          "metadata": {
            "tags": []
          },
          "execution_count": 214
        }
      ]
    }
  ]
}