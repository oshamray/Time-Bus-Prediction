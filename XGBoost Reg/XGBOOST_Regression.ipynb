{
  "nbformat": 4,
  "nbformat_minor": 0,
  "metadata": {
    "colab": {
      "name": "XGBOOST Regression.ipynb",
      "provenance": [],
      "collapsed_sections": []
    },
    "kernelspec": {
      "name": "python3",
      "display_name": "Python 3"
    },
    "language_info": {
      "name": "python"
    }
  },
  "cells": [
    {
      "cell_type": "markdown",
      "metadata": {
        "id": "0JUbeSQL7Jte"
      },
      "source": [
        "#XGBOOST Regression"
      ]
    },
    {
      "cell_type": "code",
      "metadata": {
        "id": "kCXmqJhm7JHz"
      },
      "source": [
        "import pandas as pd\n",
        "import numpy as np\n",
        "import matplotlib.pyplot as plt\n",
        "import xgboost\n",
        "import matplotlib.pyplot as plt\n",
        "from sklearn.model_selection import train_test_split\n",
        "from sklearn.metrics import r2_score\n",
        "from sklearn.metrics import mean_squared_error\n",
        "from scipy.stats import mannwhitneyu"
      ],
      "execution_count": 99,
      "outputs": []
    },
    {
      "cell_type": "code",
      "metadata": {
        "id": "xjcxC0Af9ddC"
      },
      "source": [
        "def model(x_train,y_train):\n",
        "  x_train,x_test,y_train,y_test = train_test_split(x,y,test_size = 0.2,random_state = 0)\n",
        "  xgb_model = xgboost.XGBRegressor(n_estimators=100, \n",
        "                                    learning_rate=0.2, \n",
        "                                    gamma=0,\n",
        "                                    subsample=0.5,\n",
        "                                    colsample_bytree=0.5, \n",
        "                                    max_depth=5)\n",
        "    \n",
        "  xgb_results = xgb_model.fit(x_train,y_train, verbose=True)\n",
        "  y_pred = xgb_results.predict(x_test)\n",
        "  return xgb_model, y_test, y_pred"
      ],
      "execution_count": 100,
      "outputs": []
    },
    {
      "cell_type": "code",
      "metadata": {
        "id": "EIxtYRkkx_FS"
      },
      "source": [
        "# Mann-Whitney U test\n",
        "#The function check diference between predicted times to real times\n",
        "def checkDiff(dt, dt2,cntSame,cntDiff):\n",
        "  data1 = dt\n",
        "  data2 = dt2\n",
        "  # compare samples\n",
        "  stat, p = mannwhitneyu(data1, data2)\n",
        "  print('Statistics=%.3f, p=%.3f' % (stat, p))\n",
        "  # interpret\n",
        "  alpha = 0.05\n",
        "  if p > alpha:\n",
        "    cntSame = cntSame + 1\n",
        "    #print('Same distribution (fail to reject H0)')\n",
        "  else:\n",
        "    cntDiff = cntDiff + 1\n",
        "    #print('Different distribution (reject H0)')\n",
        "  return cntSame, cntDiff"
      ],
      "execution_count": 101,
      "outputs": []
    },
    {
      "cell_type": "code",
      "metadata": {
        "colab": {
          "base_uri": "https://localhost:8080/",
          "height": 417
        },
        "id": "HtI8nd-083MX",
        "outputId": "6da6b6f8-dfb3-4dc5-9709-46b48827c171"
      },
      "source": [
        "#Load final file with all data\n",
        "dfbus = pd.read_excel('final_reg.xls', index_col=0)\n",
        "dfbus = dfbus.join(pd.get_dummies(dfbus['WeekDay']))\n",
        "dfbus"
      ],
      "execution_count": 102,
      "outputs": [
        {
          "output_type": "execute_result",
          "data": {
            "text/html": [
              "<div>\n",
              "<style scoped>\n",
              "    .dataframe tbody tr th:only-of-type {\n",
              "        vertical-align: middle;\n",
              "    }\n",
              "\n",
              "    .dataframe tbody tr th {\n",
              "        vertical-align: top;\n",
              "    }\n",
              "\n",
              "    .dataframe thead th {\n",
              "        text-align: right;\n",
              "    }\n",
              "</style>\n",
              "<table border=\"1\" class=\"dataframe\">\n",
              "  <thead>\n",
              "    <tr style=\"text-align: right;\">\n",
              "      <th></th>\n",
              "      <th>WeekDay</th>\n",
              "      <th>Hours</th>\n",
              "      <th>SecMin</th>\n",
              "      <th>Line</th>\n",
              "      <th>o2</th>\n",
              "      <th>o3</th>\n",
              "      <th>o4</th>\n",
              "      <th>o5</th>\n",
              "      <th>o6</th>\n",
              "      <th>o7</th>\n",
              "      <th>o8</th>\n",
              "      <th>o9</th>\n",
              "      <th>o10</th>\n",
              "      <th>o11</th>\n",
              "      <th>o12</th>\n",
              "      <th>o13</th>\n",
              "      <th>Mon</th>\n",
              "      <th>Sun</th>\n",
              "      <th>Thu</th>\n",
              "      <th>Tue</th>\n",
              "      <th>Wed</th>\n",
              "    </tr>\n",
              "  </thead>\n",
              "  <tbody>\n",
              "    <tr>\n",
              "      <th>0</th>\n",
              "      <td>Sun</td>\n",
              "      <td>9</td>\n",
              "      <td>0</td>\n",
              "      <td>921</td>\n",
              "      <td>199</td>\n",
              "      <td>285</td>\n",
              "      <td>325</td>\n",
              "      <td>478</td>\n",
              "      <td>557</td>\n",
              "      <td>620</td>\n",
              "      <td>683</td>\n",
              "      <td>783</td>\n",
              "      <td>858</td>\n",
              "      <td>923</td>\n",
              "      <td>969</td>\n",
              "      <td>1028</td>\n",
              "      <td>0</td>\n",
              "      <td>1</td>\n",
              "      <td>0</td>\n",
              "      <td>0</td>\n",
              "      <td>0</td>\n",
              "    </tr>\n",
              "    <tr>\n",
              "      <th>1</th>\n",
              "      <td>Sun</td>\n",
              "      <td>9</td>\n",
              "      <td>0</td>\n",
              "      <td>921</td>\n",
              "      <td>208</td>\n",
              "      <td>295</td>\n",
              "      <td>335</td>\n",
              "      <td>486</td>\n",
              "      <td>565</td>\n",
              "      <td>625</td>\n",
              "      <td>689</td>\n",
              "      <td>788</td>\n",
              "      <td>863</td>\n",
              "      <td>929</td>\n",
              "      <td>975</td>\n",
              "      <td>1031</td>\n",
              "      <td>0</td>\n",
              "      <td>1</td>\n",
              "      <td>0</td>\n",
              "      <td>0</td>\n",
              "      <td>0</td>\n",
              "    </tr>\n",
              "    <tr>\n",
              "      <th>2</th>\n",
              "      <td>Sun</td>\n",
              "      <td>9</td>\n",
              "      <td>0</td>\n",
              "      <td>921</td>\n",
              "      <td>198</td>\n",
              "      <td>300</td>\n",
              "      <td>340</td>\n",
              "      <td>492</td>\n",
              "      <td>571</td>\n",
              "      <td>634</td>\n",
              "      <td>698</td>\n",
              "      <td>800</td>\n",
              "      <td>873</td>\n",
              "      <td>935</td>\n",
              "      <td>979</td>\n",
              "      <td>1025</td>\n",
              "      <td>0</td>\n",
              "      <td>1</td>\n",
              "      <td>0</td>\n",
              "      <td>0</td>\n",
              "      <td>0</td>\n",
              "    </tr>\n",
              "    <tr>\n",
              "      <th>3</th>\n",
              "      <td>Sun</td>\n",
              "      <td>9</td>\n",
              "      <td>0</td>\n",
              "      <td>921</td>\n",
              "      <td>210</td>\n",
              "      <td>306</td>\n",
              "      <td>346</td>\n",
              "      <td>497</td>\n",
              "      <td>571</td>\n",
              "      <td>631</td>\n",
              "      <td>695</td>\n",
              "      <td>797</td>\n",
              "      <td>874</td>\n",
              "      <td>938</td>\n",
              "      <td>984</td>\n",
              "      <td>1037</td>\n",
              "      <td>0</td>\n",
              "      <td>1</td>\n",
              "      <td>0</td>\n",
              "      <td>0</td>\n",
              "      <td>0</td>\n",
              "    </tr>\n",
              "    <tr>\n",
              "      <th>4</th>\n",
              "      <td>Sun</td>\n",
              "      <td>9</td>\n",
              "      <td>0</td>\n",
              "      <td>921</td>\n",
              "      <td>209</td>\n",
              "      <td>316</td>\n",
              "      <td>356</td>\n",
              "      <td>520</td>\n",
              "      <td>595</td>\n",
              "      <td>653</td>\n",
              "      <td>719</td>\n",
              "      <td>821</td>\n",
              "      <td>897</td>\n",
              "      <td>961</td>\n",
              "      <td>1006</td>\n",
              "      <td>1066</td>\n",
              "      <td>0</td>\n",
              "      <td>1</td>\n",
              "      <td>0</td>\n",
              "      <td>0</td>\n",
              "      <td>0</td>\n",
              "    </tr>\n",
              "    <tr>\n",
              "      <th>...</th>\n",
              "      <td>...</td>\n",
              "      <td>...</td>\n",
              "      <td>...</td>\n",
              "      <td>...</td>\n",
              "      <td>...</td>\n",
              "      <td>...</td>\n",
              "      <td>...</td>\n",
              "      <td>...</td>\n",
              "      <td>...</td>\n",
              "      <td>...</td>\n",
              "      <td>...</td>\n",
              "      <td>...</td>\n",
              "      <td>...</td>\n",
              "      <td>...</td>\n",
              "      <td>...</td>\n",
              "      <td>...</td>\n",
              "      <td>...</td>\n",
              "      <td>...</td>\n",
              "      <td>...</td>\n",
              "      <td>...</td>\n",
              "      <td>...</td>\n",
              "    </tr>\n",
              "    <tr>\n",
              "      <th>1575</th>\n",
              "      <td>Tue</td>\n",
              "      <td>18</td>\n",
              "      <td>600</td>\n",
              "      <td>921</td>\n",
              "      <td>214</td>\n",
              "      <td>376</td>\n",
              "      <td>399</td>\n",
              "      <td>485</td>\n",
              "      <td>533</td>\n",
              "      <td>561</td>\n",
              "      <td>624</td>\n",
              "      <td>720</td>\n",
              "      <td>766</td>\n",
              "      <td>804</td>\n",
              "      <td>831</td>\n",
              "      <td>852</td>\n",
              "      <td>0</td>\n",
              "      <td>0</td>\n",
              "      <td>0</td>\n",
              "      <td>1</td>\n",
              "      <td>0</td>\n",
              "    </tr>\n",
              "    <tr>\n",
              "      <th>1576</th>\n",
              "      <td>Tue</td>\n",
              "      <td>18</td>\n",
              "      <td>2400</td>\n",
              "      <td>921</td>\n",
              "      <td>185</td>\n",
              "      <td>310</td>\n",
              "      <td>348</td>\n",
              "      <td>412</td>\n",
              "      <td>448</td>\n",
              "      <td>480</td>\n",
              "      <td>535</td>\n",
              "      <td>641</td>\n",
              "      <td>688</td>\n",
              "      <td>757</td>\n",
              "      <td>769</td>\n",
              "      <td>789</td>\n",
              "      <td>0</td>\n",
              "      <td>0</td>\n",
              "      <td>0</td>\n",
              "      <td>1</td>\n",
              "      <td>0</td>\n",
              "    </tr>\n",
              "    <tr>\n",
              "      <th>1577</th>\n",
              "      <td>Tue</td>\n",
              "      <td>19</td>\n",
              "      <td>600</td>\n",
              "      <td>921</td>\n",
              "      <td>203</td>\n",
              "      <td>323</td>\n",
              "      <td>363</td>\n",
              "      <td>415</td>\n",
              "      <td>487</td>\n",
              "      <td>508</td>\n",
              "      <td>630</td>\n",
              "      <td>711</td>\n",
              "      <td>763</td>\n",
              "      <td>827</td>\n",
              "      <td>849</td>\n",
              "      <td>863</td>\n",
              "      <td>0</td>\n",
              "      <td>0</td>\n",
              "      <td>0</td>\n",
              "      <td>1</td>\n",
              "      <td>0</td>\n",
              "    </tr>\n",
              "    <tr>\n",
              "      <th>1578</th>\n",
              "      <td>Tue</td>\n",
              "      <td>20</td>\n",
              "      <td>1200</td>\n",
              "      <td>921</td>\n",
              "      <td>218</td>\n",
              "      <td>338</td>\n",
              "      <td>366</td>\n",
              "      <td>421</td>\n",
              "      <td>470</td>\n",
              "      <td>500</td>\n",
              "      <td>537</td>\n",
              "      <td>634</td>\n",
              "      <td>689</td>\n",
              "      <td>734</td>\n",
              "      <td>763</td>\n",
              "      <td>782</td>\n",
              "      <td>0</td>\n",
              "      <td>0</td>\n",
              "      <td>0</td>\n",
              "      <td>1</td>\n",
              "      <td>0</td>\n",
              "    </tr>\n",
              "    <tr>\n",
              "      <th>1579</th>\n",
              "      <td>Tue</td>\n",
              "      <td>22</td>\n",
              "      <td>2100</td>\n",
              "      <td>921</td>\n",
              "      <td>166</td>\n",
              "      <td>244</td>\n",
              "      <td>279</td>\n",
              "      <td>318</td>\n",
              "      <td>377</td>\n",
              "      <td>401</td>\n",
              "      <td>463</td>\n",
              "      <td>528</td>\n",
              "      <td>576</td>\n",
              "      <td>610</td>\n",
              "      <td>651</td>\n",
              "      <td>666</td>\n",
              "      <td>0</td>\n",
              "      <td>0</td>\n",
              "      <td>0</td>\n",
              "      <td>1</td>\n",
              "      <td>0</td>\n",
              "    </tr>\n",
              "  </tbody>\n",
              "</table>\n",
              "<p>1580 rows × 21 columns</p>\n",
              "</div>"
            ],
            "text/plain": [
              "     WeekDay  Hours  SecMin  Line   o2   o3  ...   o13  Mon  Sun  Thu  Tue  Wed\n",
              "0        Sun      9       0   921  199  285  ...  1028    0    1    0    0    0\n",
              "1        Sun      9       0   921  208  295  ...  1031    0    1    0    0    0\n",
              "2        Sun      9       0   921  198  300  ...  1025    0    1    0    0    0\n",
              "3        Sun      9       0   921  210  306  ...  1037    0    1    0    0    0\n",
              "4        Sun      9       0   921  209  316  ...  1066    0    1    0    0    0\n",
              "...      ...    ...     ...   ...  ...  ...  ...   ...  ...  ...  ...  ...  ...\n",
              "1575     Tue     18     600   921  214  376  ...   852    0    0    0    1    0\n",
              "1576     Tue     18    2400   921  185  310  ...   789    0    0    0    1    0\n",
              "1577     Tue     19     600   921  203  323  ...   863    0    0    0    1    0\n",
              "1578     Tue     20    1200   921  218  338  ...   782    0    0    0    1    0\n",
              "1579     Tue     22    2100   921  166  244  ...   666    0    0    0    1    0\n",
              "\n",
              "[1580 rows x 21 columns]"
            ]
          },
          "metadata": {
            "tags": []
          },
          "execution_count": 102
        }
      ]
    },
    {
      "cell_type": "markdown",
      "metadata": {
        "id": "puUoALaMDwl9"
      },
      "source": [
        "#Model from station o2 to o13"
      ]
    },
    {
      "cell_type": "code",
      "metadata": {
        "id": "JzdeqNI4JwRv"
      },
      "source": [
        "###In this section \"Model from station o2 to o13\" we created for each station model, we used same model for each station\n",
        "#each station(model) have linear graph and RMSE,Rsqure,MSE, \n",
        "#each model have difference between predicted and actual data(Min,Max,Std,Mean)\n",
        "#The main idea of the final model we are looking all times to previus station time and each station have previus station time\n",
        "#model looks like cascade conection."
      ],
      "execution_count": 103,
      "outputs": []
    },
    {
      "cell_type": "markdown",
      "metadata": {
        "id": "Yzgnb-QNEIwl"
      },
      "source": [
        "**station o2**"
      ]
    },
    {
      "cell_type": "code",
      "metadata": {
        "id": "UXW_JLsd87PW"
      },
      "source": [
        "#x = dfbus[['Hours','SecMin','Line']].values\n",
        "x = dfbus[['Hours','SecMin','Line','Sun','Mon','Tue','Wed','Thu']].values\n",
        "y = dfbus['o2'].values\n",
        "hour = 16\n",
        "minSec = 45*60\n",
        "line = 921\n",
        "weekDay = [0,0,1,0,0]\n",
        "\n",
        "#hour = 11\n",
        "#minSec = 25*60\n",
        "#line = 921\n",
        "#weekDay = [0,0,1,0,0]"
      ],
      "execution_count": 104,
      "outputs": []
    },
    {
      "cell_type": "code",
      "metadata": {
        "colab": {
          "base_uri": "https://localhost:8080/"
        },
        "id": "xLuRdUNR9bKm",
        "outputId": "d590f66b-d32d-4cc6-b25c-3df47f29ce47"
      },
      "source": [
        "model_o2, y_test, y_pred = model(x,y)\n",
        "#arr = [hour,minSec,line]\n",
        "arr = [hour,minSec,line,weekDay[0],weekDay[1],weekDay[2],weekDay[3],weekDay[4]]\n",
        "arr = np.array(arr).reshape((1,-1))\n",
        "o2 = model_o2.predict(np.array(arr).reshape((1,-1)))\n",
        "print(o2)"
      ],
      "execution_count": 105,
      "outputs": [
        {
          "output_type": "stream",
          "text": [
            "[12:26:40] WARNING: /workspace/src/objective/regression_obj.cu:152: reg:linear is now deprecated in favor of reg:squarederror.\n",
            "[256.3593]\n"
          ],
          "name": "stdout"
        }
      ]
    },
    {
      "cell_type": "code",
      "metadata": {
        "colab": {
          "base_uri": "https://localhost:8080/"
        },
        "id": "g2pw2mCtfC69",
        "outputId": "90ef4645-8a47-4ee8-bd55-dc7709a65f33"
      },
      "source": [
        "r2_score(y_test,y_pred)"
      ],
      "execution_count": 106,
      "outputs": [
        {
          "output_type": "execute_result",
          "data": {
            "text/plain": [
              "0.39161283208927566"
            ]
          },
          "metadata": {
            "tags": []
          },
          "execution_count": 106
        }
      ]
    },
    {
      "cell_type": "code",
      "metadata": {
        "colab": {
          "base_uri": "https://localhost:8080/"
        },
        "id": "eyyzjUevyJhP",
        "outputId": "e50b6a57-e046-449c-b0e0-5e19918c924b"
      },
      "source": [
        "mse = mean_squared_error(y_test,y_pred)\n",
        "print(\"MSE: %.2f\" % mse)\n",
        "print(\"RMSE: %.2f\" % np.sqrt(mse))"
      ],
      "execution_count": 107,
      "outputs": [
        {
          "output_type": "stream",
          "text": [
            "MSE: 1461.93\n",
            "RMSE: 38.24\n"
          ],
          "name": "stdout"
        }
      ]
    },
    {
      "cell_type": "code",
      "metadata": {
        "colab": {
          "base_uri": "https://localhost:8080/",
          "height": 417
        },
        "id": "mvLoPOAB7rvU",
        "outputId": "af55889e-74a8-4897-98ff-92f2f4156500"
      },
      "source": [
        "pred_y_df = pd.DataFrame({'Actual': y_test, 'Predicted': y_pred, 'Diff':y_test-y_pred})\n",
        "pred_y_df"
      ],
      "execution_count": 108,
      "outputs": [
        {
          "output_type": "execute_result",
          "data": {
            "text/html": [
              "<div>\n",
              "<style scoped>\n",
              "    .dataframe tbody tr th:only-of-type {\n",
              "        vertical-align: middle;\n",
              "    }\n",
              "\n",
              "    .dataframe tbody tr th {\n",
              "        vertical-align: top;\n",
              "    }\n",
              "\n",
              "    .dataframe thead th {\n",
              "        text-align: right;\n",
              "    }\n",
              "</style>\n",
              "<table border=\"1\" class=\"dataframe\">\n",
              "  <thead>\n",
              "    <tr style=\"text-align: right;\">\n",
              "      <th></th>\n",
              "      <th>Actual</th>\n",
              "      <th>Predicted</th>\n",
              "      <th>Diff</th>\n",
              "    </tr>\n",
              "  </thead>\n",
              "  <tbody>\n",
              "    <tr>\n",
              "      <th>0</th>\n",
              "      <td>206</td>\n",
              "      <td>201.479706</td>\n",
              "      <td>4.520294</td>\n",
              "    </tr>\n",
              "    <tr>\n",
              "      <th>1</th>\n",
              "      <td>201</td>\n",
              "      <td>209.218185</td>\n",
              "      <td>-8.218185</td>\n",
              "    </tr>\n",
              "    <tr>\n",
              "      <th>2</th>\n",
              "      <td>212</td>\n",
              "      <td>211.414169</td>\n",
              "      <td>0.585831</td>\n",
              "    </tr>\n",
              "    <tr>\n",
              "      <th>3</th>\n",
              "      <td>192</td>\n",
              "      <td>203.589706</td>\n",
              "      <td>-11.589706</td>\n",
              "    </tr>\n",
              "    <tr>\n",
              "      <th>4</th>\n",
              "      <td>364</td>\n",
              "      <td>350.124481</td>\n",
              "      <td>13.875519</td>\n",
              "    </tr>\n",
              "    <tr>\n",
              "      <th>...</th>\n",
              "      <td>...</td>\n",
              "      <td>...</td>\n",
              "      <td>...</td>\n",
              "    </tr>\n",
              "    <tr>\n",
              "      <th>311</th>\n",
              "      <td>213</td>\n",
              "      <td>194.188080</td>\n",
              "      <td>18.811920</td>\n",
              "    </tr>\n",
              "    <tr>\n",
              "      <th>312</th>\n",
              "      <td>183</td>\n",
              "      <td>198.770477</td>\n",
              "      <td>-15.770477</td>\n",
              "    </tr>\n",
              "    <tr>\n",
              "      <th>313</th>\n",
              "      <td>209</td>\n",
              "      <td>201.189957</td>\n",
              "      <td>7.810043</td>\n",
              "    </tr>\n",
              "    <tr>\n",
              "      <th>314</th>\n",
              "      <td>215</td>\n",
              "      <td>204.340286</td>\n",
              "      <td>10.659714</td>\n",
              "    </tr>\n",
              "    <tr>\n",
              "      <th>315</th>\n",
              "      <td>189</td>\n",
              "      <td>209.218185</td>\n",
              "      <td>-20.218185</td>\n",
              "    </tr>\n",
              "  </tbody>\n",
              "</table>\n",
              "<p>316 rows × 3 columns</p>\n",
              "</div>"
            ],
            "text/plain": [
              "     Actual   Predicted       Diff\n",
              "0       206  201.479706   4.520294\n",
              "1       201  209.218185  -8.218185\n",
              "2       212  211.414169   0.585831\n",
              "3       192  203.589706 -11.589706\n",
              "4       364  350.124481  13.875519\n",
              "..      ...         ...        ...\n",
              "311     213  194.188080  18.811920\n",
              "312     183  198.770477 -15.770477\n",
              "313     209  201.189957   7.810043\n",
              "314     215  204.340286  10.659714\n",
              "315     189  209.218185 -20.218185\n",
              "\n",
              "[316 rows x 3 columns]"
            ]
          },
          "metadata": {
            "tags": []
          },
          "execution_count": 108
        }
      ]
    },
    {
      "cell_type": "code",
      "metadata": {
        "colab": {
          "base_uri": "https://localhost:8080/"
        },
        "id": "Z7bgrynO7tWK",
        "outputId": "e6d66ac3-c012-48a2-9f25-2db2c6950a25"
      },
      "source": [
        "print('Minimum: ',pred_y_df['Diff'].min())\n",
        "print('Maximum: ',pred_y_df['Diff'].max())\n",
        "print('Average: ',np.abs(pred_y_df['Diff']).mean())\n",
        "print('STD: ',pred_y_df['Diff'].std())"
      ],
      "execution_count": 109,
      "outputs": [
        {
          "output_type": "stream",
          "text": [
            "Minimum:  -202.69488525390625\n",
            "Maximum:  196.74514770507812\n",
            "Average:  23.847632058059112\n",
            "STD:  38.2896332284184\n"
          ],
          "name": "stdout"
        }
      ]
    },
    {
      "cell_type": "code",
      "metadata": {
        "colab": {
          "base_uri": "https://localhost:8080/",
          "height": 575
        },
        "id": "1zyp0Jyu0hEV",
        "outputId": "ed17da6e-da25-4c90-fd5c-0da61d84daba"
      },
      "source": [
        "plt.style.use('fivethirtyeight')\n",
        "plt.figure(figsize=(16,8))\n",
        "plt.scatter(y_test,y_pred)\n",
        "plt.xlabel('Actual')\n",
        "plt.ylabel('Predicted')\n",
        "plt.title('Actual vs Predicted')"
      ],
      "execution_count": 110,
      "outputs": [
        {
          "output_type": "execute_result",
          "data": {
            "text/plain": [
              "Text(0.5, 1.0, 'Actual vs Predicted')"
            ]
          },
          "metadata": {
            "tags": []
          },
          "execution_count": 110
        },
        {
          "output_type": "display_data",
          "data": {
            "image/png": "[encoded data removed]",
            "text/plain": [
              "<Figure size 1152x576 with 1 Axes>"
            ]
          },
          "metadata": {
            "tags": []
          }
        }
      ]
    },
    {
      "cell_type": "markdown",
      "metadata": {
        "id": "WupzbvpIELkM"
      },
      "source": [
        "**station o3**"
      ]
    },
    {
      "cell_type": "code",
      "metadata": {
        "id": "6UqHa0L99xdm"
      },
      "source": [
        "#x = dfbus[['Hours','SecMin','Line','o2']].values\n",
        "\n",
        "#X with dummy weekday\n",
        "x = dfbus[['Hours','SecMin','Line','o2','Sun','Mon','Tue','Wed','Thu']].values\n",
        "y = dfbus['o3'].values"
      ],
      "execution_count": 111,
      "outputs": []
    },
    {
      "cell_type": "code",
      "metadata": {
        "colab": {
          "base_uri": "https://localhost:8080/"
        },
        "id": "322f0re3CAf2",
        "outputId": "17f4e130-e9cb-4557-fa8e-7e3626481bbb"
      },
      "source": [
        "model_o3, y_test, y_pred = model(x,y)\n",
        "arr = [hour,minSec,line,o2[0],weekDay[0],weekDay[1],weekDay[2],weekDay[3],weekDay[4]]\n",
        "#arr = [hour,minSec,line,o2[0]]\n",
        "arr = np.array(arr).reshape((1,-1))\n",
        "o3 = model_o3.predict(np.array(arr).reshape((1,-1)))\n",
        "print(o3)"
      ],
      "execution_count": 112,
      "outputs": [
        {
          "output_type": "stream",
          "text": [
            "[12:26:40] WARNING: /workspace/src/objective/regression_obj.cu:152: reg:linear is now deprecated in favor of reg:squarederror.\n",
            "[416.53943]\n"
          ],
          "name": "stdout"
        }
      ]
    },
    {
      "cell_type": "code",
      "metadata": {
        "colab": {
          "base_uri": "https://localhost:8080/"
        },
        "id": "EBvcKj9AfFAY",
        "outputId": "f36ce136-0cc5-4a56-d45d-ef78a648e7d4"
      },
      "source": [
        "r2_score(y_test,y_pred)"
      ],
      "execution_count": 113,
      "outputs": [
        {
          "output_type": "execute_result",
          "data": {
            "text/plain": [
              "0.7370624193486472"
            ]
          },
          "metadata": {
            "tags": []
          },
          "execution_count": 113
        }
      ]
    },
    {
      "cell_type": "code",
      "metadata": {
        "colab": {
          "base_uri": "https://localhost:8080/"
        },
        "id": "ufYG9dUTyfk3",
        "outputId": "33d97f99-15ad-4b73-f186-aa2a191af201"
      },
      "source": [
        "mse = mean_squared_error(y_test,y_pred)\n",
        "print(\"MSE: %.2f\" % mse)\n",
        "print(\"RMSE: %.2f\" % np.sqrt(mse))"
      ],
      "execution_count": 114,
      "outputs": [
        {
          "output_type": "stream",
          "text": [
            "MSE: 1103.09\n",
            "RMSE: 33.21\n"
          ],
          "name": "stdout"
        }
      ]
    },
    {
      "cell_type": "code",
      "metadata": {
        "colab": {
          "base_uri": "https://localhost:8080/",
          "height": 417
        },
        "id": "5QBJHidw7y9K",
        "outputId": "addbee48-88b6-4ea0-e57f-0ed10300be30"
      },
      "source": [
        "pred_y_df = pd.DataFrame({'Actual': y_test, 'Predicted': y_pred, 'Diff':y_test-y_pred})\n",
        "pred_y_df"
      ],
      "execution_count": 115,
      "outputs": [
        {
          "output_type": "execute_result",
          "data": {
            "text/html": [
              "<div>\n",
              "<style scoped>\n",
              "    .dataframe tbody tr th:only-of-type {\n",
              "        vertical-align: middle;\n",
              "    }\n",
              "\n",
              "    .dataframe tbody tr th {\n",
              "        vertical-align: top;\n",
              "    }\n",
              "\n",
              "    .dataframe thead th {\n",
              "        text-align: right;\n",
              "    }\n",
              "</style>\n",
              "<table border=\"1\" class=\"dataframe\">\n",
              "  <thead>\n",
              "    <tr style=\"text-align: right;\">\n",
              "      <th></th>\n",
              "      <th>Actual</th>\n",
              "      <th>Predicted</th>\n",
              "      <th>Diff</th>\n",
              "    </tr>\n",
              "  </thead>\n",
              "  <tbody>\n",
              "    <tr>\n",
              "      <th>0</th>\n",
              "      <td>288</td>\n",
              "      <td>290.814087</td>\n",
              "      <td>-2.814087</td>\n",
              "    </tr>\n",
              "    <tr>\n",
              "      <th>1</th>\n",
              "      <td>290</td>\n",
              "      <td>286.153992</td>\n",
              "      <td>3.846008</td>\n",
              "    </tr>\n",
              "    <tr>\n",
              "      <th>2</th>\n",
              "      <td>286</td>\n",
              "      <td>284.531311</td>\n",
              "      <td>1.468689</td>\n",
              "    </tr>\n",
              "    <tr>\n",
              "      <th>3</th>\n",
              "      <td>275</td>\n",
              "      <td>271.124329</td>\n",
              "      <td>3.875671</td>\n",
              "    </tr>\n",
              "    <tr>\n",
              "      <th>4</th>\n",
              "      <td>486</td>\n",
              "      <td>496.443817</td>\n",
              "      <td>-10.443817</td>\n",
              "    </tr>\n",
              "    <tr>\n",
              "      <th>...</th>\n",
              "      <td>...</td>\n",
              "      <td>...</td>\n",
              "      <td>...</td>\n",
              "    </tr>\n",
              "    <tr>\n",
              "      <th>311</th>\n",
              "      <td>296</td>\n",
              "      <td>289.227905</td>\n",
              "      <td>6.772095</td>\n",
              "    </tr>\n",
              "    <tr>\n",
              "      <th>312</th>\n",
              "      <td>264</td>\n",
              "      <td>268.890991</td>\n",
              "      <td>-4.890991</td>\n",
              "    </tr>\n",
              "    <tr>\n",
              "      <th>313</th>\n",
              "      <td>302</td>\n",
              "      <td>317.032959</td>\n",
              "      <td>-15.032959</td>\n",
              "    </tr>\n",
              "    <tr>\n",
              "      <th>314</th>\n",
              "      <td>300</td>\n",
              "      <td>297.473053</td>\n",
              "      <td>2.526947</td>\n",
              "    </tr>\n",
              "    <tr>\n",
              "      <th>315</th>\n",
              "      <td>262</td>\n",
              "      <td>269.301270</td>\n",
              "      <td>-7.301270</td>\n",
              "    </tr>\n",
              "  </tbody>\n",
              "</table>\n",
              "<p>316 rows × 3 columns</p>\n",
              "</div>"
            ],
            "text/plain": [
              "     Actual   Predicted       Diff\n",
              "0       288  290.814087  -2.814087\n",
              "1       290  286.153992   3.846008\n",
              "2       286  284.531311   1.468689\n",
              "3       275  271.124329   3.875671\n",
              "4       486  496.443817 -10.443817\n",
              "..      ...         ...        ...\n",
              "311     296  289.227905   6.772095\n",
              "312     264  268.890991  -4.890991\n",
              "313     302  317.032959 -15.032959\n",
              "314     300  297.473053   2.526947\n",
              "315     262  269.301270  -7.301270\n",
              "\n",
              "[316 rows x 3 columns]"
            ]
          },
          "metadata": {
            "tags": []
          },
          "execution_count": 115
        }
      ]
    },
    {
      "cell_type": "code",
      "metadata": {
        "colab": {
          "base_uri": "https://localhost:8080/"
        },
        "id": "15A8Tux07zAs",
        "outputId": "e0e6d2b1-1809-4fd8-f90d-6e674cf0d926"
      },
      "source": [
        "print('Minimum: ',pred_y_df['Diff'].min())\n",
        "print('Maximum: ',pred_y_df['Diff'].max())\n",
        "print('Average: ',np.abs(pred_y_df['Diff']).mean())\n",
        "print('STD: ',pred_y_df['Diff'].std())"
      ],
      "execution_count": 116,
      "outputs": [
        {
          "output_type": "stream",
          "text": [
            "Minimum:  -116.62811279296875\n",
            "Maximum:  168.3177490234375\n",
            "Average:  22.501995859266838\n",
            "STD:  33.222334449859055\n"
          ],
          "name": "stdout"
        }
      ]
    },
    {
      "cell_type": "code",
      "metadata": {
        "colab": {
          "base_uri": "https://localhost:8080/",
          "height": 575
        },
        "id": "s67mw6EL1vo2",
        "outputId": "26df2e58-8945-4927-84c2-0f3dd26baada"
      },
      "source": [
        "plt.style.use('fivethirtyeight')\n",
        "plt.figure(figsize=(16,8))\n",
        "plt.scatter(y_test,y_pred)\n",
        "plt.xlabel('Actual')\n",
        "plt.ylabel('Predicted')\n",
        "plt.title('Actual vs Predicted')"
      ],
      "execution_count": 117,
      "outputs": [
        {
          "output_type": "execute_result",
          "data": {
            "text/plain": [
              "Text(0.5, 1.0, 'Actual vs Predicted')"
            ]
          },
          "metadata": {
            "tags": []
          },
          "execution_count": 117
        },
        {
          "output_type": "display_data",
          "data": {
            "image/png": "[encoded data removed]",
            "text/plain": [
              "<Figure size 1152x576 with 1 Axes>"
            ]
          },
          "metadata": {
            "tags": []
          }
        }
      ]
    },
    {
      "cell_type": "markdown",
      "metadata": {
        "id": "H3hIW08dERCG"
      },
      "source": [
        "**station o4**"
      ]
    },
    {
      "cell_type": "code",
      "metadata": {
        "id": "jzg-G_U1CkLK"
      },
      "source": [
        "#x = dfbus[['Hours','SecMin','Line','o2','o3']].values\n",
        "\n",
        "#X with dummy weekday\n",
        "x = dfbus[['Hours','SecMin','Line','o2','o3','Sun','Mon','Tue','Wed','Thu']].values\n",
        "y = dfbus['o4'].values"
      ],
      "execution_count": 118,
      "outputs": []
    },
    {
      "cell_type": "code",
      "metadata": {
        "colab": {
          "base_uri": "https://localhost:8080/"
        },
        "id": "eOqSrLjKC7pc",
        "outputId": "0e4e3f0e-c173-4c48-a8c0-83213411decb"
      },
      "source": [
        "model_o4, y_test, y_pred = model(x,y)\n",
        "arr = [hour,minSec,line,o2[0],o3[0],weekDay[0],weekDay[1],weekDay[2],weekDay[3],weekDay[4]]\n",
        "#arr = [hour,minSec,line,o2[0],o3[0]]\n",
        "arr = np.array(arr).reshape((1,-1))\n",
        "o4 = model_o4.predict(np.array(arr).reshape((1,-1)))\n",
        "print(o4)"
      ],
      "execution_count": 119,
      "outputs": [
        {
          "output_type": "stream",
          "text": [
            "[12:26:41] WARNING: /workspace/src/objective/regression_obj.cu:152: reg:linear is now deprecated in favor of reg:squarederror.\n",
            "[451.46375]\n"
          ],
          "name": "stdout"
        }
      ]
    },
    {
      "cell_type": "code",
      "metadata": {
        "colab": {
          "base_uri": "https://localhost:8080/"
        },
        "id": "d3XzAy3ofF9x",
        "outputId": "4384d6a6-8b99-4605-b459-07edbc674d5d"
      },
      "source": [
        "r2_score(y_test,y_pred)"
      ],
      "execution_count": 120,
      "outputs": [
        {
          "output_type": "execute_result",
          "data": {
            "text/plain": [
              "0.8953038276350113"
            ]
          },
          "metadata": {
            "tags": []
          },
          "execution_count": 120
        }
      ]
    },
    {
      "cell_type": "code",
      "metadata": {
        "colab": {
          "base_uri": "https://localhost:8080/"
        },
        "id": "LJ-4vjb6ygY8",
        "outputId": "916cedae-c767-486f-e15a-3d55acef1711"
      },
      "source": [
        "mse = mean_squared_error(y_test,y_pred)\n",
        "print(\"MSE: %.2f\" % mse)\n",
        "print(\"RMSE: %.2f\" % np.sqrt(mse))"
      ],
      "execution_count": 121,
      "outputs": [
        {
          "output_type": "stream",
          "text": [
            "MSE: 536.84\n",
            "RMSE: 23.17\n"
          ],
          "name": "stdout"
        }
      ]
    },
    {
      "cell_type": "code",
      "metadata": {
        "colab": {
          "base_uri": "https://localhost:8080/",
          "height": 417
        },
        "id": "NawJ38te706W",
        "outputId": "038c2d15-8da6-45b8-ea24-1d23d6c75a2a"
      },
      "source": [
        "pred_y_df = pd.DataFrame({'Actual': y_test, 'Predicted': y_pred, 'Diff':y_test-y_pred})\n",
        "pred_y_df"
      ],
      "execution_count": 122,
      "outputs": [
        {
          "output_type": "execute_result",
          "data": {
            "text/html": [
              "<div>\n",
              "<style scoped>\n",
              "    .dataframe tbody tr th:only-of-type {\n",
              "        vertical-align: middle;\n",
              "    }\n",
              "\n",
              "    .dataframe tbody tr th {\n",
              "        vertical-align: top;\n",
              "    }\n",
              "\n",
              "    .dataframe thead th {\n",
              "        text-align: right;\n",
              "    }\n",
              "</style>\n",
              "<table border=\"1\" class=\"dataframe\">\n",
              "  <thead>\n",
              "    <tr style=\"text-align: right;\">\n",
              "      <th></th>\n",
              "      <th>Actual</th>\n",
              "      <th>Predicted</th>\n",
              "      <th>Diff</th>\n",
              "    </tr>\n",
              "  </thead>\n",
              "  <tbody>\n",
              "    <tr>\n",
              "      <th>0</th>\n",
              "      <td>328</td>\n",
              "      <td>326.313446</td>\n",
              "      <td>1.686554</td>\n",
              "    </tr>\n",
              "    <tr>\n",
              "      <th>1</th>\n",
              "      <td>330</td>\n",
              "      <td>332.293701</td>\n",
              "      <td>-2.293701</td>\n",
              "    </tr>\n",
              "    <tr>\n",
              "      <th>2</th>\n",
              "      <td>327</td>\n",
              "      <td>327.667633</td>\n",
              "      <td>-0.667633</td>\n",
              "    </tr>\n",
              "    <tr>\n",
              "      <th>3</th>\n",
              "      <td>315</td>\n",
              "      <td>313.167389</td>\n",
              "      <td>1.832611</td>\n",
              "    </tr>\n",
              "    <tr>\n",
              "      <th>4</th>\n",
              "      <td>528</td>\n",
              "      <td>534.440369</td>\n",
              "      <td>-6.440369</td>\n",
              "    </tr>\n",
              "    <tr>\n",
              "      <th>...</th>\n",
              "      <td>...</td>\n",
              "      <td>...</td>\n",
              "      <td>...</td>\n",
              "    </tr>\n",
              "    <tr>\n",
              "      <th>311</th>\n",
              "      <td>335</td>\n",
              "      <td>339.560516</td>\n",
              "      <td>-4.560516</td>\n",
              "    </tr>\n",
              "    <tr>\n",
              "      <th>312</th>\n",
              "      <td>305</td>\n",
              "      <td>301.337341</td>\n",
              "      <td>3.662659</td>\n",
              "    </tr>\n",
              "    <tr>\n",
              "      <th>313</th>\n",
              "      <td>342</td>\n",
              "      <td>336.588501</td>\n",
              "      <td>5.411499</td>\n",
              "    </tr>\n",
              "    <tr>\n",
              "      <th>314</th>\n",
              "      <td>372</td>\n",
              "      <td>347.301117</td>\n",
              "      <td>24.698883</td>\n",
              "    </tr>\n",
              "    <tr>\n",
              "      <th>315</th>\n",
              "      <td>302</td>\n",
              "      <td>305.456512</td>\n",
              "      <td>-3.456512</td>\n",
              "    </tr>\n",
              "  </tbody>\n",
              "</table>\n",
              "<p>316 rows × 3 columns</p>\n",
              "</div>"
            ],
            "text/plain": [
              "     Actual   Predicted       Diff\n",
              "0       328  326.313446   1.686554\n",
              "1       330  332.293701  -2.293701\n",
              "2       327  327.667633  -0.667633\n",
              "3       315  313.167389   1.832611\n",
              "4       528  534.440369  -6.440369\n",
              "..      ...         ...        ...\n",
              "311     335  339.560516  -4.560516\n",
              "312     305  301.337341   3.662659\n",
              "313     342  336.588501   5.411499\n",
              "314     372  347.301117  24.698883\n",
              "315     302  305.456512  -3.456512\n",
              "\n",
              "[316 rows x 3 columns]"
            ]
          },
          "metadata": {
            "tags": []
          },
          "execution_count": 122
        }
      ]
    },
    {
      "cell_type": "code",
      "metadata": {
        "colab": {
          "base_uri": "https://localhost:8080/"
        },
        "id": "mCCWu4we7098",
        "outputId": "abb1a044-0d45-4eec-c4c4-4adc633251f5"
      },
      "source": [
        "print('Minimum: ',pred_y_df['Diff'].min())\n",
        "print('Maximum: ',pred_y_df['Diff'].max())\n",
        "print('Average: ',np.abs(pred_y_df['Diff']).mean())\n",
        "print('STD: ',pred_y_df['Diff'].std())"
      ],
      "execution_count": 123,
      "outputs": [
        {
          "output_type": "stream",
          "text": [
            "Minimum:  -112.89471435546875\n",
            "Maximum:  136.33526611328125\n",
            "Average:  12.303487174118622\n",
            "STD:  23.198677692808918\n"
          ],
          "name": "stdout"
        }
      ]
    },
    {
      "cell_type": "code",
      "metadata": {
        "colab": {
          "base_uri": "https://localhost:8080/",
          "height": 575
        },
        "id": "lkisCbrX13Vh",
        "outputId": "4c6aa49d-6d0a-4c38-ddb3-b35f6ec64fc4"
      },
      "source": [
        "plt.style.use('fivethirtyeight')\n",
        "plt.figure(figsize=(16,8))\n",
        "plt.scatter(y_test,y_pred)\n",
        "plt.xlabel('Actual')\n",
        "plt.ylabel('Predicted')\n",
        "plt.title('Actual vs Predicted')"
      ],
      "execution_count": 124,
      "outputs": [
        {
          "output_type": "execute_result",
          "data": {
            "text/plain": [
              "Text(0.5, 1.0, 'Actual vs Predicted')"
            ]
          },
          "metadata": {
            "tags": []
          },
          "execution_count": 124
        },
        {
          "output_type": "display_data",
          "data": {
            "image/png": "[encoded data removed]",
            "text/plain": [
              "<Figure size 1152x576 with 1 Axes>"
            ]
          },
          "metadata": {
            "tags": []
          }
        }
      ]
    },
    {
      "cell_type": "markdown",
      "metadata": {
        "id": "FxhPJsokEZCP"
      },
      "source": [
        "**station o5**"
      ]
    },
    {
      "cell_type": "code",
      "metadata": {
        "id": "tNzJbT-YC9RM"
      },
      "source": [
        "#x = dfbus[['Hours','SecMin','Line','o2','o3','o4']].values\n",
        "\n",
        "#X with dummy weekday\n",
        "x = dfbus[['Hours','SecMin','Line','o2','o3','o4','Sun','Mon','Tue','Wed','Thu']].values\n",
        "y = dfbus['o5'].values"
      ],
      "execution_count": 125,
      "outputs": []
    },
    {
      "cell_type": "code",
      "metadata": {
        "colab": {
          "base_uri": "https://localhost:8080/"
        },
        "id": "2PhsXwhaDAev",
        "outputId": "6b1cf0ad-eecb-43a0-9936-b41cfdc7b937"
      },
      "source": [
        "model_o5, y_test, y_pred = model(x,y)\n",
        "arr = [hour,minSec,line,o2[0],o3[0],o4[0],weekDay[0],weekDay[1],weekDay[2],weekDay[3],weekDay[4]]\n",
        "#arr = [hour,minSec,line,o2[0],o3[0],o4[0]]\n",
        "arr = np.array(arr).reshape((1,-1))\n",
        "o5 = model_o5.predict(np.array(arr).reshape((1,-1)))\n",
        "print(o5)"
      ],
      "execution_count": 126,
      "outputs": [
        {
          "output_type": "stream",
          "text": [
            "[12:26:41] WARNING: /workspace/src/objective/regression_obj.cu:152: reg:linear is now deprecated in favor of reg:squarederror.\n",
            "[628.2341]\n"
          ],
          "name": "stdout"
        }
      ]
    },
    {
      "cell_type": "code",
      "metadata": {
        "colab": {
          "base_uri": "https://localhost:8080/"
        },
        "id": "10Z9ZWnFfG1Y",
        "outputId": "a10d0575-3746-4d26-9917-f65a26897c3b"
      },
      "source": [
        "r2_score(y_test,y_pred)"
      ],
      "execution_count": 127,
      "outputs": [
        {
          "output_type": "execute_result",
          "data": {
            "text/plain": [
              "0.903693070841679"
            ]
          },
          "metadata": {
            "tags": []
          },
          "execution_count": 127
        }
      ]
    },
    {
      "cell_type": "code",
      "metadata": {
        "colab": {
          "base_uri": "https://localhost:8080/"
        },
        "id": "Db8zbgPCyhLI",
        "outputId": "306edc2e-ae56-45c4-d087-d846bed908bd"
      },
      "source": [
        "mse = mean_squared_error(y_test,y_pred)\n",
        "print(\"MSE: %.2f\" % mse)\n",
        "print(\"RMSE: %.2f\" % np.sqrt(mse))"
      ],
      "execution_count": 128,
      "outputs": [
        {
          "output_type": "stream",
          "text": [
            "MSE: 579.37\n",
            "RMSE: 24.07\n"
          ],
          "name": "stdout"
        }
      ]
    },
    {
      "cell_type": "code",
      "metadata": {
        "colab": {
          "base_uri": "https://localhost:8080/",
          "height": 417
        },
        "id": "wryLEOCI72oz",
        "outputId": "28805d85-b19d-4a68-c42f-6521b3787c66"
      },
      "source": [
        "pred_y_df = pd.DataFrame({'Actual': y_test, 'Predicted': y_pred, 'Diff':y_test-y_pred})\n",
        "pred_y_df"
      ],
      "execution_count": 129,
      "outputs": [
        {
          "output_type": "execute_result",
          "data": {
            "text/html": [
              "<div>\n",
              "<style scoped>\n",
              "    .dataframe tbody tr th:only-of-type {\n",
              "        vertical-align: middle;\n",
              "    }\n",
              "\n",
              "    .dataframe tbody tr th {\n",
              "        vertical-align: top;\n",
              "    }\n",
              "\n",
              "    .dataframe thead th {\n",
              "        text-align: right;\n",
              "    }\n",
              "</style>\n",
              "<table border=\"1\" class=\"dataframe\">\n",
              "  <thead>\n",
              "    <tr style=\"text-align: right;\">\n",
              "      <th></th>\n",
              "      <th>Actual</th>\n",
              "      <th>Predicted</th>\n",
              "      <th>Diff</th>\n",
              "    </tr>\n",
              "  </thead>\n",
              "  <tbody>\n",
              "    <tr>\n",
              "      <th>0</th>\n",
              "      <td>480</td>\n",
              "      <td>480.400940</td>\n",
              "      <td>-0.400940</td>\n",
              "    </tr>\n",
              "    <tr>\n",
              "      <th>1</th>\n",
              "      <td>479</td>\n",
              "      <td>477.004822</td>\n",
              "      <td>1.995178</td>\n",
              "    </tr>\n",
              "    <tr>\n",
              "      <th>2</th>\n",
              "      <td>482</td>\n",
              "      <td>475.639160</td>\n",
              "      <td>6.360840</td>\n",
              "    </tr>\n",
              "    <tr>\n",
              "      <th>3</th>\n",
              "      <td>463</td>\n",
              "      <td>455.728882</td>\n",
              "      <td>7.271118</td>\n",
              "    </tr>\n",
              "    <tr>\n",
              "      <th>4</th>\n",
              "      <td>702</td>\n",
              "      <td>687.009399</td>\n",
              "      <td>14.990601</td>\n",
              "    </tr>\n",
              "    <tr>\n",
              "      <th>...</th>\n",
              "      <td>...</td>\n",
              "      <td>...</td>\n",
              "      <td>...</td>\n",
              "    </tr>\n",
              "    <tr>\n",
              "      <th>311</th>\n",
              "      <td>478</td>\n",
              "      <td>481.633392</td>\n",
              "      <td>-3.633392</td>\n",
              "    </tr>\n",
              "    <tr>\n",
              "      <th>312</th>\n",
              "      <td>453</td>\n",
              "      <td>442.147095</td>\n",
              "      <td>10.852905</td>\n",
              "    </tr>\n",
              "    <tr>\n",
              "      <th>313</th>\n",
              "      <td>492</td>\n",
              "      <td>485.329590</td>\n",
              "      <td>6.670410</td>\n",
              "    </tr>\n",
              "    <tr>\n",
              "      <th>314</th>\n",
              "      <td>425</td>\n",
              "      <td>452.988373</td>\n",
              "      <td>-27.988373</td>\n",
              "    </tr>\n",
              "    <tr>\n",
              "      <th>315</th>\n",
              "      <td>458</td>\n",
              "      <td>452.834717</td>\n",
              "      <td>5.165283</td>\n",
              "    </tr>\n",
              "  </tbody>\n",
              "</table>\n",
              "<p>316 rows × 3 columns</p>\n",
              "</div>"
            ],
            "text/plain": [
              "     Actual   Predicted       Diff\n",
              "0       480  480.400940  -0.400940\n",
              "1       479  477.004822   1.995178\n",
              "2       482  475.639160   6.360840\n",
              "3       463  455.728882   7.271118\n",
              "4       702  687.009399  14.990601\n",
              "..      ...         ...        ...\n",
              "311     478  481.633392  -3.633392\n",
              "312     453  442.147095  10.852905\n",
              "313     492  485.329590   6.670410\n",
              "314     425  452.988373 -27.988373\n",
              "315     458  452.834717   5.165283\n",
              "\n",
              "[316 rows x 3 columns]"
            ]
          },
          "metadata": {
            "tags": []
          },
          "execution_count": 129
        }
      ]
    },
    {
      "cell_type": "code",
      "metadata": {
        "colab": {
          "base_uri": "https://localhost:8080/"
        },
        "id": "ONWDOdf-72sz",
        "outputId": "538438d2-0e7c-4e34-bdc0-f5289c590ef7"
      },
      "source": [
        "print('Minimum: ',pred_y_df['Diff'].min())\n",
        "print('Maximum: ',pred_y_df['Diff'].max())\n",
        "print('Average: ',np.abs(pred_y_df['Diff']).mean())\n",
        "print('STD: ',pred_y_df['Diff'].std())"
      ],
      "execution_count": 130,
      "outputs": [
        {
          "output_type": "stream",
          "text": [
            "Minimum:  -69.30523681640625\n",
            "Maximum:  90.1597900390625\n",
            "Average:  15.957339999041979\n",
            "STD:  23.893658704668916\n"
          ],
          "name": "stdout"
        }
      ]
    },
    {
      "cell_type": "code",
      "metadata": {
        "colab": {
          "base_uri": "https://localhost:8080/",
          "height": 575
        },
        "id": "cjp81lsG14fO",
        "outputId": "5fbe0b01-15cc-47cf-f089-19b5fc08b9cd"
      },
      "source": [
        "plt.style.use('fivethirtyeight')\n",
        "plt.figure(figsize=(16,8))\n",
        "plt.scatter(y_test,y_pred)\n",
        "plt.xlabel('Actual')\n",
        "plt.ylabel('Predicted')\n",
        "plt.title('Actual vs Predicted')"
      ],
      "execution_count": 131,
      "outputs": [
        {
          "output_type": "execute_result",
          "data": {
            "text/plain": [
              "Text(0.5, 1.0, 'Actual vs Predicted')"
            ]
          },
          "metadata": {
            "tags": []
          },
          "execution_count": 131
        },
        {
          "output_type": "display_data",
          "data": {
            "image/png": "[encoded data removed]",
            "text/plain": [
              "<Figure size 1152x576 with 1 Axes>"
            ]
          },
          "metadata": {
            "tags": []
          }
        }
      ]
    },
    {
      "cell_type": "markdown",
      "metadata": {
        "id": "6hVVlmK-E1Ih"
      },
      "source": [
        "**station o6**\n"
      ]
    },
    {
      "cell_type": "code",
      "metadata": {
        "id": "7-ujL1b1DA1z"
      },
      "source": [
        "#x = dfbus[['Hours','SecMin','Line','o2','o3','o4','o5']].values\n",
        "\n",
        "#X with dummy weekday\n",
        "x = dfbus[['Hours','SecMin','Line','o2','o3','o4','o5','Sun','Mon','Tue','Wed','Thu']].values\n",
        "y = dfbus['o6'].values"
      ],
      "execution_count": 132,
      "outputs": []
    },
    {
      "cell_type": "code",
      "metadata": {
        "colab": {
          "base_uri": "https://localhost:8080/"
        },
        "id": "QP7qGdmNDGFq",
        "outputId": "283cfc88-7f5b-4847-bcee-a7db5ce4f2d5"
      },
      "source": [
        "model_o6, y_test, y_pred = model(x,y)\n",
        "arr = [hour,minSec,line,o2[0],o3[0],o4[0],o5[0],weekDay[0],weekDay[1],weekDay[2],weekDay[3],weekDay[4]]\n",
        "#arr = [hour,minSec,line,o2[0],o3[0],o4[0],o5[0]]\n",
        "arr = np.array(arr).reshape((1,-1))\n",
        "o6 = model_o6.predict(np.array(arr).reshape((1,-1)))\n",
        "print(o6)"
      ],
      "execution_count": 133,
      "outputs": [
        {
          "output_type": "stream",
          "text": [
            "[12:26:42] WARNING: /workspace/src/objective/regression_obj.cu:152: reg:linear is now deprecated in favor of reg:squarederror.\n",
            "[757.937]\n"
          ],
          "name": "stdout"
        }
      ]
    },
    {
      "cell_type": "code",
      "metadata": {
        "colab": {
          "base_uri": "https://localhost:8080/"
        },
        "id": "XPCU48yhfHhP",
        "outputId": "371b7daf-addd-4b6c-f456-1b40a0850a3c"
      },
      "source": [
        "r2_score(y_test,y_pred)"
      ],
      "execution_count": 134,
      "outputs": [
        {
          "output_type": "execute_result",
          "data": {
            "text/plain": [
              "0.8958878071285229"
            ]
          },
          "metadata": {
            "tags": []
          },
          "execution_count": 134
        }
      ]
    },
    {
      "cell_type": "code",
      "metadata": {
        "colab": {
          "base_uri": "https://localhost:8080/"
        },
        "id": "sEP6csBpyh1D",
        "outputId": "636e43bb-14b1-4df8-90b6-954df4215ea3"
      },
      "source": [
        "mse = mean_squared_error(y_test,y_pred)\n",
        "print(\"MSE: %.2f\" % mse)\n",
        "print(\"RMSE: %.2f\" % np.sqrt(mse))"
      ],
      "execution_count": 135,
      "outputs": [
        {
          "output_type": "stream",
          "text": [
            "MSE: 1002.33\n",
            "RMSE: 31.66\n"
          ],
          "name": "stdout"
        }
      ]
    },
    {
      "cell_type": "code",
      "metadata": {
        "colab": {
          "base_uri": "https://localhost:8080/",
          "height": 417
        },
        "id": "occC_mY374T3",
        "outputId": "fe325d7b-3531-46d4-b3f7-1a4e6411ced1"
      },
      "source": [
        "pred_y_df = pd.DataFrame({'Actual': y_test, 'Predicted': y_pred, 'Diff':y_test-y_pred})\n",
        "pred_y_df"
      ],
      "execution_count": 136,
      "outputs": [
        {
          "output_type": "execute_result",
          "data": {
            "text/html": [
              "<div>\n",
              "<style scoped>\n",
              "    .dataframe tbody tr th:only-of-type {\n",
              "        vertical-align: middle;\n",
              "    }\n",
              "\n",
              "    .dataframe tbody tr th {\n",
              "        vertical-align: top;\n",
              "    }\n",
              "\n",
              "    .dataframe thead th {\n",
              "        text-align: right;\n",
              "    }\n",
              "</style>\n",
              "<table border=\"1\" class=\"dataframe\">\n",
              "  <thead>\n",
              "    <tr style=\"text-align: right;\">\n",
              "      <th></th>\n",
              "      <th>Actual</th>\n",
              "      <th>Predicted</th>\n",
              "      <th>Diff</th>\n",
              "    </tr>\n",
              "  </thead>\n",
              "  <tbody>\n",
              "    <tr>\n",
              "      <th>0</th>\n",
              "      <td>552</td>\n",
              "      <td>551.866333</td>\n",
              "      <td>0.133667</td>\n",
              "    </tr>\n",
              "    <tr>\n",
              "      <th>1</th>\n",
              "      <td>565</td>\n",
              "      <td>567.812134</td>\n",
              "      <td>-2.812134</td>\n",
              "    </tr>\n",
              "    <tr>\n",
              "      <th>2</th>\n",
              "      <td>563</td>\n",
              "      <td>555.121521</td>\n",
              "      <td>7.878479</td>\n",
              "    </tr>\n",
              "    <tr>\n",
              "      <th>3</th>\n",
              "      <td>538</td>\n",
              "      <td>538.074890</td>\n",
              "      <td>-0.074890</td>\n",
              "    </tr>\n",
              "    <tr>\n",
              "      <th>4</th>\n",
              "      <td>774</td>\n",
              "      <td>842.079041</td>\n",
              "      <td>-68.079041</td>\n",
              "    </tr>\n",
              "    <tr>\n",
              "      <th>...</th>\n",
              "      <td>...</td>\n",
              "      <td>...</td>\n",
              "      <td>...</td>\n",
              "    </tr>\n",
              "    <tr>\n",
              "      <th>311</th>\n",
              "      <td>551</td>\n",
              "      <td>554.665344</td>\n",
              "      <td>-3.665344</td>\n",
              "    </tr>\n",
              "    <tr>\n",
              "      <th>312</th>\n",
              "      <td>525</td>\n",
              "      <td>529.480896</td>\n",
              "      <td>-4.480896</td>\n",
              "    </tr>\n",
              "    <tr>\n",
              "      <th>313</th>\n",
              "      <td>588</td>\n",
              "      <td>585.746216</td>\n",
              "      <td>2.253784</td>\n",
              "    </tr>\n",
              "    <tr>\n",
              "      <th>314</th>\n",
              "      <td>485</td>\n",
              "      <td>472.672272</td>\n",
              "      <td>12.327728</td>\n",
              "    </tr>\n",
              "    <tr>\n",
              "      <th>315</th>\n",
              "      <td>541</td>\n",
              "      <td>544.942505</td>\n",
              "      <td>-3.942505</td>\n",
              "    </tr>\n",
              "  </tbody>\n",
              "</table>\n",
              "<p>316 rows × 3 columns</p>\n",
              "</div>"
            ],
            "text/plain": [
              "     Actual   Predicted       Diff\n",
              "0       552  551.866333   0.133667\n",
              "1       565  567.812134  -2.812134\n",
              "2       563  555.121521   7.878479\n",
              "3       538  538.074890  -0.074890\n",
              "4       774  842.079041 -68.079041\n",
              "..      ...         ...        ...\n",
              "311     551  554.665344  -3.665344\n",
              "312     525  529.480896  -4.480896\n",
              "313     588  585.746216   2.253784\n",
              "314     485  472.672272  12.327728\n",
              "315     541  544.942505  -3.942505\n",
              "\n",
              "[316 rows x 3 columns]"
            ]
          },
          "metadata": {
            "tags": []
          },
          "execution_count": 136
        }
      ]
    },
    {
      "cell_type": "code",
      "metadata": {
        "colab": {
          "base_uri": "https://localhost:8080/"
        },
        "id": "d4B-QjME74We",
        "outputId": "f6f0b36c-7177-40be-e23e-31d657509e4b"
      },
      "source": [
        "print('Minimum: ',pred_y_df['Diff'].min())\n",
        "print('Maximum: ',pred_y_df['Diff'].max())\n",
        "print('Average: ',np.abs(pred_y_df['Diff']).mean())\n",
        "print('STD: ',pred_y_df['Diff'].std())"
      ],
      "execution_count": 137,
      "outputs": [
        {
          "output_type": "stream",
          "text": [
            "Minimum:  -91.35638427734375\n",
            "Maximum:  184.4503173828125\n",
            "Average:  18.091583445102355\n",
            "STD:  31.62568494749876\n"
          ],
          "name": "stdout"
        }
      ]
    },
    {
      "cell_type": "code",
      "metadata": {
        "colab": {
          "base_uri": "https://localhost:8080/",
          "height": 575
        },
        "id": "JSTTc50R15bE",
        "outputId": "9ae82f0c-2cc3-4278-8f0b-d82db7622fb1"
      },
      "source": [
        "plt.style.use('fivethirtyeight')\n",
        "plt.figure(figsize=(16,8))\n",
        "plt.scatter(y_test,y_pred)\n",
        "plt.xlabel('Actual')\n",
        "plt.ylabel('Predicted')\n",
        "plt.title('Actual vs Predicted')"
      ],
      "execution_count": 138,
      "outputs": [
        {
          "output_type": "execute_result",
          "data": {
            "text/plain": [
              "Text(0.5, 1.0, 'Actual vs Predicted')"
            ]
          },
          "metadata": {
            "tags": []
          },
          "execution_count": 138
        },
        {
          "output_type": "display_data",
          "data": {
            "image/png": "[encoded data removed]",
            "text/plain": [
              "<Figure size 1152x576 with 1 Axes>"
            ]
          },
          "metadata": {
            "tags": []
          }
        }
      ]
    },
    {
      "cell_type": "markdown",
      "metadata": {
        "id": "GFiYVN1eE2Ly"
      },
      "source": [
        "**station o7**\n"
      ]
    },
    {
      "cell_type": "code",
      "metadata": {
        "id": "VfUX6QGbDGqQ"
      },
      "source": [
        "#x = dfbus[['Hours','SecMin','Line','o2','o3','o4','o5','o6']].values\n",
        "\n",
        "#X with dummy weekday\n",
        "x = dfbus[['Hours','SecMin','Line','o2','o3','o4','o5','o6','Sun','Mon','Tue','Wed','Thu']].values\n",
        "y = dfbus['o7'].values"
      ],
      "execution_count": 139,
      "outputs": []
    },
    {
      "cell_type": "code",
      "metadata": {
        "colab": {
          "base_uri": "https://localhost:8080/"
        },
        "id": "VAuMTwdqDLhw",
        "outputId": "6008a374-d0fb-40f5-aad4-2a6dfda643f9"
      },
      "source": [
        "model_o7, y_test, y_pred = model(x,y)\n",
        "arr = [hour,minSec,line,o2[0],o3[0],o4[0],o5[0],o6[0],weekDay[0],weekDay[1],weekDay[2],weekDay[3],weekDay[4]]\n",
        "#arr = [hour,minSec,line,o2[0],o3[0],o4[0],o5[0],o6[0]]\n",
        "arr = np.array(arr).reshape((1,-1))\n",
        "o7 = model_o7.predict(np.array(arr).reshape((1,-1)))\n",
        "print(o7)"
      ],
      "execution_count": 140,
      "outputs": [
        {
          "output_type": "stream",
          "text": [
            "[12:26:42] WARNING: /workspace/src/objective/regression_obj.cu:152: reg:linear is now deprecated in favor of reg:squarederror.\n",
            "[865.5633]\n"
          ],
          "name": "stdout"
        }
      ]
    },
    {
      "cell_type": "code",
      "metadata": {
        "colab": {
          "base_uri": "https://localhost:8080/"
        },
        "id": "jcdcgRFVfIQb",
        "outputId": "b87557a5-67c2-4c03-a190-d70e5912e37b"
      },
      "source": [
        "r2_score(y_test,y_pred)"
      ],
      "execution_count": 141,
      "outputs": [
        {
          "output_type": "execute_result",
          "data": {
            "text/plain": [
              "0.9457254717716204"
            ]
          },
          "metadata": {
            "tags": []
          },
          "execution_count": 141
        }
      ]
    },
    {
      "cell_type": "code",
      "metadata": {
        "colab": {
          "base_uri": "https://localhost:8080/"
        },
        "id": "sP6MwOcfyiqQ",
        "outputId": "c5b04634-8e41-45ed-a8f5-c8638cc89f37"
      },
      "source": [
        "mse = mean_squared_error(y_test,y_pred)\n",
        "print(\"MSE: %.2f\" % mse)\n",
        "print(\"RMSE: %.2f\" % np.sqrt(mse))"
      ],
      "execution_count": 142,
      "outputs": [
        {
          "output_type": "stream",
          "text": [
            "MSE: 627.69\n",
            "RMSE: 25.05\n"
          ],
          "name": "stdout"
        }
      ]
    },
    {
      "cell_type": "code",
      "metadata": {
        "colab": {
          "base_uri": "https://localhost:8080/",
          "height": 417
        },
        "id": "j-Ybyp7976ie",
        "outputId": "e5958150-fb51-47b2-f1ff-1f7ecaaafdd1"
      },
      "source": [
        "pred_y_df = pd.DataFrame({'Actual': y_test, 'Predicted': y_pred, 'Diff':y_test-y_pred})\n",
        "pred_y_df"
      ],
      "execution_count": 143,
      "outputs": [
        {
          "output_type": "execute_result",
          "data": {
            "text/html": [
              "<div>\n",
              "<style scoped>\n",
              "    .dataframe tbody tr th:only-of-type {\n",
              "        vertical-align: middle;\n",
              "    }\n",
              "\n",
              "    .dataframe tbody tr th {\n",
              "        vertical-align: top;\n",
              "    }\n",
              "\n",
              "    .dataframe thead th {\n",
              "        text-align: right;\n",
              "    }\n",
              "</style>\n",
              "<table border=\"1\" class=\"dataframe\">\n",
              "  <thead>\n",
              "    <tr style=\"text-align: right;\">\n",
              "      <th></th>\n",
              "      <th>Actual</th>\n",
              "      <th>Predicted</th>\n",
              "      <th>Diff</th>\n",
              "    </tr>\n",
              "  </thead>\n",
              "  <tbody>\n",
              "    <tr>\n",
              "      <th>0</th>\n",
              "      <td>607</td>\n",
              "      <td>620.668701</td>\n",
              "      <td>-13.668701</td>\n",
              "    </tr>\n",
              "    <tr>\n",
              "      <th>1</th>\n",
              "      <td>634</td>\n",
              "      <td>623.147400</td>\n",
              "      <td>10.852600</td>\n",
              "    </tr>\n",
              "    <tr>\n",
              "      <th>2</th>\n",
              "      <td>631</td>\n",
              "      <td>627.336670</td>\n",
              "      <td>3.663330</td>\n",
              "    </tr>\n",
              "    <tr>\n",
              "      <th>3</th>\n",
              "      <td>603</td>\n",
              "      <td>600.971436</td>\n",
              "      <td>2.028564</td>\n",
              "    </tr>\n",
              "    <tr>\n",
              "      <th>4</th>\n",
              "      <td>832</td>\n",
              "      <td>852.004211</td>\n",
              "      <td>-20.004211</td>\n",
              "    </tr>\n",
              "    <tr>\n",
              "      <th>...</th>\n",
              "      <td>...</td>\n",
              "      <td>...</td>\n",
              "      <td>...</td>\n",
              "    </tr>\n",
              "    <tr>\n",
              "      <th>311</th>\n",
              "      <td>610</td>\n",
              "      <td>612.896545</td>\n",
              "      <td>-2.896545</td>\n",
              "    </tr>\n",
              "    <tr>\n",
              "      <th>312</th>\n",
              "      <td>583</td>\n",
              "      <td>586.775452</td>\n",
              "      <td>-3.775452</td>\n",
              "    </tr>\n",
              "    <tr>\n",
              "      <th>313</th>\n",
              "      <td>649</td>\n",
              "      <td>662.962830</td>\n",
              "      <td>-13.962830</td>\n",
              "    </tr>\n",
              "    <tr>\n",
              "      <th>314</th>\n",
              "      <td>523</td>\n",
              "      <td>525.325684</td>\n",
              "      <td>-2.325684</td>\n",
              "    </tr>\n",
              "    <tr>\n",
              "      <th>315</th>\n",
              "      <td>602</td>\n",
              "      <td>609.738525</td>\n",
              "      <td>-7.738525</td>\n",
              "    </tr>\n",
              "  </tbody>\n",
              "</table>\n",
              "<p>316 rows × 3 columns</p>\n",
              "</div>"
            ],
            "text/plain": [
              "     Actual   Predicted       Diff\n",
              "0       607  620.668701 -13.668701\n",
              "1       634  623.147400  10.852600\n",
              "2       631  627.336670   3.663330\n",
              "3       603  600.971436   2.028564\n",
              "4       832  852.004211 -20.004211\n",
              "..      ...         ...        ...\n",
              "311     610  612.896545  -2.896545\n",
              "312     583  586.775452  -3.775452\n",
              "313     649  662.962830 -13.962830\n",
              "314     523  525.325684  -2.325684\n",
              "315     602  609.738525  -7.738525\n",
              "\n",
              "[316 rows x 3 columns]"
            ]
          },
          "metadata": {
            "tags": []
          },
          "execution_count": 143
        }
      ]
    },
    {
      "cell_type": "code",
      "metadata": {
        "colab": {
          "base_uri": "https://localhost:8080/"
        },
        "id": "YNOXL4io76k6",
        "outputId": "cecadd9c-acac-4d05-ef09-8b577c21e25b"
      },
      "source": [
        "print('Minimum: ',pred_y_df['Diff'].min())\n",
        "print('Maximum: ',pred_y_df['Diff'].max())\n",
        "print('Average: ',np.abs(pred_y_df['Diff']).mean())\n",
        "print('STD: ',pred_y_df['Diff'].std())"
      ],
      "execution_count": 144,
      "outputs": [
        {
          "output_type": "stream",
          "text": [
            "Minimum:  -169.3994140625\n",
            "Maximum:  108.6690673828125\n",
            "Average:  14.741832781441603\n",
            "STD:  24.976637752812255\n"
          ],
          "name": "stdout"
        }
      ]
    },
    {
      "cell_type": "code",
      "metadata": {
        "colab": {
          "base_uri": "https://localhost:8080/",
          "height": 575
        },
        "id": "L9cMAp9_16Ua",
        "outputId": "c740dd4a-11e3-476e-fde0-47eab28d22aa"
      },
      "source": [
        "plt.style.use('fivethirtyeight')\n",
        "plt.figure(figsize=(16,8))\n",
        "plt.scatter(y_test,y_pred)\n",
        "plt.xlabel('Actual')\n",
        "plt.ylabel('Predicted')\n",
        "plt.title('Actual vs Predicted')"
      ],
      "execution_count": 145,
      "outputs": [
        {
          "output_type": "execute_result",
          "data": {
            "text/plain": [
              "Text(0.5, 1.0, 'Actual vs Predicted')"
            ]
          },
          "metadata": {
            "tags": []
          },
          "execution_count": 145
        },
        {
          "output_type": "display_data",
          "data": {
            "image/png": "[encoded data removed]",
            "text/plain": [
              "<Figure size 1152x576 with 1 Axes>"
            ]
          },
          "metadata": {
            "tags": []
          }
        }
      ]
    },
    {
      "cell_type": "markdown",
      "metadata": {
        "id": "_72muxPsE3J1"
      },
      "source": [
        "**station o8**\n"
      ]
    },
    {
      "cell_type": "code",
      "metadata": {
        "id": "abatXOxQDL1l"
      },
      "source": [
        "#x = dfbus[['Hours','SecMin','Line','o2','o3','o4','o5','o6','o7']].values\n",
        "\n",
        "#X with dummy weekday\n",
        "x = dfbus[['Hours','SecMin','Line','o2','o3','o4','o5','o6','o7','Sun','Mon','Tue','Wed','Thu']].values\n",
        "y = dfbus['o8'].values"
      ],
      "execution_count": 146,
      "outputs": []
    },
    {
      "cell_type": "code",
      "metadata": {
        "colab": {
          "base_uri": "https://localhost:8080/"
        },
        "id": "7QilcYcrDQPu",
        "outputId": "a780cff4-f167-492f-ce3f-598521e390e3"
      },
      "source": [
        "model_o8, y_test, y_pred = model(x,y)\n",
        "arr = [hour,minSec,line,o2[0],o3[0],o4[0],o5[0],o6[0],o7[0],weekDay[0],weekDay[1],weekDay[2],weekDay[3],weekDay[4]]\n",
        "#arr = [hour,minSec,line,o2[0],o3[0],o4[0],o5[0],o6[0],o7[0]]\n",
        "arr = np.array(arr).reshape((1,-1))\n",
        "o8 = model_o8.predict(np.array(arr).reshape((1,-1)))\n",
        "print(o8)"
      ],
      "execution_count": 147,
      "outputs": [
        {
          "output_type": "stream",
          "text": [
            "[12:26:43] WARNING: /workspace/src/objective/regression_obj.cu:152: reg:linear is now deprecated in favor of reg:squarederror.\n",
            "[937.84045]\n"
          ],
          "name": "stdout"
        }
      ]
    },
    {
      "cell_type": "code",
      "metadata": {
        "colab": {
          "base_uri": "https://localhost:8080/"
        },
        "id": "nWt9G7pzfI-8",
        "outputId": "9af80c81-6140-4c20-a2fe-cd3fd0e120e1"
      },
      "source": [
        "r2_score(y_test,y_pred)"
      ],
      "execution_count": 148,
      "outputs": [
        {
          "output_type": "execute_result",
          "data": {
            "text/plain": [
              "0.9782435833766681"
            ]
          },
          "metadata": {
            "tags": []
          },
          "execution_count": 148
        }
      ]
    },
    {
      "cell_type": "code",
      "metadata": {
        "colab": {
          "base_uri": "https://localhost:8080/"
        },
        "id": "x0XuzD0kyjTk",
        "outputId": "7d65e2e6-d4d7-431d-b775-746f1fd70d46"
      },
      "source": [
        "mse = mean_squared_error(y_test,y_pred)\n",
        "print(\"MSE: %.2f\" % mse)\n",
        "print(\"RMSE: %.2f\" % np.sqrt(mse))"
      ],
      "execution_count": 149,
      "outputs": [
        {
          "output_type": "stream",
          "text": [
            "MSE: 265.78\n",
            "RMSE: 16.30\n"
          ],
          "name": "stdout"
        }
      ]
    },
    {
      "cell_type": "code",
      "metadata": {
        "colab": {
          "base_uri": "https://localhost:8080/",
          "height": 417
        },
        "id": "jGjD_Mg878MZ",
        "outputId": "8b1212db-6e7e-48e0-f4df-ba5e12226d79"
      },
      "source": [
        "pred_y_df = pd.DataFrame({'Actual': y_test, 'Predicted': y_pred, 'Diff':y_test-y_pred})\n",
        "pred_y_df"
      ],
      "execution_count": 150,
      "outputs": [
        {
          "output_type": "execute_result",
          "data": {
            "text/html": [
              "<div>\n",
              "<style scoped>\n",
              "    .dataframe tbody tr th:only-of-type {\n",
              "        vertical-align: middle;\n",
              "    }\n",
              "\n",
              "    .dataframe tbody tr th {\n",
              "        vertical-align: top;\n",
              "    }\n",
              "\n",
              "    .dataframe thead th {\n",
              "        text-align: right;\n",
              "    }\n",
              "</style>\n",
              "<table border=\"1\" class=\"dataframe\">\n",
              "  <thead>\n",
              "    <tr style=\"text-align: right;\">\n",
              "      <th></th>\n",
              "      <th>Actual</th>\n",
              "      <th>Predicted</th>\n",
              "      <th>Diff</th>\n",
              "    </tr>\n",
              "  </thead>\n",
              "  <tbody>\n",
              "    <tr>\n",
              "      <th>0</th>\n",
              "      <td>675</td>\n",
              "      <td>668.675903</td>\n",
              "      <td>6.324097</td>\n",
              "    </tr>\n",
              "    <tr>\n",
              "      <th>1</th>\n",
              "      <td>698</td>\n",
              "      <td>699.409546</td>\n",
              "      <td>-1.409546</td>\n",
              "    </tr>\n",
              "    <tr>\n",
              "      <th>2</th>\n",
              "      <td>698</td>\n",
              "      <td>696.214478</td>\n",
              "      <td>1.785522</td>\n",
              "    </tr>\n",
              "    <tr>\n",
              "      <th>3</th>\n",
              "      <td>667</td>\n",
              "      <td>667.240662</td>\n",
              "      <td>-0.240662</td>\n",
              "    </tr>\n",
              "    <tr>\n",
              "      <th>4</th>\n",
              "      <td>897</td>\n",
              "      <td>892.408630</td>\n",
              "      <td>4.591370</td>\n",
              "    </tr>\n",
              "    <tr>\n",
              "      <th>...</th>\n",
              "      <td>...</td>\n",
              "      <td>...</td>\n",
              "      <td>...</td>\n",
              "    </tr>\n",
              "    <tr>\n",
              "      <th>311</th>\n",
              "      <td>675</td>\n",
              "      <td>674.360352</td>\n",
              "      <td>0.639648</td>\n",
              "    </tr>\n",
              "    <tr>\n",
              "      <th>312</th>\n",
              "      <td>648</td>\n",
              "      <td>649.923889</td>\n",
              "      <td>-1.923889</td>\n",
              "    </tr>\n",
              "    <tr>\n",
              "      <th>313</th>\n",
              "      <td>712</td>\n",
              "      <td>719.227234</td>\n",
              "      <td>-7.227234</td>\n",
              "    </tr>\n",
              "    <tr>\n",
              "      <th>314</th>\n",
              "      <td>590</td>\n",
              "      <td>596.125854</td>\n",
              "      <td>-6.125854</td>\n",
              "    </tr>\n",
              "    <tr>\n",
              "      <th>315</th>\n",
              "      <td>666</td>\n",
              "      <td>667.312195</td>\n",
              "      <td>-1.312195</td>\n",
              "    </tr>\n",
              "  </tbody>\n",
              "</table>\n",
              "<p>316 rows × 3 columns</p>\n",
              "</div>"
            ],
            "text/plain": [
              "     Actual   Predicted      Diff\n",
              "0       675  668.675903  6.324097\n",
              "1       698  699.409546 -1.409546\n",
              "2       698  696.214478  1.785522\n",
              "3       667  667.240662 -0.240662\n",
              "4       897  892.408630  4.591370\n",
              "..      ...         ...       ...\n",
              "311     675  674.360352  0.639648\n",
              "312     648  649.923889 -1.923889\n",
              "313     712  719.227234 -7.227234\n",
              "314     590  596.125854 -6.125854\n",
              "315     666  667.312195 -1.312195\n",
              "\n",
              "[316 rows x 3 columns]"
            ]
          },
          "metadata": {
            "tags": []
          },
          "execution_count": 150
        }
      ]
    },
    {
      "cell_type": "code",
      "metadata": {
        "colab": {
          "base_uri": "https://localhost:8080/"
        },
        "id": "LrzVqDQP78PD",
        "outputId": "f9f33a12-dcf7-45e0-e9bd-537556f56919"
      },
      "source": [
        "print('Minimum: ',pred_y_df['Diff'].min())\n",
        "print('Maximum: ',pred_y_df['Diff'].max())\n",
        "print('Average: ',np.abs(pred_y_df['Diff']).mean())\n",
        "print('STD: ',pred_y_df['Diff'].std())"
      ],
      "execution_count": 151,
      "outputs": [
        {
          "output_type": "stream",
          "text": [
            "Minimum:  -68.779052734375\n",
            "Maximum:  136.591796875\n",
            "Average:  9.056745601605765\n",
            "STD:  16.243203764827435\n"
          ],
          "name": "stdout"
        }
      ]
    },
    {
      "cell_type": "code",
      "metadata": {
        "colab": {
          "base_uri": "https://localhost:8080/",
          "height": 575
        },
        "id": "ZhP4V-Oc17TV",
        "outputId": "aa8de818-14ea-4481-9019-f82e9001c2d9"
      },
      "source": [
        "plt.style.use('fivethirtyeight')\n",
        "plt.figure(figsize=(16,8))\n",
        "plt.scatter(y_test,y_pred)\n",
        "plt.xlabel('Actual')\n",
        "plt.ylabel('Predicted')\n",
        "plt.title('Actual vs Predicted')"
      ],
      "execution_count": 152,
      "outputs": [
        {
          "output_type": "execute_result",
          "data": {
            "text/plain": [
              "Text(0.5, 1.0, 'Actual vs Predicted')"
            ]
          },
          "metadata": {
            "tags": []
          },
          "execution_count": 152
        },
        {
          "output_type": "display_data",
          "data": {
            "image/png": "[encoded data removed]",
            "text/plain": [
              "<Figure size 1152x576 with 1 Axes>"
            ]
          },
          "metadata": {
            "tags": []
          }
        }
      ]
    },
    {
      "cell_type": "markdown",
      "metadata": {
        "id": "Irr0S3b4E3vl"
      },
      "source": [
        "**station o9**\n"
      ]
    },
    {
      "cell_type": "code",
      "metadata": {
        "id": "0jfkrOnODQVY"
      },
      "source": [
        "#x = dfbus[['Hours','SecMin','Line','o2','o3','o4','o5','o6','o7','o8']].values\n",
        "\n",
        "#X with dummy weekday\n",
        "x = dfbus[['Hours','SecMin','Line','o2','o3','o4','o5','o6','o7','o8','Sun','Mon','Tue','Wed','Thu']].values\n",
        "y = dfbus['o9'].values"
      ],
      "execution_count": 153,
      "outputs": []
    },
    {
      "cell_type": "code",
      "metadata": {
        "colab": {
          "base_uri": "https://localhost:8080/"
        },
        "id": "YseipGtyDXox",
        "outputId": "6566ca7b-f979-428e-c272-65856f5cafa2"
      },
      "source": [
        "model_o9, y_test, y_pred = model(x,y)\n",
        "arr = [hour,minSec,line,o2[0],o3[0],o4[0],o5[0],o6[0],o7[0],o8[0],weekDay[0],weekDay[1],weekDay[2],weekDay[3],weekDay[4]]\n",
        "#arr = [hour,minSec,line,o2[0],o3[0],o4[0],o5[0],o6[0],o7[0],o8[0]]\n",
        "arr = np.array(arr).reshape((1,-1))\n",
        "o9 = model_o9.predict(np.array(arr).reshape((1,-1)))\n",
        "print(o9)"
      ],
      "execution_count": 154,
      "outputs": [
        {
          "output_type": "stream",
          "text": [
            "[12:26:43] WARNING: /workspace/src/objective/regression_obj.cu:152: reg:linear is now deprecated in favor of reg:squarederror.\n",
            "[1031.2229]\n"
          ],
          "name": "stdout"
        }
      ]
    },
    {
      "cell_type": "code",
      "metadata": {
        "colab": {
          "base_uri": "https://localhost:8080/"
        },
        "id": "XRO9Dte1fJqx",
        "outputId": "3efe8029-bbac-4fd5-cef8-9d0cd3ecc476"
      },
      "source": [
        "r2_score(y_test,y_pred)"
      ],
      "execution_count": 155,
      "outputs": [
        {
          "output_type": "execute_result",
          "data": {
            "text/plain": [
              "0.9834509468877772"
            ]
          },
          "metadata": {
            "tags": []
          },
          "execution_count": 155
        }
      ]
    },
    {
      "cell_type": "code",
      "metadata": {
        "colab": {
          "base_uri": "https://localhost:8080/"
        },
        "id": "b7efuzNtyj9U",
        "outputId": "2eb2893d-38b4-4bab-b270-445f9c3e4220"
      },
      "source": [
        "mse = mean_squared_error(y_test,y_pred)\n",
        "print(\"MSE: %.2f\" % mse)\n",
        "print(\"RMSE: %.2f\" % np.sqrt(mse))"
      ],
      "execution_count": 156,
      "outputs": [
        {
          "output_type": "stream",
          "text": [
            "MSE: 214.32\n",
            "RMSE: 14.64\n"
          ],
          "name": "stdout"
        }
      ]
    },
    {
      "cell_type": "code",
      "metadata": {
        "colab": {
          "base_uri": "https://localhost:8080/",
          "height": 417
        },
        "id": "SFfbZr0i79lZ",
        "outputId": "7b07f5f6-638e-4749-d80f-cf9ef1a85d87"
      },
      "source": [
        "pred_y_df = pd.DataFrame({'Actual': y_test, 'Predicted': y_pred, 'Diff':y_test-y_pred})\n",
        "pred_y_df"
      ],
      "execution_count": 157,
      "outputs": [
        {
          "output_type": "execute_result",
          "data": {
            "text/html": [
              "<div>\n",
              "<style scoped>\n",
              "    .dataframe tbody tr th:only-of-type {\n",
              "        vertical-align: middle;\n",
              "    }\n",
              "\n",
              "    .dataframe tbody tr th {\n",
              "        vertical-align: top;\n",
              "    }\n",
              "\n",
              "    .dataframe thead th {\n",
              "        text-align: right;\n",
              "    }\n",
              "</style>\n",
              "<table border=\"1\" class=\"dataframe\">\n",
              "  <thead>\n",
              "    <tr style=\"text-align: right;\">\n",
              "      <th></th>\n",
              "      <th>Actual</th>\n",
              "      <th>Predicted</th>\n",
              "      <th>Diff</th>\n",
              "    </tr>\n",
              "  </thead>\n",
              "  <tbody>\n",
              "    <tr>\n",
              "      <th>0</th>\n",
              "      <td>778</td>\n",
              "      <td>776.584656</td>\n",
              "      <td>1.415344</td>\n",
              "    </tr>\n",
              "    <tr>\n",
              "      <th>1</th>\n",
              "      <td>803</td>\n",
              "      <td>802.081177</td>\n",
              "      <td>0.918823</td>\n",
              "    </tr>\n",
              "    <tr>\n",
              "      <th>2</th>\n",
              "      <td>802</td>\n",
              "      <td>799.980408</td>\n",
              "      <td>2.019592</td>\n",
              "    </tr>\n",
              "    <tr>\n",
              "      <th>3</th>\n",
              "      <td>767</td>\n",
              "      <td>764.451538</td>\n",
              "      <td>2.548462</td>\n",
              "    </tr>\n",
              "    <tr>\n",
              "      <th>4</th>\n",
              "      <td>1000</td>\n",
              "      <td>983.875061</td>\n",
              "      <td>16.124939</td>\n",
              "    </tr>\n",
              "    <tr>\n",
              "      <th>...</th>\n",
              "      <td>...</td>\n",
              "      <td>...</td>\n",
              "      <td>...</td>\n",
              "    </tr>\n",
              "    <tr>\n",
              "      <th>311</th>\n",
              "      <td>778</td>\n",
              "      <td>778.958923</td>\n",
              "      <td>-0.958923</td>\n",
              "    </tr>\n",
              "    <tr>\n",
              "      <th>312</th>\n",
              "      <td>748</td>\n",
              "      <td>751.400818</td>\n",
              "      <td>-3.400818</td>\n",
              "    </tr>\n",
              "    <tr>\n",
              "      <th>313</th>\n",
              "      <td>814</td>\n",
              "      <td>813.546814</td>\n",
              "      <td>0.453186</td>\n",
              "    </tr>\n",
              "    <tr>\n",
              "      <th>314</th>\n",
              "      <td>678</td>\n",
              "      <td>686.711121</td>\n",
              "      <td>-8.711121</td>\n",
              "    </tr>\n",
              "    <tr>\n",
              "      <th>315</th>\n",
              "      <td>769</td>\n",
              "      <td>765.120911</td>\n",
              "      <td>3.879089</td>\n",
              "    </tr>\n",
              "  </tbody>\n",
              "</table>\n",
              "<p>316 rows × 3 columns</p>\n",
              "</div>"
            ],
            "text/plain": [
              "     Actual   Predicted       Diff\n",
              "0       778  776.584656   1.415344\n",
              "1       803  802.081177   0.918823\n",
              "2       802  799.980408   2.019592\n",
              "3       767  764.451538   2.548462\n",
              "4      1000  983.875061  16.124939\n",
              "..      ...         ...        ...\n",
              "311     778  778.958923  -0.958923\n",
              "312     748  751.400818  -3.400818\n",
              "313     814  813.546814   0.453186\n",
              "314     678  686.711121  -8.711121\n",
              "315     769  765.120911   3.879089\n",
              "\n",
              "[316 rows x 3 columns]"
            ]
          },
          "metadata": {
            "tags": []
          },
          "execution_count": 157
        }
      ]
    },
    {
      "cell_type": "code",
      "metadata": {
        "colab": {
          "base_uri": "https://localhost:8080/"
        },
        "id": "AuUbjIgp79oN",
        "outputId": "2fd16d5d-e4ff-4564-affe-2c5ca6707237"
      },
      "source": [
        "print('Minimum: ',pred_y_df['Diff'].min())\n",
        "print('Maximum: ',pred_y_df['Diff'].max())\n",
        "print('Average: ',np.abs(pred_y_df['Diff']).mean())\n",
        "print('STD: ',pred_y_df['Diff'].std())"
      ],
      "execution_count": 158,
      "outputs": [
        {
          "output_type": "stream",
          "text": [
            "Minimum:  -71.21990966796875\n",
            "Maximum:  49.611328125\n",
            "Average:  8.932085254524328\n",
            "STD:  14.341457992959345\n"
          ],
          "name": "stdout"
        }
      ]
    },
    {
      "cell_type": "code",
      "metadata": {
        "colab": {
          "base_uri": "https://localhost:8080/",
          "height": 575
        },
        "id": "PJjgVlVs18iw",
        "outputId": "dec5b299-8181-407b-ee4b-9f9491bbd950"
      },
      "source": [
        "plt.style.use('fivethirtyeight')\n",
        "plt.figure(figsize=(16,8))\n",
        "plt.scatter(y_test,y_pred)\n",
        "plt.xlabel('Actual')\n",
        "plt.ylabel('Predicted')\n",
        "plt.title('Actual vs Predicted')"
      ],
      "execution_count": 159,
      "outputs": [
        {
          "output_type": "execute_result",
          "data": {
            "text/plain": [
              "Text(0.5, 1.0, 'Actual vs Predicted')"
            ]
          },
          "metadata": {
            "tags": []
          },
          "execution_count": 159
        },
        {
          "output_type": "display_data",
          "data": {
            "image/png": "[encoded data removed]",
            "text/plain": [
              "<Figure size 1152x576 with 1 Axes>"
            ]
          },
          "metadata": {
            "tags": []
          }
        }
      ]
    },
    {
      "cell_type": "markdown",
      "metadata": {
        "id": "QBdchYlnE4TM"
      },
      "source": [
        "**station o10**\n"
      ]
    },
    {
      "cell_type": "code",
      "metadata": {
        "id": "_2JOpAnKDXtU"
      },
      "source": [
        "#x = dfbus[['Hours','SecMin','Line','o2','o3','o4','o5','o6','o7','o8','o9']].values\n",
        "\n",
        "#X with dummy weekday\n",
        "x = dfbus[['Hours','SecMin','Line','o2','o3','o4','o5','o6','o7','o8','o9','Sun','Mon','Tue','Wed','Thu']].values\n",
        "y = dfbus['o10'].values"
      ],
      "execution_count": 160,
      "outputs": []
    },
    {
      "cell_type": "code",
      "metadata": {
        "colab": {
          "base_uri": "https://localhost:8080/"
        },
        "id": "77nFfK_UDgPe",
        "outputId": "35be0823-9af4-41dd-86a5-91f74d809f80"
      },
      "source": [
        "model_o10, y_test, y_pred = model(x,y)\n",
        "arr = [hour,minSec,line,o2[0],o3[0],o4[0],o5[0],o6[0],o7[0],o8[0],o9[0],weekDay[0],weekDay[1],weekDay[2],weekDay[3],weekDay[4]]\n",
        "#arr = [hour,minSec,line,o2[0],o3[0],o4[0],o5[0],o6[0],o7[0],o8[0],o9[0]]\n",
        "arr = np.array(arr).reshape((1,-1))\n",
        "o10 = model_o10.predict(np.array(arr).reshape((1,-1)))\n",
        "print(o10)"
      ],
      "execution_count": 161,
      "outputs": [
        {
          "output_type": "stream",
          "text": [
            "[12:26:44] WARNING: /workspace/src/objective/regression_obj.cu:152: reg:linear is now deprecated in favor of reg:squarederror.\n",
            "[1106.8805]\n"
          ],
          "name": "stdout"
        }
      ]
    },
    {
      "cell_type": "code",
      "metadata": {
        "colab": {
          "base_uri": "https://localhost:8080/"
        },
        "id": "xm-9NC_jfKSR",
        "outputId": "12058500-31e8-4b36-9d28-2bcfc61dbb58"
      },
      "source": [
        "r2_score(y_test,y_pred)"
      ],
      "execution_count": 162,
      "outputs": [
        {
          "output_type": "execute_result",
          "data": {
            "text/plain": [
              "0.9839228475708618"
            ]
          },
          "metadata": {
            "tags": []
          },
          "execution_count": 162
        }
      ]
    },
    {
      "cell_type": "code",
      "metadata": {
        "colab": {
          "base_uri": "https://localhost:8080/"
        },
        "id": "6TlLSLntykmx",
        "outputId": "6ad0070a-21fd-4f60-840e-77a1a352a719"
      },
      "source": [
        "mse = mean_squared_error(y_test,y_pred)\n",
        "print(\"MSE: %.2f\" % mse)\n",
        "print(\"RMSE: %.2f\" % np.sqrt(mse))"
      ],
      "execution_count": 163,
      "outputs": [
        {
          "output_type": "stream",
          "text": [
            "MSE: 214.61\n",
            "RMSE: 14.65\n"
          ],
          "name": "stdout"
        }
      ]
    },
    {
      "cell_type": "code",
      "metadata": {
        "colab": {
          "base_uri": "https://localhost:8080/",
          "height": 417
        },
        "id": "N3C3TODK7_DB",
        "outputId": "d0572081-99e7-4396-81d9-b0b886ac3a13"
      },
      "source": [
        "pred_y_df = pd.DataFrame({'Actual': y_test, 'Predicted': y_pred, 'Diff':y_test-y_pred})\n",
        "pred_y_df"
      ],
      "execution_count": 164,
      "outputs": [
        {
          "output_type": "execute_result",
          "data": {
            "text/html": [
              "<div>\n",
              "<style scoped>\n",
              "    .dataframe tbody tr th:only-of-type {\n",
              "        vertical-align: middle;\n",
              "    }\n",
              "\n",
              "    .dataframe tbody tr th {\n",
              "        vertical-align: top;\n",
              "    }\n",
              "\n",
              "    .dataframe thead th {\n",
              "        text-align: right;\n",
              "    }\n",
              "</style>\n",
              "<table border=\"1\" class=\"dataframe\">\n",
              "  <thead>\n",
              "    <tr style=\"text-align: right;\">\n",
              "      <th></th>\n",
              "      <th>Actual</th>\n",
              "      <th>Predicted</th>\n",
              "      <th>Diff</th>\n",
              "    </tr>\n",
              "  </thead>\n",
              "  <tbody>\n",
              "    <tr>\n",
              "      <th>0</th>\n",
              "      <td>854</td>\n",
              "      <td>846.612671</td>\n",
              "      <td>7.387329</td>\n",
              "    </tr>\n",
              "    <tr>\n",
              "      <th>1</th>\n",
              "      <td>878</td>\n",
              "      <td>877.823975</td>\n",
              "      <td>0.176025</td>\n",
              "    </tr>\n",
              "    <tr>\n",
              "      <th>2</th>\n",
              "      <td>878</td>\n",
              "      <td>875.800964</td>\n",
              "      <td>2.199036</td>\n",
              "    </tr>\n",
              "    <tr>\n",
              "      <th>3</th>\n",
              "      <td>840</td>\n",
              "      <td>840.746460</td>\n",
              "      <td>-0.746460</td>\n",
              "    </tr>\n",
              "    <tr>\n",
              "      <th>4</th>\n",
              "      <td>1073</td>\n",
              "      <td>1066.234253</td>\n",
              "      <td>6.765747</td>\n",
              "    </tr>\n",
              "    <tr>\n",
              "      <th>...</th>\n",
              "      <td>...</td>\n",
              "      <td>...</td>\n",
              "      <td>...</td>\n",
              "    </tr>\n",
              "    <tr>\n",
              "      <th>311</th>\n",
              "      <td>856</td>\n",
              "      <td>851.876953</td>\n",
              "      <td>4.123047</td>\n",
              "    </tr>\n",
              "    <tr>\n",
              "      <th>312</th>\n",
              "      <td>822</td>\n",
              "      <td>825.420227</td>\n",
              "      <td>-3.420227</td>\n",
              "    </tr>\n",
              "    <tr>\n",
              "      <th>313</th>\n",
              "      <td>890</td>\n",
              "      <td>882.066467</td>\n",
              "      <td>7.933533</td>\n",
              "    </tr>\n",
              "    <tr>\n",
              "      <th>314</th>\n",
              "      <td>784</td>\n",
              "      <td>754.352234</td>\n",
              "      <td>29.647766</td>\n",
              "    </tr>\n",
              "    <tr>\n",
              "      <th>315</th>\n",
              "      <td>845</td>\n",
              "      <td>843.546936</td>\n",
              "      <td>1.453064</td>\n",
              "    </tr>\n",
              "  </tbody>\n",
              "</table>\n",
              "<p>316 rows × 3 columns</p>\n",
              "</div>"
            ],
            "text/plain": [
              "     Actual    Predicted       Diff\n",
              "0       854   846.612671   7.387329\n",
              "1       878   877.823975   0.176025\n",
              "2       878   875.800964   2.199036\n",
              "3       840   840.746460  -0.746460\n",
              "4      1073  1066.234253   6.765747\n",
              "..      ...          ...        ...\n",
              "311     856   851.876953   4.123047\n",
              "312     822   825.420227  -3.420227\n",
              "313     890   882.066467   7.933533\n",
              "314     784   754.352234  29.647766\n",
              "315     845   843.546936   1.453064\n",
              "\n",
              "[316 rows x 3 columns]"
            ]
          },
          "metadata": {
            "tags": []
          },
          "execution_count": 164
        }
      ]
    },
    {
      "cell_type": "code",
      "metadata": {
        "colab": {
          "base_uri": "https://localhost:8080/"
        },
        "id": "w_NORF-e7_Fx",
        "outputId": "faa48755-ccd1-4251-d4bb-5f806363c778"
      },
      "source": [
        "print('Minimum: ',pred_y_df['Diff'].min())\n",
        "print('Maximum: ',pred_y_df['Diff'].max())\n",
        "print('Average: ',np.abs(pred_y_df['Diff']).mean())\n",
        "print('STD: ',pred_y_df['Diff'].std())"
      ],
      "execution_count": 165,
      "outputs": [
        {
          "output_type": "stream",
          "text": [
            "Minimum:  -139.619140625\n",
            "Maximum:  60.62353515625\n",
            "Average:  8.373969742014438\n",
            "STD:  14.672580821792373\n"
          ],
          "name": "stdout"
        }
      ]
    },
    {
      "cell_type": "code",
      "metadata": {
        "colab": {
          "base_uri": "https://localhost:8080/",
          "height": 575
        },
        "id": "N3h72Ju-19Za",
        "outputId": "b3059c20-d43b-4c42-db35-835fd9d6ab3b"
      },
      "source": [
        "plt.style.use('fivethirtyeight')\n",
        "plt.figure(figsize=(16,8))\n",
        "plt.scatter(y_test,y_pred)\n",
        "plt.xlabel('Actual')\n",
        "plt.ylabel('Predicted')\n",
        "plt.title('Actual vs Predicted')"
      ],
      "execution_count": 166,
      "outputs": [
        {
          "output_type": "execute_result",
          "data": {
            "text/plain": [
              "Text(0.5, 1.0, 'Actual vs Predicted')"
            ]
          },
          "metadata": {
            "tags": []
          },
          "execution_count": 166
        },
        {
          "output_type": "display_data",
          "data": {
            "image/png": "[encoded data removed]",
            "text/plain": [
              "<Figure size 1152x576 with 1 Axes>"
            ]
          },
          "metadata": {
            "tags": []
          }
        }
      ]
    },
    {
      "cell_type": "markdown",
      "metadata": {
        "id": "VKveebpAE48C"
      },
      "source": [
        "**station o11**\n"
      ]
    },
    {
      "cell_type": "code",
      "metadata": {
        "id": "Gl7-px9PDgXU"
      },
      "source": [
        "#x = dfbus[['Hours','SecMin','Line','o2','o3','o4','o5','o6','o7','o8','o9','o10']].values\n",
        "\n",
        "#X with dummy weekday\n",
        "x = dfbus[['Hours','SecMin','Line','o2','o3','o4','o5','o6','o7','o8','o9','o10','Sun','Mon','Tue','Wed','Thu']].values\n",
        "y = dfbus['o11'].values"
      ],
      "execution_count": 167,
      "outputs": []
    },
    {
      "cell_type": "code",
      "metadata": {
        "colab": {
          "base_uri": "https://localhost:8080/"
        },
        "id": "ASaCvZl1DjwN",
        "outputId": "feaea55e-e8be-4f31-b8be-dfea95cedb5e"
      },
      "source": [
        "model_o11, y_test, y_pred = model(x,y)\n",
        "arr = [hour,minSec,line,o2[0],o3[0],o4[0],o5[0],o6[0],o7[0],o8[0],o9[0],o10[0],weekDay[0],weekDay[1],weekDay[2],weekDay[3],weekDay[4]]\n",
        "#arr = [hour,minSec,line,o2[0],o3[0],o4[0],o5[0],o6[0],o7[0],o8[0],o9[0],o10[0]]\n",
        "arr = np.array(arr).reshape((1,-1))\n",
        "o11 = model_o11.predict(np.array(arr).reshape((1,-1)))\n",
        "print(o11)"
      ],
      "execution_count": 168,
      "outputs": [
        {
          "output_type": "stream",
          "text": [
            "[12:26:44] WARNING: /workspace/src/objective/regression_obj.cu:152: reg:linear is now deprecated in favor of reg:squarederror.\n",
            "[1167.3335]\n"
          ],
          "name": "stdout"
        }
      ]
    },
    {
      "cell_type": "code",
      "metadata": {
        "colab": {
          "base_uri": "https://localhost:8080/"
        },
        "id": "Lo2xLGSkfLBL",
        "outputId": "45dcd0d8-de94-4a2d-bd9a-f6f017e60912"
      },
      "source": [
        "r2_score(y_test,y_pred)"
      ],
      "execution_count": 169,
      "outputs": [
        {
          "output_type": "execute_result",
          "data": {
            "text/plain": [
              "0.980086972277368"
            ]
          },
          "metadata": {
            "tags": []
          },
          "execution_count": 169
        }
      ]
    },
    {
      "cell_type": "code",
      "metadata": {
        "colab": {
          "base_uri": "https://localhost:8080/"
        },
        "id": "yElNRYjcyloV",
        "outputId": "9c05aecc-8d8e-4821-93b8-5fe0b2b88b3a"
      },
      "source": [
        "mse = mean_squared_error(y_test,y_pred)\n",
        "print(\"MSE: %.2f\" % mse)\n",
        "print(\"RMSE: %.2f\" % np.sqrt(mse))"
      ],
      "execution_count": 170,
      "outputs": [
        {
          "output_type": "stream",
          "text": [
            "MSE: 279.04\n",
            "RMSE: 16.70\n"
          ],
          "name": "stdout"
        }
      ]
    },
    {
      "cell_type": "code",
      "metadata": {
        "colab": {
          "base_uri": "https://localhost:8080/",
          "height": 417
        },
        "id": "uL0bFLIu8Am0",
        "outputId": "57848609-1040-412e-fdc4-c5cbdc2b585d"
      },
      "source": [
        "pred_y_df = pd.DataFrame({'Actual': y_test, 'Predicted': y_pred, 'Diff':y_test-y_pred})\n",
        "pred_y_df"
      ],
      "execution_count": 171,
      "outputs": [
        {
          "output_type": "execute_result",
          "data": {
            "text/html": [
              "<div>\n",
              "<style scoped>\n",
              "    .dataframe tbody tr th:only-of-type {\n",
              "        vertical-align: middle;\n",
              "    }\n",
              "\n",
              "    .dataframe tbody tr th {\n",
              "        vertical-align: top;\n",
              "    }\n",
              "\n",
              "    .dataframe thead th {\n",
              "        text-align: right;\n",
              "    }\n",
              "</style>\n",
              "<table border=\"1\" class=\"dataframe\">\n",
              "  <thead>\n",
              "    <tr style=\"text-align: right;\">\n",
              "      <th></th>\n",
              "      <th>Actual</th>\n",
              "      <th>Predicted</th>\n",
              "      <th>Diff</th>\n",
              "    </tr>\n",
              "  </thead>\n",
              "  <tbody>\n",
              "    <tr>\n",
              "      <th>0</th>\n",
              "      <td>920</td>\n",
              "      <td>921.633911</td>\n",
              "      <td>-1.633911</td>\n",
              "    </tr>\n",
              "    <tr>\n",
              "      <th>1</th>\n",
              "      <td>940</td>\n",
              "      <td>943.758667</td>\n",
              "      <td>-3.758667</td>\n",
              "    </tr>\n",
              "    <tr>\n",
              "      <th>2</th>\n",
              "      <td>945</td>\n",
              "      <td>943.755493</td>\n",
              "      <td>1.244507</td>\n",
              "    </tr>\n",
              "    <tr>\n",
              "      <th>3</th>\n",
              "      <td>905</td>\n",
              "      <td>909.797729</td>\n",
              "      <td>-4.797729</td>\n",
              "    </tr>\n",
              "    <tr>\n",
              "      <th>4</th>\n",
              "      <td>1139</td>\n",
              "      <td>1130.531616</td>\n",
              "      <td>8.468384</td>\n",
              "    </tr>\n",
              "    <tr>\n",
              "      <th>...</th>\n",
              "      <td>...</td>\n",
              "      <td>...</td>\n",
              "      <td>...</td>\n",
              "    </tr>\n",
              "    <tr>\n",
              "      <th>311</th>\n",
              "      <td>921</td>\n",
              "      <td>921.171692</td>\n",
              "      <td>-0.171692</td>\n",
              "    </tr>\n",
              "    <tr>\n",
              "      <th>312</th>\n",
              "      <td>886</td>\n",
              "      <td>886.997742</td>\n",
              "      <td>-0.997742</td>\n",
              "    </tr>\n",
              "    <tr>\n",
              "      <th>313</th>\n",
              "      <td>955</td>\n",
              "      <td>949.485535</td>\n",
              "      <td>5.514465</td>\n",
              "    </tr>\n",
              "    <tr>\n",
              "      <th>314</th>\n",
              "      <td>858</td>\n",
              "      <td>826.514160</td>\n",
              "      <td>31.485840</td>\n",
              "    </tr>\n",
              "    <tr>\n",
              "      <th>315</th>\n",
              "      <td>910</td>\n",
              "      <td>909.338074</td>\n",
              "      <td>0.661926</td>\n",
              "    </tr>\n",
              "  </tbody>\n",
              "</table>\n",
              "<p>316 rows × 3 columns</p>\n",
              "</div>"
            ],
            "text/plain": [
              "     Actual    Predicted       Diff\n",
              "0       920   921.633911  -1.633911\n",
              "1       940   943.758667  -3.758667\n",
              "2       945   943.755493   1.244507\n",
              "3       905   909.797729  -4.797729\n",
              "4      1139  1130.531616   8.468384\n",
              "..      ...          ...        ...\n",
              "311     921   921.171692  -0.171692\n",
              "312     886   886.997742  -0.997742\n",
              "313     955   949.485535   5.514465\n",
              "314     858   826.514160  31.485840\n",
              "315     910   909.338074   0.661926\n",
              "\n",
              "[316 rows x 3 columns]"
            ]
          },
          "metadata": {
            "tags": []
          },
          "execution_count": 171
        }
      ]
    },
    {
      "cell_type": "code",
      "metadata": {
        "colab": {
          "base_uri": "https://localhost:8080/"
        },
        "id": "_ZIJ4MSW8Api",
        "outputId": "47c0da7a-336d-4e97-ce5d-c4f9cc030577"
      },
      "source": [
        "print('Minimum: ',pred_y_df['Diff'].min())\n",
        "print('Maximum: ',pred_y_df['Diff'].max())\n",
        "print('Average: ',np.abs(pred_y_df['Diff']).mean())\n",
        "print('STD: ',pred_y_df['Diff'].std())"
      ],
      "execution_count": 172,
      "outputs": [
        {
          "output_type": "stream",
          "text": [
            "Minimum:  -230.1361083984375\n",
            "Maximum:  35.00811767578125\n",
            "Average:  7.356819828854332\n",
            "STD:  16.673324933864762\n"
          ],
          "name": "stdout"
        }
      ]
    },
    {
      "cell_type": "code",
      "metadata": {
        "colab": {
          "base_uri": "https://localhost:8080/",
          "height": 575
        },
        "id": "-7OsZKic1-le",
        "outputId": "0ea8dc21-400c-4e05-f52e-1c42bb8a11eb"
      },
      "source": [
        "plt.style.use('fivethirtyeight')\n",
        "plt.figure(figsize=(16,8))\n",
        "plt.scatter(y_test,y_pred)\n",
        "plt.xlabel('Actual')\n",
        "plt.ylabel('Predicted')\n",
        "plt.title('Actual vs Predicted')"
      ],
      "execution_count": 173,
      "outputs": [
        {
          "output_type": "execute_result",
          "data": {
            "text/plain": [
              "Text(0.5, 1.0, 'Actual vs Predicted')"
            ]
          },
          "metadata": {
            "tags": []
          },
          "execution_count": 173
        },
        {
          "output_type": "display_data",
          "data": {
            "image/png": "[encoded data removed]",
            "text/plain": [
              "<Figure size 1152x576 with 1 Axes>"
            ]
          },
          "metadata": {
            "tags": []
          }
        }
      ]
    },
    {
      "cell_type": "markdown",
      "metadata": {
        "id": "AOWvVWDlE5qp"
      },
      "source": [
        "**station o12**\n"
      ]
    },
    {
      "cell_type": "code",
      "metadata": {
        "id": "oXG4haxjDj8X"
      },
      "source": [
        "#x = dfbus[['Hours','SecMin','Line','o2','o3','o4','o5','o6','o7','o8','o9','o10','o11']].values\n",
        "\n",
        "#X with dummy weekday\n",
        "x = dfbus[['Hours','SecMin','Line','o2','o3','o4','o5','o6','o7','o8','o9','o10','o11','Sun','Mon','Tue','Wed','Thu']].values\n",
        "y = dfbus['o12'].values"
      ],
      "execution_count": 174,
      "outputs": []
    },
    {
      "cell_type": "code",
      "metadata": {
        "colab": {
          "base_uri": "https://localhost:8080/"
        },
        "id": "wpS88_ifDoFD",
        "outputId": "2482b957-134c-4d97-eb32-59a26692eef7"
      },
      "source": [
        "model_o12, y_test, y_pred = model(x,y)\n",
        "arr = [hour,minSec,line,o2[0],o3[0],o4[0],o5[0],o6[0],o7[0],o8[0],o9[0],o10[0],o11[0],weekDay[0],weekDay[1],weekDay[2],weekDay[3],weekDay[4]]\n",
        "#arr = [hour,minSec,line,o2[0],o3[0],o4[0],o5[0],o6[0],o7[0],o8[0],o9[0],o10[0],o11[0]]\n",
        "arr = np.array(arr).reshape((1,-1))\n",
        "o12 = model_o12.predict(np.array(arr).reshape((1,-1)))\n",
        "print(o12)"
      ],
      "execution_count": 175,
      "outputs": [
        {
          "output_type": "stream",
          "text": [
            "[12:26:45] WARNING: /workspace/src/objective/regression_obj.cu:152: reg:linear is now deprecated in favor of reg:squarederror.\n",
            "[1197.6729]\n"
          ],
          "name": "stdout"
        }
      ]
    },
    {
      "cell_type": "code",
      "metadata": {
        "colab": {
          "base_uri": "https://localhost:8080/"
        },
        "id": "0bwJPcTpfLn0",
        "outputId": "dd976cc7-1f87-44ef-e6b4-cdecde4657c7"
      },
      "source": [
        "r2_score(y_test,y_pred)"
      ],
      "execution_count": 176,
      "outputs": [
        {
          "output_type": "execute_result",
          "data": {
            "text/plain": [
              "0.9919597799719352"
            ]
          },
          "metadata": {
            "tags": []
          },
          "execution_count": 176
        }
      ]
    },
    {
      "cell_type": "code",
      "metadata": {
        "colab": {
          "base_uri": "https://localhost:8080/"
        },
        "id": "zFdDY8_gymap",
        "outputId": "59bfa476-657a-4221-ffaf-3c21784d946a"
      },
      "source": [
        "mse = mean_squared_error(y_test,y_pred)\n",
        "print(\"MSE: %.2f\" % mse)\n",
        "print(\"RMSE: %.2f\" % np.sqrt(mse))"
      ],
      "execution_count": 177,
      "outputs": [
        {
          "output_type": "stream",
          "text": [
            "MSE: 120.05\n",
            "RMSE: 10.96\n"
          ],
          "name": "stdout"
        }
      ]
    },
    {
      "cell_type": "code",
      "metadata": {
        "colab": {
          "base_uri": "https://localhost:8080/",
          "height": 417
        },
        "id": "YeTx4Sfe8B_S",
        "outputId": "8ce93175-6c6f-4135-dde2-3d8062ff39c4"
      },
      "source": [
        "pred_y_df = pd.DataFrame({'Actual': y_test, 'Predicted': y_pred, 'Diff':y_test-y_pred})\n",
        "pred_y_df"
      ],
      "execution_count": 178,
      "outputs": [
        {
          "output_type": "execute_result",
          "data": {
            "text/html": [
              "<div>\n",
              "<style scoped>\n",
              "    .dataframe tbody tr th:only-of-type {\n",
              "        vertical-align: middle;\n",
              "    }\n",
              "\n",
              "    .dataframe tbody tr th {\n",
              "        vertical-align: top;\n",
              "    }\n",
              "\n",
              "    .dataframe thead th {\n",
              "        text-align: right;\n",
              "    }\n",
              "</style>\n",
              "<table border=\"1\" class=\"dataframe\">\n",
              "  <thead>\n",
              "    <tr style=\"text-align: right;\">\n",
              "      <th></th>\n",
              "      <th>Actual</th>\n",
              "      <th>Predicted</th>\n",
              "      <th>Diff</th>\n",
              "    </tr>\n",
              "  </thead>\n",
              "  <tbody>\n",
              "    <tr>\n",
              "      <th>0</th>\n",
              "      <td>968</td>\n",
              "      <td>963.424988</td>\n",
              "      <td>4.575012</td>\n",
              "    </tr>\n",
              "    <tr>\n",
              "      <th>1</th>\n",
              "      <td>984</td>\n",
              "      <td>981.698303</td>\n",
              "      <td>2.301697</td>\n",
              "    </tr>\n",
              "    <tr>\n",
              "      <th>2</th>\n",
              "      <td>993</td>\n",
              "      <td>993.942871</td>\n",
              "      <td>-0.942871</td>\n",
              "    </tr>\n",
              "    <tr>\n",
              "      <th>3</th>\n",
              "      <td>951</td>\n",
              "      <td>951.868958</td>\n",
              "      <td>-0.868958</td>\n",
              "    </tr>\n",
              "    <tr>\n",
              "      <th>4</th>\n",
              "      <td>1188</td>\n",
              "      <td>1167.575806</td>\n",
              "      <td>20.424194</td>\n",
              "    </tr>\n",
              "    <tr>\n",
              "      <th>...</th>\n",
              "      <td>...</td>\n",
              "      <td>...</td>\n",
              "      <td>...</td>\n",
              "    </tr>\n",
              "    <tr>\n",
              "      <th>311</th>\n",
              "      <td>969</td>\n",
              "      <td>963.193176</td>\n",
              "      <td>5.806824</td>\n",
              "    </tr>\n",
              "    <tr>\n",
              "      <th>312</th>\n",
              "      <td>932</td>\n",
              "      <td>930.422302</td>\n",
              "      <td>1.577698</td>\n",
              "    </tr>\n",
              "    <tr>\n",
              "      <th>313</th>\n",
              "      <td>1001</td>\n",
              "      <td>1001.710022</td>\n",
              "      <td>-0.710022</td>\n",
              "    </tr>\n",
              "    <tr>\n",
              "      <th>314</th>\n",
              "      <td>890</td>\n",
              "      <td>884.216614</td>\n",
              "      <td>5.783386</td>\n",
              "    </tr>\n",
              "    <tr>\n",
              "      <th>315</th>\n",
              "      <td>956</td>\n",
              "      <td>958.862305</td>\n",
              "      <td>-2.862305</td>\n",
              "    </tr>\n",
              "  </tbody>\n",
              "</table>\n",
              "<p>316 rows × 3 columns</p>\n",
              "</div>"
            ],
            "text/plain": [
              "     Actual    Predicted       Diff\n",
              "0       968   963.424988   4.575012\n",
              "1       984   981.698303   2.301697\n",
              "2       993   993.942871  -0.942871\n",
              "3       951   951.868958  -0.868958\n",
              "4      1188  1167.575806  20.424194\n",
              "..      ...          ...        ...\n",
              "311     969   963.193176   5.806824\n",
              "312     932   930.422302   1.577698\n",
              "313    1001  1001.710022  -0.710022\n",
              "314     890   884.216614   5.783386\n",
              "315     956   958.862305  -2.862305\n",
              "\n",
              "[316 rows x 3 columns]"
            ]
          },
          "metadata": {
            "tags": []
          },
          "execution_count": 178
        }
      ]
    },
    {
      "cell_type": "code",
      "metadata": {
        "colab": {
          "base_uri": "https://localhost:8080/"
        },
        "id": "k_7g-w8b8CCE",
        "outputId": "926ffdfb-73a5-4ed0-b746-ec93a5afd7b6"
      },
      "source": [
        "print('Minimum: ',pred_y_df['Diff'].min())\n",
        "print('Maximum: ',pred_y_df['Diff'].max())\n",
        "print('Average: ',np.abs(pred_y_df['Diff']).mean())\n",
        "print('STD: ',pred_y_df['Diff'].std())"
      ],
      "execution_count": 179,
      "outputs": [
        {
          "output_type": "stream",
          "text": [
            "Minimum:  -44.80169677734375\n",
            "Maximum:  58.45367431640625\n",
            "Average:  6.794011562685423\n",
            "STD:  10.962746174833999\n"
          ],
          "name": "stdout"
        }
      ]
    },
    {
      "cell_type": "code",
      "metadata": {
        "colab": {
          "base_uri": "https://localhost:8080/",
          "height": 575
        },
        "id": "_GbEyanv1_q2",
        "outputId": "3750ff43-49c3-4fdf-dcfb-096ba2bc6c3f"
      },
      "source": [
        "plt.style.use('fivethirtyeight')\n",
        "plt.figure(figsize=(16,8))\n",
        "plt.scatter(y_test,y_pred)\n",
        "plt.xlabel('Actual')\n",
        "plt.ylabel('Predicted')\n",
        "plt.title('Actual vs Predicted')"
      ],
      "execution_count": 180,
      "outputs": [
        {
          "output_type": "execute_result",
          "data": {
            "text/plain": [
              "Text(0.5, 1.0, 'Actual vs Predicted')"
            ]
          },
          "metadata": {
            "tags": []
          },
          "execution_count": 180
        },
        {
          "output_type": "display_data",
          "data": {
            "image/png": "[encoded data removed]",
            "text/plain": [
              "<Figure size 1152x576 with 1 Axes>"
            ]
          },
          "metadata": {
            "tags": []
          }
        }
      ]
    },
    {
      "cell_type": "markdown",
      "metadata": {
        "id": "iKogNc0XE6UO"
      },
      "source": [
        "**station o13**\n"
      ]
    },
    {
      "cell_type": "code",
      "metadata": {
        "id": "DPdMOpJ3DoQm"
      },
      "source": [
        "#x = dfbus[['Hours','SecMin','Line','o2','o3','o4','o5','o6','o7','o8','o9','o10','o11','o12']].values\n",
        "\n",
        "#X with dummy weekday\n",
        "x = dfbus[['Hours','SecMin','Line','o2','o3','o4','o5','o6','o7','o8','o9','o10','o11','o12','Sun','Mon','Tue','Wed','Thu']].values\n",
        "y = dfbus['o13'].values"
      ],
      "execution_count": 181,
      "outputs": []
    },
    {
      "cell_type": "code",
      "metadata": {
        "colab": {
          "base_uri": "https://localhost:8080/"
        },
        "id": "YpUTaXCzDtDq",
        "outputId": "148886d6-79d8-44df-fbc6-fdf98958c267"
      },
      "source": [
        "model_o13, y_test, y_pred = model(x,y)\n",
        "arr = [hour,minSec,line,o2[0],o3[0],o4[0],o5[0],o6[0],o7[0],o8[0],o9[0],o10[0],o11[0],o12[0],weekDay[0],weekDay[1],weekDay[2],weekDay[3],weekDay[4]]\n",
        "#arr = [hour,minSec,line,o2[0],o3[0],o4[0],o5[0],o6[0],o7[0],o8[0],o9[0],o10[0],o11[0],o12[0]]\n",
        "arr = np.array(arr).reshape((1,-1))\n",
        "o13 = model_o13.predict(np.array(arr).reshape((1,-1)))\n",
        "print(o13)"
      ],
      "execution_count": 182,
      "outputs": [
        {
          "output_type": "stream",
          "text": [
            "[12:26:45] WARNING: /workspace/src/objective/regression_obj.cu:152: reg:linear is now deprecated in favor of reg:squarederror.\n",
            "[1268.8263]\n"
          ],
          "name": "stdout"
        }
      ]
    },
    {
      "cell_type": "code",
      "metadata": {
        "colab": {
          "base_uri": "https://localhost:8080/"
        },
        "id": "nz6_j3rlfMKV",
        "outputId": "d9621155-361b-41ce-e63b-e7e7f2ad0ef6"
      },
      "source": [
        "r2_score(y_test,y_pred)"
      ],
      "execution_count": 183,
      "outputs": [
        {
          "output_type": "execute_result",
          "data": {
            "text/plain": [
              "0.9746086206739885"
            ]
          },
          "metadata": {
            "tags": []
          },
          "execution_count": 183
        }
      ]
    },
    {
      "cell_type": "code",
      "metadata": {
        "colab": {
          "base_uri": "https://localhost:8080/"
        },
        "id": "u6YuK4dBynE9",
        "outputId": "f4a8e970-eabb-43b7-fa54-11f5f6dbb2a3"
      },
      "source": [
        "mse = mean_squared_error(y_test,y_pred)\n",
        "print(\"MSE: %.2f\" % mse)\n",
        "print(\"RMSE: %.2f\" % np.sqrt(mse))"
      ],
      "execution_count": 184,
      "outputs": [
        {
          "output_type": "stream",
          "text": [
            "MSE: 412.48\n",
            "RMSE: 20.31\n"
          ],
          "name": "stdout"
        }
      ]
    },
    {
      "cell_type": "code",
      "metadata": {
        "colab": {
          "base_uri": "https://localhost:8080/",
          "height": 417
        },
        "id": "U8mm4tuf8DWT",
        "outputId": "07b6e999-8369-469e-ecdc-3846c323fac9"
      },
      "source": [
        "pred_y_df = pd.DataFrame({'Actual': y_test, 'Predicted': y_pred, 'Diff':y_test-y_pred})\n",
        "pred_y_df"
      ],
      "execution_count": 185,
      "outputs": [
        {
          "output_type": "execute_result",
          "data": {
            "text/html": [
              "<div>\n",
              "<style scoped>\n",
              "    .dataframe tbody tr th:only-of-type {\n",
              "        vertical-align: middle;\n",
              "    }\n",
              "\n",
              "    .dataframe tbody tr th {\n",
              "        vertical-align: top;\n",
              "    }\n",
              "\n",
              "    .dataframe thead th {\n",
              "        text-align: right;\n",
              "    }\n",
              "</style>\n",
              "<table border=\"1\" class=\"dataframe\">\n",
              "  <thead>\n",
              "    <tr style=\"text-align: right;\">\n",
              "      <th></th>\n",
              "      <th>Actual</th>\n",
              "      <th>Predicted</th>\n",
              "      <th>Diff</th>\n",
              "    </tr>\n",
              "  </thead>\n",
              "  <tbody>\n",
              "    <tr>\n",
              "      <th>0</th>\n",
              "      <td>1022</td>\n",
              "      <td>1016.294678</td>\n",
              "      <td>5.705322</td>\n",
              "    </tr>\n",
              "    <tr>\n",
              "      <th>1</th>\n",
              "      <td>1029</td>\n",
              "      <td>1034.700195</td>\n",
              "      <td>-5.700195</td>\n",
              "    </tr>\n",
              "    <tr>\n",
              "      <th>2</th>\n",
              "      <td>1043</td>\n",
              "      <td>1043.375366</td>\n",
              "      <td>-0.375366</td>\n",
              "    </tr>\n",
              "    <tr>\n",
              "      <th>3</th>\n",
              "      <td>997</td>\n",
              "      <td>1003.336731</td>\n",
              "      <td>-6.336731</td>\n",
              "    </tr>\n",
              "    <tr>\n",
              "      <th>4</th>\n",
              "      <td>1251</td>\n",
              "      <td>1239.203613</td>\n",
              "      <td>11.796387</td>\n",
              "    </tr>\n",
              "    <tr>\n",
              "      <th>...</th>\n",
              "      <td>...</td>\n",
              "      <td>...</td>\n",
              "      <td>...</td>\n",
              "    </tr>\n",
              "    <tr>\n",
              "      <th>311</th>\n",
              "      <td>1023</td>\n",
              "      <td>1015.087341</td>\n",
              "      <td>7.912659</td>\n",
              "    </tr>\n",
              "    <tr>\n",
              "      <th>312</th>\n",
              "      <td>981</td>\n",
              "      <td>976.474121</td>\n",
              "      <td>4.525879</td>\n",
              "    </tr>\n",
              "    <tr>\n",
              "      <th>313</th>\n",
              "      <td>1047</td>\n",
              "      <td>1050.569702</td>\n",
              "      <td>-3.569702</td>\n",
              "    </tr>\n",
              "    <tr>\n",
              "      <th>314</th>\n",
              "      <td>897</td>\n",
              "      <td>915.369568</td>\n",
              "      <td>-18.369568</td>\n",
              "    </tr>\n",
              "    <tr>\n",
              "      <th>315</th>\n",
              "      <td>1014</td>\n",
              "      <td>1005.271606</td>\n",
              "      <td>8.728394</td>\n",
              "    </tr>\n",
              "  </tbody>\n",
              "</table>\n",
              "<p>316 rows × 3 columns</p>\n",
              "</div>"
            ],
            "text/plain": [
              "     Actual    Predicted       Diff\n",
              "0      1022  1016.294678   5.705322\n",
              "1      1029  1034.700195  -5.700195\n",
              "2      1043  1043.375366  -0.375366\n",
              "3       997  1003.336731  -6.336731\n",
              "4      1251  1239.203613  11.796387\n",
              "..      ...          ...        ...\n",
              "311    1023  1015.087341   7.912659\n",
              "312     981   976.474121   4.525879\n",
              "313    1047  1050.569702  -3.569702\n",
              "314     897   915.369568 -18.369568\n",
              "315    1014  1005.271606   8.728394\n",
              "\n",
              "[316 rows x 3 columns]"
            ]
          },
          "metadata": {
            "tags": []
          },
          "execution_count": 185
        }
      ]
    },
    {
      "cell_type": "code",
      "metadata": {
        "colab": {
          "base_uri": "https://localhost:8080/"
        },
        "id": "2HgINprk8DZD",
        "outputId": "67e43ec7-107d-42f5-b29b-718a8a599a09"
      },
      "source": [
        "print('Minimum: ',pred_y_df['Diff'].min())\n",
        "print('Maximum: ',pred_y_df['Diff'].max())\n",
        "print('Average: ',np.abs(pred_y_df['Diff']).mean())\n",
        "print('STD: ',pred_y_df['Diff'].std())"
      ],
      "execution_count": 186,
      "outputs": [
        {
          "output_type": "stream",
          "text": [
            "Minimum:  -227.5035400390625\n",
            "Maximum:  64.419189453125\n",
            "Average:  10.412252112279964\n",
            "STD:  20.222593405229556\n"
          ],
          "name": "stdout"
        }
      ]
    },
    {
      "cell_type": "code",
      "metadata": {
        "colab": {
          "base_uri": "https://localhost:8080/",
          "height": 575
        },
        "id": "I9OE1BpE2BBJ",
        "outputId": "efab9c8c-8528-43ce-9c15-d34dc6bddfe2"
      },
      "source": [
        "plt.style.use('fivethirtyeight')\n",
        "plt.figure(figsize=(16,8))\n",
        "plt.scatter(y_test,y_pred)\n",
        "plt.xlabel('Actual')\n",
        "plt.ylabel('Predicted')\n",
        "plt.title('Actual vs Predicted')"
      ],
      "execution_count": 187,
      "outputs": [
        {
          "output_type": "execute_result",
          "data": {
            "text/plain": [
              "Text(0.5, 1.0, 'Actual vs Predicted')"
            ]
          },
          "metadata": {
            "tags": []
          },
          "execution_count": 187
        },
        {
          "output_type": "display_data",
          "data": {
            "image/png": "[encoded data removed]",
            "text/plain": [
              "<Figure size 1152x576 with 1 Axes>"
            ]
          },
          "metadata": {
            "tags": []
          }
        }
      ]
    },
    {
      "cell_type": "markdown",
      "metadata": {
        "id": "KfzvVyoQ9WIE"
      },
      "source": [
        "#Final result, Real Times vs Predicted Times"
      ]
    },
    {
      "cell_type": "code",
      "metadata": {
        "id": "OCT8Vzuc9Ueq"
      },
      "source": [
        "#real data with weekday, in our example Tuesday\n",
        "#dfbus.loc[(dfbus['Hours'] == 16) & (dfbus['SecMin'] == 45*60) & (dfbus['Tue']==1)]\n",
        "#dfbus.loc[(dfbus['Hours'] == 11) & (dfbus['SecMin'] == 25*60) & (dfbus['Tue']==1)]"
      ],
      "execution_count": 188,
      "outputs": []
    },
    {
      "cell_type": "code",
      "metadata": {
        "id": "FHy_TJSewGPv",
        "colab": {
          "base_uri": "https://localhost:8080/",
          "height": 100
        },
        "outputId": "39d932c6-c74f-4911-f716-4c6e1438168e"
      },
      "source": [
        "#predicted dataframe\n",
        "dfPredicted = pd.DataFrame(columns=['WeekDay','Hours','Minutes','Line','o2', 'o3', 'o4','o5','o6','o7', 'o8', 'o9','o10','o11','o12','o13'])\n",
        "dfPredicted = dfPredicted.append({'WeekDay':'Tuesday','Hours':hour,'Minutes':minSec, 'Line':921,\n",
        "                    'o2': o2[0],\n",
        "                    'o3': o3[0],\n",
        "                    'o4': o4[0],\n",
        "                    'o5': o5[0],\n",
        "                    'o6': o6[0],\n",
        "                    'o7': o7[0],\n",
        "                    'o8': o8[0],\n",
        "                    'o9': o9[0],\n",
        "                    'o10': o10[0],\n",
        "                    'o11': o11[0],\n",
        "                    'o12': o12[0],\n",
        "                    'o13': o13[0]},ignore_index=True)\n",
        "dfPredicted\n"
      ],
      "execution_count": 189,
      "outputs": [
        {
          "output_type": "execute_result",
          "data": {
            "text/html": [
              "<div>\n",
              "<style scoped>\n",
              "    .dataframe tbody tr th:only-of-type {\n",
              "        vertical-align: middle;\n",
              "    }\n",
              "\n",
              "    .dataframe tbody tr th {\n",
              "        vertical-align: top;\n",
              "    }\n",
              "\n",
              "    .dataframe thead th {\n",
              "        text-align: right;\n",
              "    }\n",
              "</style>\n",
              "<table border=\"1\" class=\"dataframe\">\n",
              "  <thead>\n",
              "    <tr style=\"text-align: right;\">\n",
              "      <th></th>\n",
              "      <th>WeekDay</th>\n",
              "      <th>Hours</th>\n",
              "      <th>Minutes</th>\n",
              "      <th>Line</th>\n",
              "      <th>o2</th>\n",
              "      <th>o3</th>\n",
              "      <th>o4</th>\n",
              "      <th>o5</th>\n",
              "      <th>o6</th>\n",
              "      <th>o7</th>\n",
              "      <th>o8</th>\n",
              "      <th>o9</th>\n",
              "      <th>o10</th>\n",
              "      <th>o11</th>\n",
              "      <th>o12</th>\n",
              "      <th>o13</th>\n",
              "    </tr>\n",
              "  </thead>\n",
              "  <tbody>\n",
              "    <tr>\n",
              "      <th>0</th>\n",
              "      <td>Tuesday</td>\n",
              "      <td>16</td>\n",
              "      <td>2700</td>\n",
              "      <td>921</td>\n",
              "      <td>256.359314</td>\n",
              "      <td>416.539429</td>\n",
              "      <td>451.463745</td>\n",
              "      <td>628.23407</td>\n",
              "      <td>757.937012</td>\n",
              "      <td>865.563293</td>\n",
              "      <td>937.840454</td>\n",
              "      <td>1031.2229</td>\n",
              "      <td>1106.880493</td>\n",
              "      <td>1167.333496</td>\n",
              "      <td>1197.672852</td>\n",
              "      <td>1268.826294</td>\n",
              "    </tr>\n",
              "  </tbody>\n",
              "</table>\n",
              "</div>"
            ],
            "text/plain": [
              "   WeekDay Hours Minutes  ...          o11          o12          o13\n",
              "0  Tuesday    16    2700  ...  1167.333496  1197.672852  1268.826294\n",
              "\n",
              "[1 rows x 16 columns]"
            ]
          },
          "metadata": {
            "tags": []
          },
          "execution_count": 189
        }
      ]
    },
    {
      "cell_type": "markdown",
      "metadata": {
        "id": "iZny8quRzEKi"
      },
      "source": [
        "**Compare data between predicted to real if is it different.**"
      ]
    },
    {
      "cell_type": "code",
      "metadata": {
        "colab": {
          "base_uri": "https://localhost:8080/"
        },
        "id": "WLCuJYJ0rwkQ",
        "outputId": "fff9ecf2-11ef-42bb-a5d3-9129e7c550f7"
      },
      "source": [
        "#Real data converting station times to array (only for specific day, in our example it is Tuesday)\n",
        "dfDt = dfbus.loc[(dfbus['Hours'] == 16) & (dfbus['SecMin'] == 45*60) & (dfbus['Tue']==1)]\n",
        "#dfDt = dfbus.loc[(dfbus['Hours'] == 11) & (dfbus['SecMin'] == 25*60) & (dfbus['Tue']==1)]\n",
        "dfDt.drop('WeekDay', axis='columns', inplace=True)\n",
        "dfDt.drop('Hours', axis='columns', inplace=True)\n",
        "dfDt.drop('SecMin', axis='columns', inplace=True)\n",
        "dfDt.drop('Line', axis='columns', inplace=True)\n",
        "arr = dfDt.to_numpy()"
      ],
      "execution_count": 190,
      "outputs": [
        {
          "output_type": "stream",
          "text": [
            "/usr/local/lib/python3.7/dist-packages/pandas/core/frame.py:4174: SettingWithCopyWarning: \n",
            "A value is trying to be set on a copy of a slice from a DataFrame\n",
            "\n",
            "See the caveats in the documentation: https://pandas.pydata.org/pandas-docs/stable/user_guide/indexing.html#returning-a-view-versus-a-copy\n",
            "  errors=errors,\n"
          ],
          "name": "stderr"
        }
      ]
    },
    {
      "cell_type": "code",
      "metadata": {
        "colab": {
          "base_uri": "https://localhost:8080/"
        },
        "id": "rerqJZfwEzUK",
        "outputId": "73232c3d-a47e-4ada-c479-f6f6b49367c4"
      },
      "source": [
        "#Real data converting station times to array( for all days in this time, in our example Time is: 16:45)\n",
        "dfDtAll = dfbus.loc[(dfbus['Hours'] == 16) & (dfbus['SecMin'] == 45*60)]\n",
        "#dfDtAll = dfbus.loc[(dfbus['Hours'] == 11) & (dfbus['SecMin'] == 25*60)]\n",
        "dfDtAll.drop('WeekDay', axis='columns', inplace=True)\n",
        "dfDtAll.drop('Hours', axis='columns', inplace=True)\n",
        "dfDtAll.drop('SecMin', axis='columns', inplace=True)\n",
        "dfDtAll.drop('Line', axis='columns', inplace=True)\n",
        "arrAll = dfDtAll.to_numpy()"
      ],
      "execution_count": 191,
      "outputs": [
        {
          "output_type": "stream",
          "text": [
            "/usr/local/lib/python3.7/dist-packages/pandas/core/frame.py:4174: SettingWithCopyWarning: \n",
            "A value is trying to be set on a copy of a slice from a DataFrame\n",
            "\n",
            "See the caveats in the documentation: https://pandas.pydata.org/pandas-docs/stable/user_guide/indexing.html#returning-a-view-versus-a-copy\n",
            "  errors=errors,\n"
          ],
          "name": "stderr"
        }
      ]
    },
    {
      "cell_type": "code",
      "metadata": {
        "id": "TJSsbFuitMbu"
      },
      "source": [
        "#Predicted data converting station times to array\n",
        "dfDt2 = dfPredicted\n",
        "dfDt2.drop('WeekDay', axis='columns', inplace=True)\n",
        "dfDt2.drop('Hours', axis='columns', inplace=True)\n",
        "dfDt2.drop('Minutes', axis='columns', inplace=True)\n",
        "dfDt2.drop('Line', axis='columns', inplace=True)\n",
        "arr2 = dfDt2.to_numpy()"
      ],
      "execution_count": 192,
      "outputs": []
    },
    {
      "cell_type": "code",
      "metadata": {
        "colab": {
          "base_uri": "https://localhost:8080/"
        },
        "id": "0k9bL1V2t5ZG",
        "outputId": "a51b1a2d-40d9-4b02-a091-e5e8db7c7de7"
      },
      "source": [
        "#Checking the difference between predicted to real data, and print percent accuracy for \n",
        "#specific day in our example it was Tuesday\n",
        "#Departure time 16:45 or another example 11:25\n",
        "cntSame = 0\n",
        "cntDiff = 0\n",
        "for i in range(arr.shape[0]):\n",
        "  cntSame, cntDiff = checkDiff(arr2[0],arr[i],cntSame,cntDiff)\n",
        "print(\"The accuracy of the same data:\",cntSame/arr.shape[0]*100)\n",
        "print(\"The accuracy of the different data:\",cntDiff/arr.shape[0]*100)"
      ],
      "execution_count": 193,
      "outputs": [
        {
          "output_type": "stream",
          "text": [
            "Statistics=60.000, p=0.033\n",
            "Statistics=66.000, p=0.058\n",
            "Statistics=60.000, p=0.033\n",
            "Statistics=65.000, p=0.053\n",
            "Statistics=66.000, p=0.058\n",
            "Statistics=67.000, p=0.063\n",
            "Statistics=65.000, p=0.053\n",
            "Statistics=63.000, p=0.044\n",
            "Statistics=74.000, p=0.111\n",
            "Statistics=80.000, p=0.170\n",
            "Statistics=73.000, p=0.103\n",
            "Statistics=79.000, p=0.159\n",
            "Statistics=86.000, p=0.246\n",
            "Statistics=91.000, p=0.321\n",
            "Statistics=80.000, p=0.170\n",
            "Statistics=87.000, p=0.260\n",
            "Statistics=75.000, p=0.120\n",
            "Statistics=75.000, p=0.120\n",
            "Statistics=75.000, p=0.120\n",
            "Statistics=85.000, p=0.232\n",
            "Statistics=57.000, p=0.024\n",
            "The accuracy of the same data: 80.95238095238095\n",
            "The accuracy of the different data: 19.047619047619047\n"
          ],
          "name": "stdout"
        }
      ]
    },
    {
      "cell_type": "code",
      "metadata": {
        "colab": {
          "base_uri": "https://localhost:8080/"
        },
        "id": "GnsFkDTJEJTb",
        "outputId": "455a8bbe-5dcf-48b8-8b6c-a1011528941c"
      },
      "source": [
        "#Checking the difference between predicted to real data, and print percent accuracy for \n",
        "#all data in same hour\n",
        "#Departure time 16:45 or another example 11:25\n",
        "cntSame = 0\n",
        "cntDiff = 0\n",
        "for i in range(arrAll.shape[0]):\n",
        "  cntSame, cntDiff = checkDiff(arr2[0],arrAll[i],cntSame,cntDiff)\n",
        "print(\"The accuracy of the same data:\",cntSame/arrAll.shape[0]*100)\n",
        "print(\"The accuracy of the different data:\",cntDiff/arrAll.shape[0]*100)"
      ],
      "execution_count": 194,
      "outputs": [
        {
          "output_type": "stream",
          "text": [
            "Statistics=60.000, p=0.033\n",
            "Statistics=66.000, p=0.058\n",
            "Statistics=60.000, p=0.033\n",
            "Statistics=65.000, p=0.053\n",
            "Statistics=66.000, p=0.058\n",
            "Statistics=67.000, p=0.063\n",
            "Statistics=65.000, p=0.053\n",
            "Statistics=63.000, p=0.044\n",
            "Statistics=74.000, p=0.111\n",
            "Statistics=80.000, p=0.170\n",
            "Statistics=73.000, p=0.103\n",
            "Statistics=79.000, p=0.159\n",
            "Statistics=86.000, p=0.246\n",
            "Statistics=91.000, p=0.321\n",
            "Statistics=80.000, p=0.170\n",
            "Statistics=87.000, p=0.260\n",
            "Statistics=75.000, p=0.120\n",
            "Statistics=75.000, p=0.120\n",
            "Statistics=75.000, p=0.120\n",
            "Statistics=91.000, p=0.321\n",
            "Statistics=97.000, p=0.421\n",
            "Statistics=96.000, p=0.404\n",
            "Statistics=101.000, p=0.491\n",
            "Statistics=94.000, p=0.370\n",
            "Statistics=96.000, p=0.404\n",
            "Statistics=26.000, p=0.000\n",
            "Statistics=65.000, p=0.053\n",
            "Statistics=59.000, p=0.030\n",
            "Statistics=87.000, p=0.260\n",
            "Statistics=69.000, p=0.075\n",
            "Statistics=85.000, p=0.232\n",
            "Statistics=52.000, p=0.014\n",
            "Statistics=57.000, p=0.024\n",
            "The accuracy of the same data: 78.78787878787878\n",
            "The accuracy of the different data: 21.21212121212121\n"
          ],
          "name": "stdout"
        }
      ]
    }
  ]
}